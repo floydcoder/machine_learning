{
  "nbformat": 4,
  "nbformat_minor": 0,
  "metadata": {
    "colab": {
      "provenance": []
    },
    "kernelspec": {
      "name": "python3",
      "display_name": "Python 3"
    }
  },
  "cells": [
    {
      "cell_type": "markdown",
      "metadata": {
        "id": "GdRF-CSJq5Yx"
      },
      "source": [
        "# Assignment 02\n",
        "\n",
        "Dear Team Members,\n",
        "\n",
        "I hope you are doing GREAT!\n",
        "\n",
        "The following assignment is a step-by-step process to implement a multiclass classification using Iris classical dataset.\n",
        "The idea of the current assignment is to intensify what we have learned in deep learning.\n",
        "\n",
        "There are some new concepts and challenges that we will face in the current assignment, and we need to resolve each issue and move to the next step.\n",
        "\n",
        "After the midterm, we will discuss part of the potential challenges. The assignment is easy to follow yet needs the patience to solve each question at a time.\n",
        "\n",
        "**Note:**\n",
        "\n",
        "Please note that every question has 0.5 and it provides five out of total ten marks for the assignment.\n",
        "\n",
        "The video presentation, as you have done for Assignment 01, provides the rest of the mark, which is 5.\n",
        "\n",
        "In short, 5 for coding + 5 for the video presentation = 10, but without YouTube presentation you receive no mark for the submission. In short, only submissions with YouTube link will be marked.\n"
      ]
    },
    {
      "cell_type": "code",
      "metadata": {
        "id": "NpsNfbeiqtC-"
      },
      "source": [
        "#00 The iris.csv file (Iris dataset) is located in the Assignment folder below the current ipynb file."
      ],
      "execution_count": 7,
      "outputs": []
    },
    {
      "cell_type": "markdown",
      "metadata": {
        "id": "YjARgMOGP5W7"
      },
      "source": [
        " **Important Note:** We are NOT allowed to import the dataset from Keras. We need to upload the provided iris.csv file to colab from our Google Drive."
      ]
    },
    {
      "cell_type": "code",
      "metadata": {
        "id": "8cu01QQpGT32"
      },
      "source": [
        "#00 1st, upload the iris.csv into your Google Drive (your Colab folder)."
      ],
      "execution_count": 8,
      "outputs": []
    },
    {
      "cell_type": "code",
      "metadata": {
        "id": "-PrhESFFHEQc"
      },
      "source": [
        "#01-a Find the path of iris.csv file, and save it in a variable called fileName."
      ],
      "execution_count": 9,
      "outputs": []
    },
    {
      "cell_type": "code",
      "metadata": {
        "id": "5-1y84ZDG2PU"
      },
      "source": [
        "import pandas as pd\n",
        "fileName = './sample_data/iris.csv'"
      ],
      "execution_count": 10,
      "outputs": []
    },
    {
      "cell_type": "code",
      "metadata": {
        "id": "EpPebb_uHCcU"
      },
      "source": [
        "#01-b Read the content of the iris.csv file and save it in a variable, named iris."
      ],
      "execution_count": 11,
      "outputs": []
    },
    {
      "cell_type": "code",
      "metadata": {
        "id": "o-Wps1uaHt4H",
        "colab": {
          "base_uri": "https://localhost:8080/"
        },
        "outputId": "24f3b9c5-8db5-49e8-e361-d781bd0117de"
      },
      "source": [
        "iris = pd.read_csv('./sample_data/iris.csv')\n",
        "type(iris)"
      ],
      "execution_count": 12,
      "outputs": [
        {
          "output_type": "execute_result",
          "data": {
            "text/plain": [
              "pandas.core.frame.DataFrame"
            ]
          },
          "metadata": {},
          "execution_count": 12
        }
      ]
    },
    {
      "cell_type": "code",
      "metadata": {
        "id": "4REixnacH0NT"
      },
      "source": [
        "#01-c Show the first 5 rows of the dataframe."
      ],
      "execution_count": 13,
      "outputs": []
    },
    {
      "cell_type": "code",
      "metadata": {
        "id": "M5oKPwinH_WM",
        "colab": {
          "base_uri": "https://localhost:8080/",
          "height": 206
        },
        "outputId": "c5c7e8d4-dd18-4a50-87c6-3171f1fd3a30"
      },
      "source": [
        "iris.head(5)"
      ],
      "execution_count": 76,
      "outputs": [
        {
          "output_type": "execute_result",
          "data": {
            "text/plain": [
              "   sepal_length  sepal_width  petal_length  petal_width  species\n",
              "0           5.1          3.5           1.4          0.2        0\n",
              "1           4.9          3.0           1.4          0.2        0\n",
              "2           4.7          3.2           1.3          0.2        0\n",
              "3           4.6          3.1           1.5          0.2        0\n",
              "4           5.0          3.6           1.4          0.2        0"
            ],
            "text/html": [
              "\n",
              "  <div id=\"df-cece15a3-25cc-447e-9200-f7ce3fd969e6\">\n",
              "    <div class=\"colab-df-container\">\n",
              "      <div>\n",
              "<style scoped>\n",
              "    .dataframe tbody tr th:only-of-type {\n",
              "        vertical-align: middle;\n",
              "    }\n",
              "\n",
              "    .dataframe tbody tr th {\n",
              "        vertical-align: top;\n",
              "    }\n",
              "\n",
              "    .dataframe thead th {\n",
              "        text-align: right;\n",
              "    }\n",
              "</style>\n",
              "<table border=\"1\" class=\"dataframe\">\n",
              "  <thead>\n",
              "    <tr style=\"text-align: right;\">\n",
              "      <th></th>\n",
              "      <th>sepal_length</th>\n",
              "      <th>sepal_width</th>\n",
              "      <th>petal_length</th>\n",
              "      <th>petal_width</th>\n",
              "      <th>species</th>\n",
              "    </tr>\n",
              "  </thead>\n",
              "  <tbody>\n",
              "    <tr>\n",
              "      <th>0</th>\n",
              "      <td>5.1</td>\n",
              "      <td>3.5</td>\n",
              "      <td>1.4</td>\n",
              "      <td>0.2</td>\n",
              "      <td>0</td>\n",
              "    </tr>\n",
              "    <tr>\n",
              "      <th>1</th>\n",
              "      <td>4.9</td>\n",
              "      <td>3.0</td>\n",
              "      <td>1.4</td>\n",
              "      <td>0.2</td>\n",
              "      <td>0</td>\n",
              "    </tr>\n",
              "    <tr>\n",
              "      <th>2</th>\n",
              "      <td>4.7</td>\n",
              "      <td>3.2</td>\n",
              "      <td>1.3</td>\n",
              "      <td>0.2</td>\n",
              "      <td>0</td>\n",
              "    </tr>\n",
              "    <tr>\n",
              "      <th>3</th>\n",
              "      <td>4.6</td>\n",
              "      <td>3.1</td>\n",
              "      <td>1.5</td>\n",
              "      <td>0.2</td>\n",
              "      <td>0</td>\n",
              "    </tr>\n",
              "    <tr>\n",
              "      <th>4</th>\n",
              "      <td>5.0</td>\n",
              "      <td>3.6</td>\n",
              "      <td>1.4</td>\n",
              "      <td>0.2</td>\n",
              "      <td>0</td>\n",
              "    </tr>\n",
              "  </tbody>\n",
              "</table>\n",
              "</div>\n",
              "      <button class=\"colab-df-convert\" onclick=\"convertToInteractive('df-cece15a3-25cc-447e-9200-f7ce3fd969e6')\"\n",
              "              title=\"Convert this dataframe to an interactive table.\"\n",
              "              style=\"display:none;\">\n",
              "        \n",
              "  <svg xmlns=\"http://www.w3.org/2000/svg\" height=\"24px\"viewBox=\"0 0 24 24\"\n",
              "       width=\"24px\">\n",
              "    <path d=\"M0 0h24v24H0V0z\" fill=\"none\"/>\n",
              "    <path d=\"M18.56 5.44l.94 2.06.94-2.06 2.06-.94-2.06-.94-.94-2.06-.94 2.06-2.06.94zm-11 1L8.5 8.5l.94-2.06 2.06-.94-2.06-.94L8.5 2.5l-.94 2.06-2.06.94zm10 10l.94 2.06.94-2.06 2.06-.94-2.06-.94-.94-2.06-.94 2.06-2.06.94z\"/><path d=\"M17.41 7.96l-1.37-1.37c-.4-.4-.92-.59-1.43-.59-.52 0-1.04.2-1.43.59L10.3 9.45l-7.72 7.72c-.78.78-.78 2.05 0 2.83L4 21.41c.39.39.9.59 1.41.59.51 0 1.02-.2 1.41-.59l7.78-7.78 2.81-2.81c.8-.78.8-2.07 0-2.86zM5.41 20L4 18.59l7.72-7.72 1.47 1.35L5.41 20z\"/>\n",
              "  </svg>\n",
              "      </button>\n",
              "      \n",
              "  <style>\n",
              "    .colab-df-container {\n",
              "      display:flex;\n",
              "      flex-wrap:wrap;\n",
              "      gap: 12px;\n",
              "    }\n",
              "\n",
              "    .colab-df-convert {\n",
              "      background-color: #E8F0FE;\n",
              "      border: none;\n",
              "      border-radius: 50%;\n",
              "      cursor: pointer;\n",
              "      display: none;\n",
              "      fill: #1967D2;\n",
              "      height: 32px;\n",
              "      padding: 0 0 0 0;\n",
              "      width: 32px;\n",
              "    }\n",
              "\n",
              "    .colab-df-convert:hover {\n",
              "      background-color: #E2EBFA;\n",
              "      box-shadow: 0px 1px 2px rgba(60, 64, 67, 0.3), 0px 1px 3px 1px rgba(60, 64, 67, 0.15);\n",
              "      fill: #174EA6;\n",
              "    }\n",
              "\n",
              "    [theme=dark] .colab-df-convert {\n",
              "      background-color: #3B4455;\n",
              "      fill: #D2E3FC;\n",
              "    }\n",
              "\n",
              "    [theme=dark] .colab-df-convert:hover {\n",
              "      background-color: #434B5C;\n",
              "      box-shadow: 0px 1px 3px 1px rgba(0, 0, 0, 0.15);\n",
              "      filter: drop-shadow(0px 1px 2px rgba(0, 0, 0, 0.3));\n",
              "      fill: #FFFFFF;\n",
              "    }\n",
              "  </style>\n",
              "\n",
              "      <script>\n",
              "        const buttonEl =\n",
              "          document.querySelector('#df-cece15a3-25cc-447e-9200-f7ce3fd969e6 button.colab-df-convert');\n",
              "        buttonEl.style.display =\n",
              "          google.colab.kernel.accessAllowed ? 'block' : 'none';\n",
              "\n",
              "        async function convertToInteractive(key) {\n",
              "          const element = document.querySelector('#df-cece15a3-25cc-447e-9200-f7ce3fd969e6');\n",
              "          const dataTable =\n",
              "            await google.colab.kernel.invokeFunction('convertToInteractive',\n",
              "                                                     [key], {});\n",
              "          if (!dataTable) return;\n",
              "\n",
              "          const docLinkHtml = 'Like what you see? Visit the ' +\n",
              "            '<a target=\"_blank\" href=https://colab.research.google.com/notebooks/data_table.ipynb>data table notebook</a>'\n",
              "            + ' to learn more about interactive tables.';\n",
              "          element.innerHTML = '';\n",
              "          dataTable['output_type'] = 'display_data';\n",
              "          await google.colab.output.renderOutput(dataTable, element);\n",
              "          const docLink = document.createElement('div');\n",
              "          docLink.innerHTML = docLinkHtml;\n",
              "          element.appendChild(docLink);\n",
              "        }\n",
              "      </script>\n",
              "    </div>\n",
              "  </div>\n",
              "  "
            ]
          },
          "metadata": {},
          "execution_count": 76
        }
      ]
    },
    {
      "cell_type": "markdown",
      "metadata": {
        "id": "uPslwnx5VlhI"
      },
      "source": [
        "As you see, the last column contains strings. We want to convert these strings to integers,  and we can work with them easily in our Neural Network model.\n",
        "\n",
        "setosa -> 0\n",
        "\n",
        "versicolor -> 1\n",
        "\n",
        "virginica -> 2"
      ]
    },
    {
      "cell_type": "code",
      "metadata": {
        "id": "XaQ9lvJlW63F"
      },
      "source": [
        "#2-a Please convert the last column strings to integers, as \n",
        "# setosa -> 0\n",
        "# versicolor -> 1\n",
        "# virginica -> 2"
      ],
      "execution_count": 15,
      "outputs": []
    },
    {
      "cell_type": "code",
      "source": [
        "iris['species'].size"
      ],
      "metadata": {
        "colab": {
          "base_uri": "https://localhost:8080/"
        },
        "id": "sp8q692lyetZ",
        "outputId": "c8645510-238d-4693-ece0-2b6768f7de01"
      },
      "execution_count": 16,
      "outputs": [
        {
          "output_type": "execute_result",
          "data": {
            "text/plain": [
              "150"
            ]
          },
          "metadata": {},
          "execution_count": 16
        }
      ]
    },
    {
      "cell_type": "code",
      "metadata": {
        "id": "Ko7gGrfvXE5K"
      },
      "source": [
        "species_to_int = {'setosa': 0, 'versicolor': 1, 'virginica': 2}\n",
        "iris['species'] = iris['species'].replace(species_to_int)\n"
      ],
      "execution_count": 77,
      "outputs": []
    },
    {
      "cell_type": "code",
      "metadata": {
        "id": "XAyTi33hXUEX"
      },
      "source": [
        "iris['species'] = iris['species'].astype(int)"
      ],
      "execution_count": 78,
      "outputs": []
    },
    {
      "cell_type": "code",
      "metadata": {
        "id": "LtRXugkCXVmm"
      },
      "source": [
        "#2-b Now, check the first 5 elements of the iris dataset once again:"
      ],
      "execution_count": 79,
      "outputs": []
    },
    {
      "cell_type": "code",
      "metadata": {
        "id": "Vpzx6GfcXWIT",
        "colab": {
          "base_uri": "https://localhost:8080/",
          "height": 206
        },
        "outputId": "ae43d315-e235-4f05-f5a0-bd16891ff49c"
      },
      "source": [
        "iris.head(5)"
      ],
      "execution_count": 82,
      "outputs": [
        {
          "output_type": "execute_result",
          "data": {
            "text/plain": [
              "   sepal_length  sepal_width  petal_length  petal_width  species\n",
              "0           5.1          3.5           1.4          0.2        0\n",
              "1           4.9          3.0           1.4          0.2        0\n",
              "2           4.7          3.2           1.3          0.2        0\n",
              "3           4.6          3.1           1.5          0.2        0\n",
              "4           5.0          3.6           1.4          0.2        0"
            ],
            "text/html": [
              "\n",
              "  <div id=\"df-2ef8c78b-1976-4445-a418-62a4bcc90b67\">\n",
              "    <div class=\"colab-df-container\">\n",
              "      <div>\n",
              "<style scoped>\n",
              "    .dataframe tbody tr th:only-of-type {\n",
              "        vertical-align: middle;\n",
              "    }\n",
              "\n",
              "    .dataframe tbody tr th {\n",
              "        vertical-align: top;\n",
              "    }\n",
              "\n",
              "    .dataframe thead th {\n",
              "        text-align: right;\n",
              "    }\n",
              "</style>\n",
              "<table border=\"1\" class=\"dataframe\">\n",
              "  <thead>\n",
              "    <tr style=\"text-align: right;\">\n",
              "      <th></th>\n",
              "      <th>sepal_length</th>\n",
              "      <th>sepal_width</th>\n",
              "      <th>petal_length</th>\n",
              "      <th>petal_width</th>\n",
              "      <th>species</th>\n",
              "    </tr>\n",
              "  </thead>\n",
              "  <tbody>\n",
              "    <tr>\n",
              "      <th>0</th>\n",
              "      <td>5.1</td>\n",
              "      <td>3.5</td>\n",
              "      <td>1.4</td>\n",
              "      <td>0.2</td>\n",
              "      <td>0</td>\n",
              "    </tr>\n",
              "    <tr>\n",
              "      <th>1</th>\n",
              "      <td>4.9</td>\n",
              "      <td>3.0</td>\n",
              "      <td>1.4</td>\n",
              "      <td>0.2</td>\n",
              "      <td>0</td>\n",
              "    </tr>\n",
              "    <tr>\n",
              "      <th>2</th>\n",
              "      <td>4.7</td>\n",
              "      <td>3.2</td>\n",
              "      <td>1.3</td>\n",
              "      <td>0.2</td>\n",
              "      <td>0</td>\n",
              "    </tr>\n",
              "    <tr>\n",
              "      <th>3</th>\n",
              "      <td>4.6</td>\n",
              "      <td>3.1</td>\n",
              "      <td>1.5</td>\n",
              "      <td>0.2</td>\n",
              "      <td>0</td>\n",
              "    </tr>\n",
              "    <tr>\n",
              "      <th>4</th>\n",
              "      <td>5.0</td>\n",
              "      <td>3.6</td>\n",
              "      <td>1.4</td>\n",
              "      <td>0.2</td>\n",
              "      <td>0</td>\n",
              "    </tr>\n",
              "  </tbody>\n",
              "</table>\n",
              "</div>\n",
              "      <button class=\"colab-df-convert\" onclick=\"convertToInteractive('df-2ef8c78b-1976-4445-a418-62a4bcc90b67')\"\n",
              "              title=\"Convert this dataframe to an interactive table.\"\n",
              "              style=\"display:none;\">\n",
              "        \n",
              "  <svg xmlns=\"http://www.w3.org/2000/svg\" height=\"24px\"viewBox=\"0 0 24 24\"\n",
              "       width=\"24px\">\n",
              "    <path d=\"M0 0h24v24H0V0z\" fill=\"none\"/>\n",
              "    <path d=\"M18.56 5.44l.94 2.06.94-2.06 2.06-.94-2.06-.94-.94-2.06-.94 2.06-2.06.94zm-11 1L8.5 8.5l.94-2.06 2.06-.94-2.06-.94L8.5 2.5l-.94 2.06-2.06.94zm10 10l.94 2.06.94-2.06 2.06-.94-2.06-.94-.94-2.06-.94 2.06-2.06.94z\"/><path d=\"M17.41 7.96l-1.37-1.37c-.4-.4-.92-.59-1.43-.59-.52 0-1.04.2-1.43.59L10.3 9.45l-7.72 7.72c-.78.78-.78 2.05 0 2.83L4 21.41c.39.39.9.59 1.41.59.51 0 1.02-.2 1.41-.59l7.78-7.78 2.81-2.81c.8-.78.8-2.07 0-2.86zM5.41 20L4 18.59l7.72-7.72 1.47 1.35L5.41 20z\"/>\n",
              "  </svg>\n",
              "      </button>\n",
              "      \n",
              "  <style>\n",
              "    .colab-df-container {\n",
              "      display:flex;\n",
              "      flex-wrap:wrap;\n",
              "      gap: 12px;\n",
              "    }\n",
              "\n",
              "    .colab-df-convert {\n",
              "      background-color: #E8F0FE;\n",
              "      border: none;\n",
              "      border-radius: 50%;\n",
              "      cursor: pointer;\n",
              "      display: none;\n",
              "      fill: #1967D2;\n",
              "      height: 32px;\n",
              "      padding: 0 0 0 0;\n",
              "      width: 32px;\n",
              "    }\n",
              "\n",
              "    .colab-df-convert:hover {\n",
              "      background-color: #E2EBFA;\n",
              "      box-shadow: 0px 1px 2px rgba(60, 64, 67, 0.3), 0px 1px 3px 1px rgba(60, 64, 67, 0.15);\n",
              "      fill: #174EA6;\n",
              "    }\n",
              "\n",
              "    [theme=dark] .colab-df-convert {\n",
              "      background-color: #3B4455;\n",
              "      fill: #D2E3FC;\n",
              "    }\n",
              "\n",
              "    [theme=dark] .colab-df-convert:hover {\n",
              "      background-color: #434B5C;\n",
              "      box-shadow: 0px 1px 3px 1px rgba(0, 0, 0, 0.15);\n",
              "      filter: drop-shadow(0px 1px 2px rgba(0, 0, 0, 0.3));\n",
              "      fill: #FFFFFF;\n",
              "    }\n",
              "  </style>\n",
              "\n",
              "      <script>\n",
              "        const buttonEl =\n",
              "          document.querySelector('#df-2ef8c78b-1976-4445-a418-62a4bcc90b67 button.colab-df-convert');\n",
              "        buttonEl.style.display =\n",
              "          google.colab.kernel.accessAllowed ? 'block' : 'none';\n",
              "\n",
              "        async function convertToInteractive(key) {\n",
              "          const element = document.querySelector('#df-2ef8c78b-1976-4445-a418-62a4bcc90b67');\n",
              "          const dataTable =\n",
              "            await google.colab.kernel.invokeFunction('convertToInteractive',\n",
              "                                                     [key], {});\n",
              "          if (!dataTable) return;\n",
              "\n",
              "          const docLinkHtml = 'Like what you see? Visit the ' +\n",
              "            '<a target=\"_blank\" href=https://colab.research.google.com/notebooks/data_table.ipynb>data table notebook</a>'\n",
              "            + ' to learn more about interactive tables.';\n",
              "          element.innerHTML = '';\n",
              "          dataTable['output_type'] = 'display_data';\n",
              "          await google.colab.output.renderOutput(dataTable, element);\n",
              "          const docLink = document.createElement('div');\n",
              "          docLink.innerHTML = docLinkHtml;\n",
              "          element.appendChild(docLink);\n",
              "        }\n",
              "      </script>\n",
              "    </div>\n",
              "  </div>\n",
              "  "
            ]
          },
          "metadata": {},
          "execution_count": 82
        }
      ]
    },
    {
      "cell_type": "code",
      "metadata": {
        "id": "QVQ8ZY8DIAmE"
      },
      "source": [
        "#03-a Select the first four columns of the dataframe as the Data and call the data x."
      ],
      "execution_count": 21,
      "outputs": []
    },
    {
      "cell_type": "code",
      "metadata": {
        "id": "QJzxWYKBVPMD"
      },
      "source": [
        "x = iris.iloc[:, :4]"
      ],
      "execution_count": 22,
      "outputs": []
    },
    {
      "cell_type": "code",
      "source": [
        "x"
      ],
      "metadata": {
        "colab": {
          "base_uri": "https://localhost:8080/",
          "height": 424
        },
        "id": "DzCsZQyJPYx3",
        "outputId": "54491806-c695-49d2-dfe5-c3b533747692"
      },
      "execution_count": 23,
      "outputs": [
        {
          "output_type": "execute_result",
          "data": {
            "text/plain": [
              "     sepal_length  sepal_width  petal_length  petal_width\n",
              "0             5.1          3.5           1.4          0.2\n",
              "1             4.9          3.0           1.4          0.2\n",
              "2             4.7          3.2           1.3          0.2\n",
              "3             4.6          3.1           1.5          0.2\n",
              "4             5.0          3.6           1.4          0.2\n",
              "..            ...          ...           ...          ...\n",
              "145           6.7          3.0           5.2          2.3\n",
              "146           6.3          2.5           5.0          1.9\n",
              "147           6.5          3.0           5.2          2.0\n",
              "148           6.2          3.4           5.4          2.3\n",
              "149           5.9          3.0           5.1          1.8\n",
              "\n",
              "[150 rows x 4 columns]"
            ],
            "text/html": [
              "\n",
              "  <div id=\"df-bdbab66d-f4a9-4199-9748-ed36750c390c\">\n",
              "    <div class=\"colab-df-container\">\n",
              "      <div>\n",
              "<style scoped>\n",
              "    .dataframe tbody tr th:only-of-type {\n",
              "        vertical-align: middle;\n",
              "    }\n",
              "\n",
              "    .dataframe tbody tr th {\n",
              "        vertical-align: top;\n",
              "    }\n",
              "\n",
              "    .dataframe thead th {\n",
              "        text-align: right;\n",
              "    }\n",
              "</style>\n",
              "<table border=\"1\" class=\"dataframe\">\n",
              "  <thead>\n",
              "    <tr style=\"text-align: right;\">\n",
              "      <th></th>\n",
              "      <th>sepal_length</th>\n",
              "      <th>sepal_width</th>\n",
              "      <th>petal_length</th>\n",
              "      <th>petal_width</th>\n",
              "    </tr>\n",
              "  </thead>\n",
              "  <tbody>\n",
              "    <tr>\n",
              "      <th>0</th>\n",
              "      <td>5.1</td>\n",
              "      <td>3.5</td>\n",
              "      <td>1.4</td>\n",
              "      <td>0.2</td>\n",
              "    </tr>\n",
              "    <tr>\n",
              "      <th>1</th>\n",
              "      <td>4.9</td>\n",
              "      <td>3.0</td>\n",
              "      <td>1.4</td>\n",
              "      <td>0.2</td>\n",
              "    </tr>\n",
              "    <tr>\n",
              "      <th>2</th>\n",
              "      <td>4.7</td>\n",
              "      <td>3.2</td>\n",
              "      <td>1.3</td>\n",
              "      <td>0.2</td>\n",
              "    </tr>\n",
              "    <tr>\n",
              "      <th>3</th>\n",
              "      <td>4.6</td>\n",
              "      <td>3.1</td>\n",
              "      <td>1.5</td>\n",
              "      <td>0.2</td>\n",
              "    </tr>\n",
              "    <tr>\n",
              "      <th>4</th>\n",
              "      <td>5.0</td>\n",
              "      <td>3.6</td>\n",
              "      <td>1.4</td>\n",
              "      <td>0.2</td>\n",
              "    </tr>\n",
              "    <tr>\n",
              "      <th>...</th>\n",
              "      <td>...</td>\n",
              "      <td>...</td>\n",
              "      <td>...</td>\n",
              "      <td>...</td>\n",
              "    </tr>\n",
              "    <tr>\n",
              "      <th>145</th>\n",
              "      <td>6.7</td>\n",
              "      <td>3.0</td>\n",
              "      <td>5.2</td>\n",
              "      <td>2.3</td>\n",
              "    </tr>\n",
              "    <tr>\n",
              "      <th>146</th>\n",
              "      <td>6.3</td>\n",
              "      <td>2.5</td>\n",
              "      <td>5.0</td>\n",
              "      <td>1.9</td>\n",
              "    </tr>\n",
              "    <tr>\n",
              "      <th>147</th>\n",
              "      <td>6.5</td>\n",
              "      <td>3.0</td>\n",
              "      <td>5.2</td>\n",
              "      <td>2.0</td>\n",
              "    </tr>\n",
              "    <tr>\n",
              "      <th>148</th>\n",
              "      <td>6.2</td>\n",
              "      <td>3.4</td>\n",
              "      <td>5.4</td>\n",
              "      <td>2.3</td>\n",
              "    </tr>\n",
              "    <tr>\n",
              "      <th>149</th>\n",
              "      <td>5.9</td>\n",
              "      <td>3.0</td>\n",
              "      <td>5.1</td>\n",
              "      <td>1.8</td>\n",
              "    </tr>\n",
              "  </tbody>\n",
              "</table>\n",
              "<p>150 rows × 4 columns</p>\n",
              "</div>\n",
              "      <button class=\"colab-df-convert\" onclick=\"convertToInteractive('df-bdbab66d-f4a9-4199-9748-ed36750c390c')\"\n",
              "              title=\"Convert this dataframe to an interactive table.\"\n",
              "              style=\"display:none;\">\n",
              "        \n",
              "  <svg xmlns=\"http://www.w3.org/2000/svg\" height=\"24px\"viewBox=\"0 0 24 24\"\n",
              "       width=\"24px\">\n",
              "    <path d=\"M0 0h24v24H0V0z\" fill=\"none\"/>\n",
              "    <path d=\"M18.56 5.44l.94 2.06.94-2.06 2.06-.94-2.06-.94-.94-2.06-.94 2.06-2.06.94zm-11 1L8.5 8.5l.94-2.06 2.06-.94-2.06-.94L8.5 2.5l-.94 2.06-2.06.94zm10 10l.94 2.06.94-2.06 2.06-.94-2.06-.94-.94-2.06-.94 2.06-2.06.94z\"/><path d=\"M17.41 7.96l-1.37-1.37c-.4-.4-.92-.59-1.43-.59-.52 0-1.04.2-1.43.59L10.3 9.45l-7.72 7.72c-.78.78-.78 2.05 0 2.83L4 21.41c.39.39.9.59 1.41.59.51 0 1.02-.2 1.41-.59l7.78-7.78 2.81-2.81c.8-.78.8-2.07 0-2.86zM5.41 20L4 18.59l7.72-7.72 1.47 1.35L5.41 20z\"/>\n",
              "  </svg>\n",
              "      </button>\n",
              "      \n",
              "  <style>\n",
              "    .colab-df-container {\n",
              "      display:flex;\n",
              "      flex-wrap:wrap;\n",
              "      gap: 12px;\n",
              "    }\n",
              "\n",
              "    .colab-df-convert {\n",
              "      background-color: #E8F0FE;\n",
              "      border: none;\n",
              "      border-radius: 50%;\n",
              "      cursor: pointer;\n",
              "      display: none;\n",
              "      fill: #1967D2;\n",
              "      height: 32px;\n",
              "      padding: 0 0 0 0;\n",
              "      width: 32px;\n",
              "    }\n",
              "\n",
              "    .colab-df-convert:hover {\n",
              "      background-color: #E2EBFA;\n",
              "      box-shadow: 0px 1px 2px rgba(60, 64, 67, 0.3), 0px 1px 3px 1px rgba(60, 64, 67, 0.15);\n",
              "      fill: #174EA6;\n",
              "    }\n",
              "\n",
              "    [theme=dark] .colab-df-convert {\n",
              "      background-color: #3B4455;\n",
              "      fill: #D2E3FC;\n",
              "    }\n",
              "\n",
              "    [theme=dark] .colab-df-convert:hover {\n",
              "      background-color: #434B5C;\n",
              "      box-shadow: 0px 1px 3px 1px rgba(0, 0, 0, 0.15);\n",
              "      filter: drop-shadow(0px 1px 2px rgba(0, 0, 0, 0.3));\n",
              "      fill: #FFFFFF;\n",
              "    }\n",
              "  </style>\n",
              "\n",
              "      <script>\n",
              "        const buttonEl =\n",
              "          document.querySelector('#df-bdbab66d-f4a9-4199-9748-ed36750c390c button.colab-df-convert');\n",
              "        buttonEl.style.display =\n",
              "          google.colab.kernel.accessAllowed ? 'block' : 'none';\n",
              "\n",
              "        async function convertToInteractive(key) {\n",
              "          const element = document.querySelector('#df-bdbab66d-f4a9-4199-9748-ed36750c390c');\n",
              "          const dataTable =\n",
              "            await google.colab.kernel.invokeFunction('convertToInteractive',\n",
              "                                                     [key], {});\n",
              "          if (!dataTable) return;\n",
              "\n",
              "          const docLinkHtml = 'Like what you see? Visit the ' +\n",
              "            '<a target=\"_blank\" href=https://colab.research.google.com/notebooks/data_table.ipynb>data table notebook</a>'\n",
              "            + ' to learn more about interactive tables.';\n",
              "          element.innerHTML = '';\n",
              "          dataTable['output_type'] = 'display_data';\n",
              "          await google.colab.output.renderOutput(dataTable, element);\n",
              "          const docLink = document.createElement('div');\n",
              "          docLink.innerHTML = docLinkHtml;\n",
              "          element.appendChild(docLink);\n",
              "        }\n",
              "      </script>\n",
              "    </div>\n",
              "  </div>\n",
              "  "
            ]
          },
          "metadata": {},
          "execution_count": 23
        }
      ]
    },
    {
      "cell_type": "code",
      "metadata": {
        "id": "ZfFlo9wlVRp_"
      },
      "source": [
        "#03-b Select the last column as the label and call it y."
      ],
      "execution_count": 24,
      "outputs": []
    },
    {
      "cell_type": "code",
      "metadata": {
        "id": "f9CqfICuVZHu"
      },
      "source": [
        "y = iris.iloc[:, -1]"
      ],
      "execution_count": 25,
      "outputs": []
    },
    {
      "cell_type": "code",
      "source": [
        "y"
      ],
      "metadata": {
        "colab": {
          "base_uri": "https://localhost:8080/"
        },
        "id": "L18zjxcZPsDg",
        "outputId": "4bc4853f-dbb0-40d8-d307-95a219a771c7"
      },
      "execution_count": 26,
      "outputs": [
        {
          "output_type": "execute_result",
          "data": {
            "text/plain": [
              "0      0\n",
              "1      0\n",
              "2      0\n",
              "3      0\n",
              "4      0\n",
              "      ..\n",
              "145    2\n",
              "146    2\n",
              "147    2\n",
              "148    2\n",
              "149    2\n",
              "Name: species, Length: 150, dtype: int64"
            ]
          },
          "metadata": {},
          "execution_count": 26
        }
      ]
    },
    {
      "cell_type": "code",
      "metadata": {
        "id": "zoNx--BaVa5D"
      },
      "source": [
        "#04 Now, it is the time to split the data (x) and the label (y) into training and testin segments, \n",
        "#   and call them parts x_train,x_test,y_train,y_test."
      ],
      "execution_count": 27,
      "outputs": []
    },
    {
      "cell_type": "code",
      "metadata": {
        "id": "EVywDl4cYB98"
      },
      "source": [
        "#04-a Please split the data, and label ito training and testing segments, while the size of test data is 20%,\n",
        "#     and use randome_state = 123 to make all the answers similar in the whole class."
      ],
      "execution_count": 28,
      "outputs": []
    },
    {
      "cell_type": "code",
      "source": [
        "from sklearn.model_selection import train_test_split\n",
        "\n",
        "X_train, X_test, y_train, y_test = train_test_split(x, y, test_size=0.2, random_state=123)"
      ],
      "metadata": {
        "id": "YscP5IxHQBtV"
      },
      "execution_count": 29,
      "outputs": []
    },
    {
      "cell_type": "code",
      "metadata": {
        "id": "KaJUAiuTZgoe"
      },
      "source": [
        "#04-b Please, check the first five rows of  x_train,x_test,y_train,y_test."
      ],
      "execution_count": 30,
      "outputs": []
    },
    {
      "cell_type": "code",
      "metadata": {
        "id": "Tol7L4eyZyc0",
        "colab": {
          "base_uri": "https://localhost:8080/",
          "height": 206
        },
        "outputId": "37725621-3b3e-4e32-9c67-6a3fa2d92c53"
      },
      "source": [
        "X_train.head(5)"
      ],
      "execution_count": 31,
      "outputs": [
        {
          "output_type": "execute_result",
          "data": {
            "text/plain": [
              "     sepal_length  sepal_width  petal_length  petal_width\n",
              "130           7.4          2.8           6.1          1.9\n",
              "119           6.0          2.2           5.0          1.5\n",
              "29            4.7          3.2           1.6          0.2\n",
              "0             5.1          3.5           1.4          0.2\n",
              "62            6.0          2.2           4.0          1.0"
            ],
            "text/html": [
              "\n",
              "  <div id=\"df-d8597d52-50de-4638-8e34-374130a4025e\">\n",
              "    <div class=\"colab-df-container\">\n",
              "      <div>\n",
              "<style scoped>\n",
              "    .dataframe tbody tr th:only-of-type {\n",
              "        vertical-align: middle;\n",
              "    }\n",
              "\n",
              "    .dataframe tbody tr th {\n",
              "        vertical-align: top;\n",
              "    }\n",
              "\n",
              "    .dataframe thead th {\n",
              "        text-align: right;\n",
              "    }\n",
              "</style>\n",
              "<table border=\"1\" class=\"dataframe\">\n",
              "  <thead>\n",
              "    <tr style=\"text-align: right;\">\n",
              "      <th></th>\n",
              "      <th>sepal_length</th>\n",
              "      <th>sepal_width</th>\n",
              "      <th>petal_length</th>\n",
              "      <th>petal_width</th>\n",
              "    </tr>\n",
              "  </thead>\n",
              "  <tbody>\n",
              "    <tr>\n",
              "      <th>130</th>\n",
              "      <td>7.4</td>\n",
              "      <td>2.8</td>\n",
              "      <td>6.1</td>\n",
              "      <td>1.9</td>\n",
              "    </tr>\n",
              "    <tr>\n",
              "      <th>119</th>\n",
              "      <td>6.0</td>\n",
              "      <td>2.2</td>\n",
              "      <td>5.0</td>\n",
              "      <td>1.5</td>\n",
              "    </tr>\n",
              "    <tr>\n",
              "      <th>29</th>\n",
              "      <td>4.7</td>\n",
              "      <td>3.2</td>\n",
              "      <td>1.6</td>\n",
              "      <td>0.2</td>\n",
              "    </tr>\n",
              "    <tr>\n",
              "      <th>0</th>\n",
              "      <td>5.1</td>\n",
              "      <td>3.5</td>\n",
              "      <td>1.4</td>\n",
              "      <td>0.2</td>\n",
              "    </tr>\n",
              "    <tr>\n",
              "      <th>62</th>\n",
              "      <td>6.0</td>\n",
              "      <td>2.2</td>\n",
              "      <td>4.0</td>\n",
              "      <td>1.0</td>\n",
              "    </tr>\n",
              "  </tbody>\n",
              "</table>\n",
              "</div>\n",
              "      <button class=\"colab-df-convert\" onclick=\"convertToInteractive('df-d8597d52-50de-4638-8e34-374130a4025e')\"\n",
              "              title=\"Convert this dataframe to an interactive table.\"\n",
              "              style=\"display:none;\">\n",
              "        \n",
              "  <svg xmlns=\"http://www.w3.org/2000/svg\" height=\"24px\"viewBox=\"0 0 24 24\"\n",
              "       width=\"24px\">\n",
              "    <path d=\"M0 0h24v24H0V0z\" fill=\"none\"/>\n",
              "    <path d=\"M18.56 5.44l.94 2.06.94-2.06 2.06-.94-2.06-.94-.94-2.06-.94 2.06-2.06.94zm-11 1L8.5 8.5l.94-2.06 2.06-.94-2.06-.94L8.5 2.5l-.94 2.06-2.06.94zm10 10l.94 2.06.94-2.06 2.06-.94-2.06-.94-.94-2.06-.94 2.06-2.06.94z\"/><path d=\"M17.41 7.96l-1.37-1.37c-.4-.4-.92-.59-1.43-.59-.52 0-1.04.2-1.43.59L10.3 9.45l-7.72 7.72c-.78.78-.78 2.05 0 2.83L4 21.41c.39.39.9.59 1.41.59.51 0 1.02-.2 1.41-.59l7.78-7.78 2.81-2.81c.8-.78.8-2.07 0-2.86zM5.41 20L4 18.59l7.72-7.72 1.47 1.35L5.41 20z\"/>\n",
              "  </svg>\n",
              "      </button>\n",
              "      \n",
              "  <style>\n",
              "    .colab-df-container {\n",
              "      display:flex;\n",
              "      flex-wrap:wrap;\n",
              "      gap: 12px;\n",
              "    }\n",
              "\n",
              "    .colab-df-convert {\n",
              "      background-color: #E8F0FE;\n",
              "      border: none;\n",
              "      border-radius: 50%;\n",
              "      cursor: pointer;\n",
              "      display: none;\n",
              "      fill: #1967D2;\n",
              "      height: 32px;\n",
              "      padding: 0 0 0 0;\n",
              "      width: 32px;\n",
              "    }\n",
              "\n",
              "    .colab-df-convert:hover {\n",
              "      background-color: #E2EBFA;\n",
              "      box-shadow: 0px 1px 2px rgba(60, 64, 67, 0.3), 0px 1px 3px 1px rgba(60, 64, 67, 0.15);\n",
              "      fill: #174EA6;\n",
              "    }\n",
              "\n",
              "    [theme=dark] .colab-df-convert {\n",
              "      background-color: #3B4455;\n",
              "      fill: #D2E3FC;\n",
              "    }\n",
              "\n",
              "    [theme=dark] .colab-df-convert:hover {\n",
              "      background-color: #434B5C;\n",
              "      box-shadow: 0px 1px 3px 1px rgba(0, 0, 0, 0.15);\n",
              "      filter: drop-shadow(0px 1px 2px rgba(0, 0, 0, 0.3));\n",
              "      fill: #FFFFFF;\n",
              "    }\n",
              "  </style>\n",
              "\n",
              "      <script>\n",
              "        const buttonEl =\n",
              "          document.querySelector('#df-d8597d52-50de-4638-8e34-374130a4025e button.colab-df-convert');\n",
              "        buttonEl.style.display =\n",
              "          google.colab.kernel.accessAllowed ? 'block' : 'none';\n",
              "\n",
              "        async function convertToInteractive(key) {\n",
              "          const element = document.querySelector('#df-d8597d52-50de-4638-8e34-374130a4025e');\n",
              "          const dataTable =\n",
              "            await google.colab.kernel.invokeFunction('convertToInteractive',\n",
              "                                                     [key], {});\n",
              "          if (!dataTable) return;\n",
              "\n",
              "          const docLinkHtml = 'Like what you see? Visit the ' +\n",
              "            '<a target=\"_blank\" href=https://colab.research.google.com/notebooks/data_table.ipynb>data table notebook</a>'\n",
              "            + ' to learn more about interactive tables.';\n",
              "          element.innerHTML = '';\n",
              "          dataTable['output_type'] = 'display_data';\n",
              "          await google.colab.output.renderOutput(dataTable, element);\n",
              "          const docLink = document.createElement('div');\n",
              "          docLink.innerHTML = docLinkHtml;\n",
              "          element.appendChild(docLink);\n",
              "        }\n",
              "      </script>\n",
              "    </div>\n",
              "  </div>\n",
              "  "
            ]
          },
          "metadata": {},
          "execution_count": 31
        }
      ]
    },
    {
      "cell_type": "code",
      "metadata": {
        "id": "avm95SyVZ0K9",
        "colab": {
          "base_uri": "https://localhost:8080/",
          "height": 206
        },
        "outputId": "daf6429f-170c-40d5-8c5e-0e9e87905e5c"
      },
      "source": [
        "X_test.head(5)"
      ],
      "execution_count": 32,
      "outputs": [
        {
          "output_type": "execute_result",
          "data": {
            "text/plain": [
              "     sepal_length  sepal_width  petal_length  petal_width\n",
              "72            6.3          2.5           4.9          1.5\n",
              "112           6.8          3.0           5.5          2.1\n",
              "132           6.4          2.8           5.6          2.2\n",
              "88            5.6          3.0           4.1          1.3\n",
              "37            4.9          3.1           1.5          0.1"
            ],
            "text/html": [
              "\n",
              "  <div id=\"df-fdc6b58a-a707-422c-86b2-113192254396\">\n",
              "    <div class=\"colab-df-container\">\n",
              "      <div>\n",
              "<style scoped>\n",
              "    .dataframe tbody tr th:only-of-type {\n",
              "        vertical-align: middle;\n",
              "    }\n",
              "\n",
              "    .dataframe tbody tr th {\n",
              "        vertical-align: top;\n",
              "    }\n",
              "\n",
              "    .dataframe thead th {\n",
              "        text-align: right;\n",
              "    }\n",
              "</style>\n",
              "<table border=\"1\" class=\"dataframe\">\n",
              "  <thead>\n",
              "    <tr style=\"text-align: right;\">\n",
              "      <th></th>\n",
              "      <th>sepal_length</th>\n",
              "      <th>sepal_width</th>\n",
              "      <th>petal_length</th>\n",
              "      <th>petal_width</th>\n",
              "    </tr>\n",
              "  </thead>\n",
              "  <tbody>\n",
              "    <tr>\n",
              "      <th>72</th>\n",
              "      <td>6.3</td>\n",
              "      <td>2.5</td>\n",
              "      <td>4.9</td>\n",
              "      <td>1.5</td>\n",
              "    </tr>\n",
              "    <tr>\n",
              "      <th>112</th>\n",
              "      <td>6.8</td>\n",
              "      <td>3.0</td>\n",
              "      <td>5.5</td>\n",
              "      <td>2.1</td>\n",
              "    </tr>\n",
              "    <tr>\n",
              "      <th>132</th>\n",
              "      <td>6.4</td>\n",
              "      <td>2.8</td>\n",
              "      <td>5.6</td>\n",
              "      <td>2.2</td>\n",
              "    </tr>\n",
              "    <tr>\n",
              "      <th>88</th>\n",
              "      <td>5.6</td>\n",
              "      <td>3.0</td>\n",
              "      <td>4.1</td>\n",
              "      <td>1.3</td>\n",
              "    </tr>\n",
              "    <tr>\n",
              "      <th>37</th>\n",
              "      <td>4.9</td>\n",
              "      <td>3.1</td>\n",
              "      <td>1.5</td>\n",
              "      <td>0.1</td>\n",
              "    </tr>\n",
              "  </tbody>\n",
              "</table>\n",
              "</div>\n",
              "      <button class=\"colab-df-convert\" onclick=\"convertToInteractive('df-fdc6b58a-a707-422c-86b2-113192254396')\"\n",
              "              title=\"Convert this dataframe to an interactive table.\"\n",
              "              style=\"display:none;\">\n",
              "        \n",
              "  <svg xmlns=\"http://www.w3.org/2000/svg\" height=\"24px\"viewBox=\"0 0 24 24\"\n",
              "       width=\"24px\">\n",
              "    <path d=\"M0 0h24v24H0V0z\" fill=\"none\"/>\n",
              "    <path d=\"M18.56 5.44l.94 2.06.94-2.06 2.06-.94-2.06-.94-.94-2.06-.94 2.06-2.06.94zm-11 1L8.5 8.5l.94-2.06 2.06-.94-2.06-.94L8.5 2.5l-.94 2.06-2.06.94zm10 10l.94 2.06.94-2.06 2.06-.94-2.06-.94-.94-2.06-.94 2.06-2.06.94z\"/><path d=\"M17.41 7.96l-1.37-1.37c-.4-.4-.92-.59-1.43-.59-.52 0-1.04.2-1.43.59L10.3 9.45l-7.72 7.72c-.78.78-.78 2.05 0 2.83L4 21.41c.39.39.9.59 1.41.59.51 0 1.02-.2 1.41-.59l7.78-7.78 2.81-2.81c.8-.78.8-2.07 0-2.86zM5.41 20L4 18.59l7.72-7.72 1.47 1.35L5.41 20z\"/>\n",
              "  </svg>\n",
              "      </button>\n",
              "      \n",
              "  <style>\n",
              "    .colab-df-container {\n",
              "      display:flex;\n",
              "      flex-wrap:wrap;\n",
              "      gap: 12px;\n",
              "    }\n",
              "\n",
              "    .colab-df-convert {\n",
              "      background-color: #E8F0FE;\n",
              "      border: none;\n",
              "      border-radius: 50%;\n",
              "      cursor: pointer;\n",
              "      display: none;\n",
              "      fill: #1967D2;\n",
              "      height: 32px;\n",
              "      padding: 0 0 0 0;\n",
              "      width: 32px;\n",
              "    }\n",
              "\n",
              "    .colab-df-convert:hover {\n",
              "      background-color: #E2EBFA;\n",
              "      box-shadow: 0px 1px 2px rgba(60, 64, 67, 0.3), 0px 1px 3px 1px rgba(60, 64, 67, 0.15);\n",
              "      fill: #174EA6;\n",
              "    }\n",
              "\n",
              "    [theme=dark] .colab-df-convert {\n",
              "      background-color: #3B4455;\n",
              "      fill: #D2E3FC;\n",
              "    }\n",
              "\n",
              "    [theme=dark] .colab-df-convert:hover {\n",
              "      background-color: #434B5C;\n",
              "      box-shadow: 0px 1px 3px 1px rgba(0, 0, 0, 0.15);\n",
              "      filter: drop-shadow(0px 1px 2px rgba(0, 0, 0, 0.3));\n",
              "      fill: #FFFFFF;\n",
              "    }\n",
              "  </style>\n",
              "\n",
              "      <script>\n",
              "        const buttonEl =\n",
              "          document.querySelector('#df-fdc6b58a-a707-422c-86b2-113192254396 button.colab-df-convert');\n",
              "        buttonEl.style.display =\n",
              "          google.colab.kernel.accessAllowed ? 'block' : 'none';\n",
              "\n",
              "        async function convertToInteractive(key) {\n",
              "          const element = document.querySelector('#df-fdc6b58a-a707-422c-86b2-113192254396');\n",
              "          const dataTable =\n",
              "            await google.colab.kernel.invokeFunction('convertToInteractive',\n",
              "                                                     [key], {});\n",
              "          if (!dataTable) return;\n",
              "\n",
              "          const docLinkHtml = 'Like what you see? Visit the ' +\n",
              "            '<a target=\"_blank\" href=https://colab.research.google.com/notebooks/data_table.ipynb>data table notebook</a>'\n",
              "            + ' to learn more about interactive tables.';\n",
              "          element.innerHTML = '';\n",
              "          dataTable['output_type'] = 'display_data';\n",
              "          await google.colab.output.renderOutput(dataTable, element);\n",
              "          const docLink = document.createElement('div');\n",
              "          docLink.innerHTML = docLinkHtml;\n",
              "          element.appendChild(docLink);\n",
              "        }\n",
              "      </script>\n",
              "    </div>\n",
              "  </div>\n",
              "  "
            ]
          },
          "metadata": {},
          "execution_count": 32
        }
      ]
    },
    {
      "cell_type": "code",
      "metadata": {
        "id": "zoGgPpQnZ3N0",
        "colab": {
          "base_uri": "https://localhost:8080/"
        },
        "outputId": "0b891718-f0de-4ecc-eb27-849ec8a3d6da"
      },
      "source": [
        "y_train.head(5)"
      ],
      "execution_count": 33,
      "outputs": [
        {
          "output_type": "execute_result",
          "data": {
            "text/plain": [
              "130    2\n",
              "119    2\n",
              "29     0\n",
              "0      0\n",
              "62     1\n",
              "Name: species, dtype: int64"
            ]
          },
          "metadata": {},
          "execution_count": 33
        }
      ]
    },
    {
      "cell_type": "code",
      "metadata": {
        "id": "iDabPofuZ5SO",
        "colab": {
          "base_uri": "https://localhost:8080/"
        },
        "outputId": "849aa50a-5fd0-4f9b-adb8-b5d5c1f92fde"
      },
      "source": [
        "y_test.head(5)"
      ],
      "execution_count": 34,
      "outputs": [
        {
          "output_type": "execute_result",
          "data": {
            "text/plain": [
              "72     1\n",
              "112    2\n",
              "132    2\n",
              "88     1\n",
              "37     0\n",
              "Name: species, dtype: int64"
            ]
          },
          "metadata": {},
          "execution_count": 34
        }
      ]
    },
    {
      "cell_type": "code",
      "metadata": {
        "id": "wUHaE8fJbg8w"
      },
      "source": [
        "#04-c Check the length of the x_train and x_test. If the numbers are 120 & 30, AWESOME! \n",
        "#     You are good to continue!"
      ],
      "execution_count": 35,
      "outputs": []
    },
    {
      "cell_type": "code",
      "metadata": {
        "id": "k_-kNMocbgsv",
        "colab": {
          "base_uri": "https://localhost:8080/"
        },
        "outputId": "16d74752-5a4d-4a2a-e8b0-aa8426223372"
      },
      "source": [
        "len(X_train)"
      ],
      "execution_count": 36,
      "outputs": [
        {
          "output_type": "execute_result",
          "data": {
            "text/plain": [
              "120"
            ]
          },
          "metadata": {},
          "execution_count": 36
        }
      ]
    },
    {
      "cell_type": "code",
      "metadata": {
        "id": "GgEi1h-rbgcM",
        "colab": {
          "base_uri": "https://localhost:8080/"
        },
        "outputId": "92e62a6a-6359-47c0-8d2b-680d2fec77bf"
      },
      "source": [
        "len(X_test)"
      ],
      "execution_count": 37,
      "outputs": [
        {
          "output_type": "execute_result",
          "data": {
            "text/plain": [
              "30"
            ]
          },
          "metadata": {},
          "execution_count": 37
        }
      ]
    },
    {
      "cell_type": "code",
      "metadata": {
        "id": "tEdcdmEWZ6W-"
      },
      "source": [
        "#05-a Please, convert y_train and y_test into categorical, and call them\n",
        "#     one_hot_train_labels, and one_hot_test_labels, respectively."
      ],
      "execution_count": 38,
      "outputs": []
    },
    {
      "cell_type": "code",
      "metadata": {
        "id": "fVJ8Kn4kbXBF"
      },
      "source": [
        "from tensorflow.keras.utils import to_categorical\n",
        "\n",
        "# One-hot encode the target variable\n",
        "one_hot_train_labels = to_categorical(y_train)\n",
        "one_hot_test_labels = to_categorical(y_test)"
      ],
      "execution_count": 83,
      "outputs": []
    },
    {
      "cell_type": "code",
      "metadata": {
        "id": "QL4-xxR9bZP1"
      },
      "source": [
        "#06-a Please define a sequential model that contains 3 dense layers.\n",
        "#     In the first and second layers, use 100 hidden units (neurons) and a 'relu' activation function.\n",
        "#     For the last layer, we need to use 3 as the number of output, \n",
        "#     and the reason is we have three classes (setosa -> 0, versicolor -> 1, virginica -> 2)\n",
        "#     Also, please pick an appropriate activation function for the last layer. \n",
        "#     (You already have guessed what could be the best when we have converted the labels to categorical.)"
      ],
      "execution_count": 57,
      "outputs": []
    },
    {
      "cell_type": "code",
      "metadata": {
        "id": "6l5Rqmy3uPbu"
      },
      "source": [
        "from keras import models\n",
        "from keras import layers\n",
        "\n",
        "model = models.Sequential()\n",
        "#1\n",
        "model.add(layers.Dense(100, activation='relu'))\n",
        "#2\n",
        "model.add(layers.Dense(100, activation='relu'))\n",
        "#3 \n",
        "model.add(layers.Dense(3, activation='softmax'))\n",
        "\n"
      ],
      "execution_count": 84,
      "outputs": []
    },
    {
      "cell_type": "code",
      "metadata": {
        "id": "GCtYDS08wZY_"
      },
      "source": [
        "#06-b Now, please compile your model using 'rmsprop', an appropriate loss function, and 'accuracy' for your metrics."
      ],
      "execution_count": 59,
      "outputs": []
    },
    {
      "cell_type": "code",
      "metadata": {
        "id": "P8xNko36wx2d"
      },
      "source": [
        "from keras import optimizers\n",
        "\n",
        "model.compile(optimizer='rmsprop',\n",
        "loss='categorical_crossentropy',\n",
        "metrics=['accuracy'])"
      ],
      "execution_count": 85,
      "outputs": []
    },
    {
      "cell_type": "code",
      "metadata": {
        "id": "RziNJNwWwz2r"
      },
      "source": [
        "#07-a Pleease fit your model using epoch=20, batch = 10."
      ],
      "execution_count": 44,
      "outputs": []
    },
    {
      "cell_type": "code",
      "metadata": {
        "id": "iJJ4tXQxxEWc"
      },
      "source": [
        "#08-a Please calculate the result, evaluating your x_test, one_hot_test_label, and see how accurate your model works."
      ],
      "execution_count": 45,
      "outputs": []
    },
    {
      "cell_type": "code",
      "metadata": {
        "id": "oALCvb_SxD4_",
        "colab": {
          "base_uri": "https://localhost:8080/"
        },
        "outputId": "8a06969a-d8c2-4d09-d1de-e24bc9a7dba2"
      },
      "source": [
        "history = model.fit(X_train, one_hot_train_labels, batch_size=10, epochs=20, validation_data=(X_test, one_hot_test_labels))"
      ],
      "execution_count": 86,
      "outputs": [
        {
          "output_type": "stream",
          "name": "stdout",
          "text": [
            "Epoch 1/20\n",
            "12/12 [==============================] - 1s 27ms/step - loss: 0.9401 - accuracy: 0.5917 - val_loss: 0.7674 - val_accuracy: 0.6333\n",
            "Epoch 2/20\n",
            "12/12 [==============================] - 0s 10ms/step - loss: 0.7037 - accuracy: 0.7250 - val_loss: 0.5869 - val_accuracy: 0.9333\n",
            "Epoch 3/20\n",
            "12/12 [==============================] - 0s 7ms/step - loss: 0.5783 - accuracy: 0.8250 - val_loss: 0.4392 - val_accuracy: 0.8000\n",
            "Epoch 4/20\n",
            "12/12 [==============================] - 0s 7ms/step - loss: 0.4863 - accuracy: 0.8417 - val_loss: 0.3957 - val_accuracy: 0.9667\n",
            "Epoch 5/20\n",
            "12/12 [==============================] - 0s 9ms/step - loss: 0.4395 - accuracy: 0.8667 - val_loss: 0.3783 - val_accuracy: 0.8667\n",
            "Epoch 6/20\n",
            "12/12 [==============================] - 0s 6ms/step - loss: 0.3999 - accuracy: 0.8917 - val_loss: 0.3292 - val_accuracy: 0.9667\n",
            "Epoch 7/20\n",
            "12/12 [==============================] - 0s 7ms/step - loss: 0.3494 - accuracy: 0.9250 - val_loss: 0.3484 - val_accuracy: 0.8667\n",
            "Epoch 8/20\n",
            "12/12 [==============================] - 0s 9ms/step - loss: 0.3185 - accuracy: 0.9083 - val_loss: 0.2724 - val_accuracy: 0.9667\n",
            "Epoch 9/20\n",
            "12/12 [==============================] - 0s 8ms/step - loss: 0.2895 - accuracy: 0.9750 - val_loss: 0.2571 - val_accuracy: 0.9667\n",
            "Epoch 10/20\n",
            "12/12 [==============================] - 0s 9ms/step - loss: 0.2616 - accuracy: 0.9417 - val_loss: 0.3713 - val_accuracy: 0.7333\n",
            "Epoch 11/20\n",
            "12/12 [==============================] - 0s 9ms/step - loss: 0.2475 - accuracy: 0.9500 - val_loss: 0.2212 - val_accuracy: 0.9333\n",
            "Epoch 12/20\n",
            "12/12 [==============================] - 0s 7ms/step - loss: 0.2257 - accuracy: 0.9333 - val_loss: 0.2386 - val_accuracy: 0.9000\n",
            "Epoch 13/20\n",
            "12/12 [==============================] - 0s 7ms/step - loss: 0.1941 - accuracy: 0.9667 - val_loss: 0.2510 - val_accuracy: 0.8667\n",
            "Epoch 14/20\n",
            "12/12 [==============================] - 0s 8ms/step - loss: 0.1795 - accuracy: 0.9667 - val_loss: 0.1853 - val_accuracy: 0.9667\n",
            "Epoch 15/20\n",
            "12/12 [==============================] - 0s 9ms/step - loss: 0.1808 - accuracy: 0.9583 - val_loss: 0.2003 - val_accuracy: 0.9333\n",
            "Epoch 16/20\n",
            "12/12 [==============================] - 0s 8ms/step - loss: 0.1587 - accuracy: 0.9583 - val_loss: 0.1695 - val_accuracy: 0.9667\n",
            "Epoch 17/20\n",
            "12/12 [==============================] - 0s 7ms/step - loss: 0.1508 - accuracy: 0.9583 - val_loss: 0.1605 - val_accuracy: 0.9667\n",
            "Epoch 18/20\n",
            "12/12 [==============================] - 0s 7ms/step - loss: 0.1425 - accuracy: 0.9583 - val_loss: 0.2480 - val_accuracy: 0.8667\n",
            "Epoch 19/20\n",
            "12/12 [==============================] - 0s 7ms/step - loss: 0.1263 - accuracy: 0.9500 - val_loss: 0.1544 - val_accuracy: 0.9667\n",
            "Epoch 20/20\n",
            "12/12 [==============================] - 0s 6ms/step - loss: 0.1217 - accuracy: 0.9750 - val_loss: 0.1502 - val_accuracy: 0.9667\n"
          ]
        }
      ]
    },
    {
      "cell_type": "code",
      "metadata": {
        "id": "mf9Sc3XCxbFV"
      },
      "source": [
        "#09-a Now, we repeate all we have done in #06-a with the following parameters:\n",
        "#     In the first and second layers, use 10 hidden units (neurons) and a 'relu' activation function.\n",
        "#     For the last layer, we need to use 3. "
      ],
      "execution_count": 47,
      "outputs": []
    },
    {
      "cell_type": "code",
      "metadata": {
        "id": "7a9aqyMwx0SF"
      },
      "source": [
        "from keras import models\n",
        "from keras import layers\n",
        "\n",
        "model = models.Sequential()\n",
        "#1\n",
        "model.add(layers.Dense(10, activation='relu'))\n",
        "#2\n",
        "model.add(layers.Dense(10, activation='relu'))\n",
        "#3 \n",
        "model.add(layers.Dense(3, activation='softmax'))\n"
      ],
      "execution_count": 87,
      "outputs": []
    },
    {
      "cell_type": "code",
      "metadata": {
        "id": "XlXCDQ7gx8FM"
      },
      "source": [
        "#09-b Use the same setting as you have done for #06-b (compile phase using 'rmsprom' and et cetera)"
      ],
      "execution_count": 63,
      "outputs": []
    },
    {
      "cell_type": "code",
      "metadata": {
        "id": "HHiCnVpIyFs9"
      },
      "source": [
        "from keras import optimizers\n",
        "\n",
        "model.compile(optimizer='rmsprop',\n",
        "loss='categorical_crossentropy',\n",
        "metrics=['accuracy'])"
      ],
      "execution_count": 88,
      "outputs": []
    },
    {
      "cell_type": "code",
      "metadata": {
        "id": "60JPnxqvyQb0"
      },
      "source": [
        "#09-c Please fit your model using epoch=4, batch = 10."
      ],
      "execution_count": 51,
      "outputs": []
    },
    {
      "cell_type": "code",
      "metadata": {
        "id": "InudSE3fychb"
      },
      "source": [
        "#09-d Please calculate the result, evaluating your x_test, one_hot_test_label, and see how accurate your model works."
      ],
      "execution_count": 52,
      "outputs": []
    },
    {
      "cell_type": "code",
      "metadata": {
        "id": "y-RKym7uyaG0",
        "colab": {
          "base_uri": "https://localhost:8080/"
        },
        "outputId": "2f072c54-a5ac-49aa-c8de-3ef196362a5d"
      },
      "source": [
        "history = model.fit(X_train, one_hot_train_labels, batch_size=10, epochs=4, validation_data=(X_test, one_hot_test_labels))"
      ],
      "execution_count": 89,
      "outputs": [
        {
          "output_type": "stream",
          "name": "stdout",
          "text": [
            "Epoch 1/4\n",
            "12/12 [==============================] - 1s 20ms/step - loss: 1.1177 - accuracy: 0.4250 - val_loss: 1.0760 - val_accuracy: 0.3000\n",
            "Epoch 2/4\n",
            "12/12 [==============================] - 0s 6ms/step - loss: 0.9601 - accuracy: 0.5667 - val_loss: 0.9288 - val_accuracy: 0.6333\n",
            "Epoch 3/4\n",
            "12/12 [==============================] - 0s 6ms/step - loss: 0.8872 - accuracy: 0.6750 - val_loss: 0.8525 - val_accuracy: 0.6333\n",
            "Epoch 4/4\n",
            "12/12 [==============================] - 0s 5ms/step - loss: 0.8373 - accuracy: 0.6750 - val_loss: 0.7964 - val_accuracy: 0.6333\n"
          ]
        }
      ]
    },
    {
      "cell_type": "code",
      "metadata": {
        "id": "23Lr2veHyxUU"
      },
      "source": [],
      "execution_count": 53,
      "outputs": []
    },
    {
      "cell_type": "code",
      "metadata": {
        "id": "ov5UKqtuyzvb"
      },
      "source": [
        "#10-a Please explain all you have learned from this assignment. \n",
        "# Theese are some quiestions that you could answer:\n",
        "# How the number of layers or hidden units could impact the accuracy of our model.\n",
        "# Do we always suffer from overfitting?\n",
        "# How can we find and manage overfitting?"
      ],
      "execution_count": 54,
      "outputs": []
    },
    {
      "cell_type": "markdown",
      "metadata": {
        "id": "iW9TViBD41y2"
      },
      "source": [
        "Double-click here to start typing your answer:\n",
        "\n",
        "**How the number of layers or hidden units could impact the accuracy of our model?**\n",
        "\n",
        "To determine the number of hidden layers, we first need to have a good understanding of our dataset, labels and what to take as a training and testing. Overall address a feasible architecture for our model. It is true to say that one of the main goal of our model, is to be able to learn smoothly, which utimately it should prevent\n",
        "\n",
        "OVERFITTING: when a model learns the noise in the training data rather than the underlying patterns, leading to poor performance on new, unseen data.\n",
        "\n",
        "INFORMATION BOTTLENECK: Occurs when we do not provide enought layers to our model so that it process the desired amount of information for the task at hand.\n",
        "So we happen to create a bottleneck layer which has a small amount of neurons compared to the input -> output .\n",
        "\n",
        "**Do we always suffer from overfitting?**\n",
        "\n",
        "Overfitting is a common problem in NN, as I said previously, overfitting occurs in specific conditions.\n",
        "In the case of setting to many hidden layers into our model we will see that it can fit the training data too closely, leading to overfitting. But this sould not mean that a NN must only have a few hidden layers in order to prevent overfitting, in fact it is a based on the problem itself. What I remeber from our classes, signs of overfitting in a neural network include a large gap between the training and validation error, high training accuracy, but low validation accuracy, and poor performance on new, unseen data.\n",
        "\n",
        "**How can we find and manage overfitting?**\n",
        "\n",
        "The best way of addressing overfitting is to monitor the val_loss and accuracy.Having said that we can prevent overfitting by stopping the training process at the epoch where our model start to overfitt (if we use a graph with matplot it is better)."
      ]
    },
    {
      "cell_type": "code",
      "metadata": {
        "id": "wjl8cvkazc_p"
      },
      "source": [
        "#10-b\n",
        "# Please try different sessing as we did in #09\n",
        "# You can change the number of layers, hidden units, compile parameters, number of epochs, batch_size... everything!\n",
        "# Please change one parameter at a time.\n",
        "# And share your experience."
      ],
      "execution_count": 55,
      "outputs": []
    },
    {
      "cell_type": "code",
      "metadata": {
        "id": "0oT_gJx4-s_6"
      },
      "source": [
        "from keras import models\n",
        "from keras import layers\n",
        "\n",
        "model = models.Sequential()\n",
        "#1\n",
        "model.add(layers.Dense(150, activation='relu'))\n",
        "#2\n",
        "model.add(layers.Dense(130, activation='relu'))\n",
        "#3 \n",
        "model.add(layers.Dense(100, activation='relu'))\n",
        "#4\n",
        "model.add(layers.Dense(3, activation='softmax'))"
      ],
      "execution_count": 69,
      "outputs": []
    },
    {
      "cell_type": "code",
      "source": [
        "from keras import optimizers\n",
        "\n",
        "model.compile(optimizer='adam',\n",
        "loss='categorical_crossentropy',\n",
        "metrics=['accuracy'])"
      ],
      "metadata": {
        "id": "eW3xZw6xLG9X"
      },
      "execution_count": 70,
      "outputs": []
    },
    {
      "cell_type": "code",
      "source": [
        "history = model.fit(X_train, one_hot_train_labels, batch_size=17, epochs=7, validation_data=(X_test, one_hot_test_labels))"
      ],
      "metadata": {
        "colab": {
          "base_uri": "https://localhost:8080/"
        },
        "id": "wHfRmm5PLKO6",
        "outputId": "44ddb542-b216-49b0-d805-b141d9374f85"
      },
      "execution_count": 75,
      "outputs": [
        {
          "output_type": "stream",
          "name": "stdout",
          "text": [
            "Epoch 1/7\n",
            "8/8 [==============================] - 0s 45ms/step - loss: 0.0501 - accuracy: 0.9917 - val_loss: 0.0952 - val_accuracy: 0.9333\n",
            "Epoch 2/7\n",
            "8/8 [==============================] - 0s 15ms/step - loss: 0.0435 - accuracy: 0.9917 - val_loss: 0.0798 - val_accuracy: 0.9667\n",
            "Epoch 3/7\n",
            "8/8 [==============================] - 0s 9ms/step - loss: 0.0486 - accuracy: 0.9917 - val_loss: 0.0789 - val_accuracy: 0.9667\n",
            "Epoch 4/7\n",
            "8/8 [==============================] - 0s 7ms/step - loss: 0.0514 - accuracy: 0.9917 - val_loss: 0.0898 - val_accuracy: 0.9667\n",
            "Epoch 5/7\n",
            "8/8 [==============================] - 0s 7ms/step - loss: 0.0466 - accuracy: 0.9917 - val_loss: 0.0791 - val_accuracy: 0.9667\n",
            "Epoch 6/7\n",
            "8/8 [==============================] - 0s 7ms/step - loss: 0.0439 - accuracy: 0.9917 - val_loss: 0.0895 - val_accuracy: 0.9667\n",
            "Epoch 7/7\n",
            "8/8 [==============================] - 0s 9ms/step - loss: 0.0471 - accuracy: 0.9917 - val_loss: 0.0806 - val_accuracy: 0.9667\n"
          ]
        }
      ]
    },
    {
      "cell_type": "markdown",
      "metadata": {
        "id": "N5b2shyIdhiv"
      },
      "source": [
        "---\n",
        "# Deliverables:\n",
        "1. Please, submit the current ipynb file with your responses.\n",
        "2. Please record and upload to YouTube a 5 to 10 minutes video recorded clip, describing all you have done. If you go beyond 10 minutes, it is fine. The mentioned time range is to show how the scale of the assignment could be.\n",
        "\n",
        "Notes: \n",
        "- In your submission, YOU MUST SUBMIT A LINK TO YOUR YOUTUBE VIDEO as a TEXT SUBMISSION SECTION on your BLACKBOARD SUBMISSION. Omitting this BB comment will result in a 0% for your total mark.\n",
        "\n",
        "- To get the 5% of the (coding) mark, you need to submit a YouTube video that scrolls through your code, explaining every single line of your code.\n",
        "\n",
        "Then submit the link to the uploaded YouTube video in the **Text Submision section** (see image below).  \n",
        "\n",
        "![image.png](https://i.ibb.co/gjW5wYC/bb-submission-instructions.png)\n"
      ]
    },
    {
      "cell_type": "markdown",
      "metadata": {
        "id": "HupobwCm3IBl"
      },
      "source": [
        "**Summary:**\n",
        "\n",
        "In short, what we need to submit are:\n",
        "\n",
        "a)\tThe current **ipynb file** that contains all the code (5 marks).\n",
        "\n",
        "b)\tThe **YouTube link** of your recorded video in the \n",
        "**Text Submission section** (5 marks).\n",
        "\n",
        "Zero for submissions, without YouTube video explanation.\n",
        "\n"
      ]
    },
    {
      "cell_type": "markdown",
      "metadata": {
        "id": "EiLwmjHV3XlQ"
      },
      "source": [
        "Wish you only the best, Dear Team Members!\n",
        "\n",
        "Reza\n"
      ]
    }
  ]
}