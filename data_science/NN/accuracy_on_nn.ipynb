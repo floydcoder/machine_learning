{
  "nbformat": 4,
  "nbformat_minor": 0,
  "metadata": {
    "colab": {
      "provenance": []
    },
    "kernelspec": {
      "name": "python3",
      "display_name": "Python 3"
    },
    "language_info": {
      "name": "python"
    }
  },
  "cells": [
    {
      "cell_type": "markdown",
      "source": [
        "# Marco Stevanella - 101307949"
      ],
      "metadata": {
        "id": "UjME6qbzpZWH"
      }
    },
    {
      "cell_type": "code",
      "execution_count": 45,
      "metadata": {
        "id": "xplKr4bqm1Id"
      },
      "outputs": [],
      "source": [
        "from keras.datasets import fashion_mnist\n",
        "import matplotlib.pyplot as plt\n",
        "from tensorflow.keras import utils\n",
        "from tensorflow.keras.utils import to_categorical\n",
        "import numpy as np"
      ]
    },
    {
      "cell_type": "code",
      "source": [
        "(train_images, train_labels), (test_images, test_labels) = fashion_mnist.load_data()"
      ],
      "metadata": {
        "id": "0w4Pvj-rnFbX"
      },
      "execution_count": 46,
      "outputs": []
    },
    {
      "cell_type": "markdown",
      "source": [
        "# Question 1\n",
        "\n",
        "## **What are the dimensions of train_images, train_labels, test_images, and test_labels?**"
      ],
      "metadata": {
        "id": "WsKrYWoMnRD5"
      }
    },
    {
      "cell_type": "code",
      "source": [
        "train_images.ndim\n",
        "#train_images.shape"
      ],
      "metadata": {
        "colab": {
          "base_uri": "https://localhost:8080/"
        },
        "id": "uxvDlNfUnjNZ",
        "outputId": "0229a1bb-1fdc-43c0-972b-33b97bba04dd"
      },
      "execution_count": 47,
      "outputs": [
        {
          "output_type": "execute_result",
          "data": {
            "text/plain": [
              "3"
            ]
          },
          "metadata": {},
          "execution_count": 47
        }
      ]
    },
    {
      "cell_type": "code",
      "source": [
        "train_labels.ndim\n",
        "train_labels.shape"
      ],
      "metadata": {
        "colab": {
          "base_uri": "https://localhost:8080/"
        },
        "id": "Zdh2B43_oer9",
        "outputId": "eaa19164-89be-454c-92db-3cbf1632d560"
      },
      "execution_count": 48,
      "outputs": [
        {
          "output_type": "execute_result",
          "data": {
            "text/plain": [
              "(60000,)"
            ]
          },
          "metadata": {},
          "execution_count": 48
        }
      ]
    },
    {
      "cell_type": "code",
      "source": [
        "test_images.ndim\n",
        "test_images.shape"
      ],
      "metadata": {
        "colab": {
          "base_uri": "https://localhost:8080/"
        },
        "id": "jqmW-JwCokOz",
        "outputId": "43a828f3-c3ba-4852-f7eb-53be9a8b3299"
      },
      "execution_count": 49,
      "outputs": [
        {
          "output_type": "execute_result",
          "data": {
            "text/plain": [
              "(10000, 28, 28)"
            ]
          },
          "metadata": {},
          "execution_count": 49
        }
      ]
    },
    {
      "cell_type": "code",
      "source": [
        "test_labels.ndim\n",
        "test_labels.shape"
      ],
      "metadata": {
        "colab": {
          "base_uri": "https://localhost:8080/"
        },
        "id": "jcd8Gvt0pWYf",
        "outputId": "1a149e4f-0d56-4f49-81df-f5bd30e4d8c5"
      },
      "execution_count": 50,
      "outputs": [
        {
          "output_type": "execute_result",
          "data": {
            "text/plain": [
              "(10000,)"
            ]
          },
          "metadata": {},
          "execution_count": 50
        }
      ]
    },
    {
      "cell_type": "markdown",
      "source": [
        "# Question 2\n",
        "\n",
        "## ** What are the lengths of train_labels and test_labels?**"
      ],
      "metadata": {
        "id": "AjYJhio_p2C2"
      }
    },
    {
      "cell_type": "code",
      "source": [
        "len(train_labels)"
      ],
      "metadata": {
        "colab": {
          "base_uri": "https://localhost:8080/"
        },
        "id": "r9AC4I_1p6Sx",
        "outputId": "8ca6ed03-26fd-4316-f5be-72ae6b3645ea"
      },
      "execution_count": 51,
      "outputs": [
        {
          "output_type": "execute_result",
          "data": {
            "text/plain": [
              "60000"
            ]
          },
          "metadata": {},
          "execution_count": 51
        }
      ]
    },
    {
      "cell_type": "code",
      "source": [
        "len(test_images)"
      ],
      "metadata": {
        "colab": {
          "base_uri": "https://localhost:8080/"
        },
        "id": "mPTSimrLqhOG",
        "outputId": "0a6b7354-bafd-45dc-e1f0-7c487bbe9c6c"
      },
      "execution_count": 52,
      "outputs": [
        {
          "output_type": "execute_result",
          "data": {
            "text/plain": [
              "10000"
            ]
          },
          "metadata": {},
          "execution_count": 52
        }
      ]
    },
    {
      "cell_type": "markdown",
      "source": [
        "# Question 3\n",
        "\n",
        "## ** Please show some of train and test labels.**"
      ],
      "metadata": {
        "id": "D0m8fjWIq8Uh"
      }
    },
    {
      "cell_type": "code",
      "source": [
        "print(train_labels[0], train_labels[1], train_labels[2], train_labels[3])"
      ],
      "metadata": {
        "colab": {
          "base_uri": "https://localhost:8080/"
        },
        "id": "uYPPvHrorE9q",
        "outputId": "5b15b114-cfe5-45ac-9565-aeff14dec93a"
      },
      "execution_count": 53,
      "outputs": [
        {
          "output_type": "stream",
          "name": "stdout",
          "text": [
            "9 0 0 3\n"
          ]
        }
      ]
    },
    {
      "cell_type": "code",
      "source": [
        "print(test_labels[0], test_labels[1], test_labels[2],test_labels[3])"
      ],
      "metadata": {
        "colab": {
          "base_uri": "https://localhost:8080/"
        },
        "id": "W-BvxMn0rfyb",
        "outputId": "18ff55c0-d9f6-433c-a693-6007f8304b3d"
      },
      "execution_count": 54,
      "outputs": [
        {
          "output_type": "stream",
          "name": "stdout",
          "text": [
            "9 2 1 1\n"
          ]
        }
      ]
    },
    {
      "cell_type": "code",
      "source": [
        "test_labels"
      ],
      "metadata": {
        "colab": {
          "base_uri": "https://localhost:8080/"
        },
        "id": "dIio50dOSHmq",
        "outputId": "e7f6e00d-5135-4a9c-8ec2-483bf1f557de"
      },
      "execution_count": 55,
      "outputs": [
        {
          "output_type": "execute_result",
          "data": {
            "text/plain": [
              "array([9, 2, 1, ..., 8, 1, 5], dtype=uint8)"
            ]
          },
          "metadata": {},
          "execution_count": 55
        }
      ]
    },
    {
      "cell_type": "code",
      "source": [
        "train_labels"
      ],
      "metadata": {
        "colab": {
          "base_uri": "https://localhost:8080/"
        },
        "id": "CI3Nj7QtSOHb",
        "outputId": "9dcd4880-0784-4e28-a057-7d69c40807c5"
      },
      "execution_count": 56,
      "outputs": [
        {
          "output_type": "execute_result",
          "data": {
            "text/plain": [
              "array([9, 0, 0, ..., 3, 0, 5], dtype=uint8)"
            ]
          },
          "metadata": {},
          "execution_count": 56
        }
      ]
    },
    {
      "cell_type": "code",
      "source": [
        "train_labels.min()"
      ],
      "metadata": {
        "colab": {
          "base_uri": "https://localhost:8080/"
        },
        "id": "XLGue7obSUyF",
        "outputId": "cc39d7e9-ac4e-44f2-ba06-4494b06bac3d"
      },
      "execution_count": 57,
      "outputs": [
        {
          "output_type": "execute_result",
          "data": {
            "text/plain": [
              "0"
            ]
          },
          "metadata": {},
          "execution_count": 57
        }
      ]
    },
    {
      "cell_type": "code",
      "source": [
        "train_labels.max()"
      ],
      "metadata": {
        "colab": {
          "base_uri": "https://localhost:8080/"
        },
        "id": "U2pZTgDXSY6O",
        "outputId": "2deceebd-6c75-41fd-b193-0f070f656ce9"
      },
      "execution_count": 58,
      "outputs": [
        {
          "output_type": "execute_result",
          "data": {
            "text/plain": [
              "9"
            ]
          },
          "metadata": {},
          "execution_count": 58
        }
      ]
    },
    {
      "cell_type": "markdown",
      "source": [
        "0: T-shirt/top\n",
        "\n",
        "1: Trouser\n",
        "\n",
        "2: Pullover\n",
        "\n",
        "3: Dress\n",
        "\n",
        "4: Coat\n",
        "\n",
        "5: Sandal\n",
        "\n",
        "6: Shirt\n",
        "\n",
        "7: Sneaker\n",
        "\n",
        "8: Bag\n",
        "\n",
        "9: Ankle boot"
      ],
      "metadata": {
        "id": "Px7POXvRSyF6"
      }
    },
    {
      "cell_type": "markdown",
      "source": [
        "# Question 4\n",
        "\n",
        "## **Please show the digital content of image index 5 in the training dataset.**"
      ],
      "metadata": {
        "id": "ZCWQj2w3sKop"
      }
    },
    {
      "cell_type": "code",
      "source": [
        "np.array(train_images[5])"
      ],
      "metadata": {
        "colab": {
          "base_uri": "https://localhost:8080/"
        },
        "id": "mMk2HBYWsZs5",
        "outputId": "f8ab0513-960c-48c2-d97c-567d14abb7a4"
      },
      "execution_count": 59,
      "outputs": [
        {
          "output_type": "execute_result",
          "data": {
            "text/plain": [
              "array([[  0,   0,   0,   0,   1,   0,   0,   0,   0,  22,  88, 188, 172,\n",
              "        132, 125, 141, 199, 143,   9,   0,   0,   0,   1,   0,   0,   0,\n",
              "          0,   0],\n",
              "       [  0,   0,   0,   1,   0,   0,  20, 131, 199, 206, 196, 202, 242,\n",
              "        255, 255, 250, 222, 197, 206, 188, 126,  17,   0,   0,   0,   0,\n",
              "          0,   0],\n",
              "       [  0,   0,   0,   1,   0,  35, 214, 191, 183, 178, 175, 168, 150,\n",
              "        162, 159, 152, 158, 179, 183, 189, 195, 185,  82,   0,   0,   0,\n",
              "          0,   0],\n",
              "       [  0,   0,   0,   0,   0, 170, 190, 172, 177, 176, 171, 169, 162,\n",
              "        155, 148, 154, 169, 174, 175, 175, 177, 183, 188,  12,   0,   0,\n",
              "          0,   0],\n",
              "       [  0,   0,   0,   0,  25, 194, 180, 178, 174, 184, 187, 189, 187,\n",
              "        184, 181, 189, 200, 197, 193, 190, 178, 175, 194,  90,   0,   0,\n",
              "          0,   0],\n",
              "       [  0,   0,   0,   0,  42, 218, 191, 197, 208, 204, 211, 209, 210,\n",
              "        212, 211, 214, 215, 213, 214, 211, 211, 191, 200, 158,   0,   0,\n",
              "          0,   0],\n",
              "       [  0,   0,   0,   0,  88, 221, 215, 217, 219, 211, 185, 150, 118,\n",
              "        107,  99,  88,  83,  90, 135, 212, 203, 207, 219, 169,   0,   0,\n",
              "          0,   0],\n",
              "       [  0,   0,   0,   0,   0,  27, 118, 162,  40,   0,   0,   0,  10,\n",
              "         19,  28,  39,  47,  36,   0,   0, 203, 230, 220, 203,   0,   0,\n",
              "          0,   0],\n",
              "       [  0,   0,   0,   0, 138, 136,  71,  69,  54, 216, 217, 203, 184,\n",
              "        168, 163, 162, 163, 178, 221, 186,  38,  26,   7,   0,   0,   0,\n",
              "          0,   0],\n",
              "       [  0,   0,   0,   0,  67, 134, 154, 224, 129,  66,  81, 117, 129,\n",
              "        128, 132, 137, 131, 129,  86,  73, 157, 151, 134, 216,  18,   0,\n",
              "          0,   0],\n",
              "       [  0,   0,   0,   0, 203, 198, 172, 183, 206, 255, 255, 250, 243,\n",
              "        240, 239, 235, 238, 244, 255, 238, 184, 160,  86,  98,   0,   0,\n",
              "          0,   0],\n",
              "       [  0,   0,   0,   0, 122, 188, 224, 151, 105, 127,  97, 100, 105,\n",
              "        114, 117, 117, 113, 103,  98, 111, 142, 254, 191, 255,  49,   0,\n",
              "          0,   0],\n",
              "       [  0,   0,   0,   0, 163, 179, 200,  95, 154, 198, 197, 200, 200,\n",
              "        198, 197, 198, 199, 202, 200, 176,  86, 206, 157, 162,  10,   0,\n",
              "          0,   0],\n",
              "       [  0,   0,   0,   0, 197, 201, 229,  71, 144, 194, 181, 183, 179,\n",
              "        182, 180, 179, 180, 190, 185, 197,  76, 219, 185, 201,  34,   0,\n",
              "          0,   0],\n",
              "       [  0,   0,   0,   0, 199, 193, 226,  58, 154, 192, 184, 187, 184,\n",
              "        186, 184, 185, 183, 192, 191, 200,  56, 219, 203, 207,  60,   0,\n",
              "          0,   0],\n",
              "       [  0,   0,   0,   0, 201, 194, 224,  41, 163, 190, 186, 186, 184,\n",
              "        185, 183, 185, 178, 190, 194, 202,  33, 211, 200, 206,  73,   0,\n",
              "          0,   0],\n",
              "       [  0,   0,   0,   0, 201, 197, 222,  17, 172, 190, 186, 187, 182,\n",
              "        186, 185, 187, 180, 187, 193, 202,  26, 212, 202, 203,  76,   0,\n",
              "          0,   0],\n",
              "       [  0,   0,   0,   0, 200, 197, 223,   0, 177, 189, 184, 185, 178,\n",
              "        184, 183, 184, 180, 183, 189, 203,  35, 196, 203, 203,  84,   0,\n",
              "          0,   0],\n",
              "       [  0,   0,   0,   0, 200, 197, 223,   0, 185, 187, 185, 187, 180,\n",
              "        184, 182, 183, 178, 182, 183, 205,  44, 159, 207, 201,  85,   0,\n",
              "          0,   0],\n",
              "       [  0,   0,   0,   0, 187, 198, 225,   0, 194, 188, 184, 185, 180,\n",
              "        183, 183, 184, 181, 181, 177, 206,  46, 129, 211, 200,  88,   0,\n",
              "          0,   0],\n",
              "       [  0,   0,   0,   6, 186, 200, 211,   0, 199, 189, 184, 184, 185,\n",
              "        182, 183, 184, 185, 182, 175, 205,  50,  97, 216, 197,  93,   0,\n",
              "          0,   0],\n",
              "       [  0,   0,   0,   5, 185, 204, 184,   0, 202, 188, 182, 182, 183,\n",
              "        183, 184, 182, 180, 182, 174, 202,  63,  59, 220, 196,  94,   0,\n",
              "          0,   0],\n",
              "       [  0,   0,   0,   5, 184, 206, 157,   0, 204, 187, 187, 189, 192,\n",
              "        190, 190, 191, 190, 187, 183, 202,  78,  35, 222, 197,  95,   0,\n",
              "          0,   0],\n",
              "       [  0,   0,   0,   5, 183, 208, 127,   0, 197, 166, 153, 149, 149,\n",
              "        146, 148, 149, 150, 151, 158, 191,  90,   8, 223, 195,  99,   0,\n",
              "          0,   0],\n",
              "       [  0,   0,   0,   6, 184, 208, 114,   0, 204, 173, 161, 180, 176,\n",
              "        172, 173, 173, 174, 176, 162, 202, 115,   0, 229, 199, 105,   0,\n",
              "          0,   0],\n",
              "       [  0,   0,   0,   9, 178, 204, 115,   0, 121, 135, 114, 117, 114,\n",
              "        114, 117, 118, 119, 117, 113, 147,  63,   0, 225, 196, 107,   0,\n",
              "          0,   0],\n",
              "       [  0,   0,   0,  18, 180, 206, 131,   0,   0,   0,   0,   0,   0,\n",
              "          0,   0,   0,   0,   0,   0,   0,   0,   0, 224, 197, 123,   0,\n",
              "          0,   0],\n",
              "       [  0,   0,   0,   0, 141, 151,  76,   0,   1,   1,   0,   0,   0,\n",
              "          0,   0,   0,   0,   0,   0,   0,   0,   0, 133, 167,  73,   0,\n",
              "          0,   0]], dtype=uint8)"
            ]
          },
          "metadata": {},
          "execution_count": 59
        }
      ]
    },
    {
      "cell_type": "markdown",
      "source": [
        "# Question 5\n",
        "\n",
        "## **Please plot the image of the index 5 in the training dataset.**"
      ],
      "metadata": {
        "id": "1kYzYKCduOyk"
      }
    },
    {
      "cell_type": "code",
      "source": [
        "digit = train_images[5]\n",
        "plt.imshow(digit, cmap=plt.cm.CMRmap)\n",
        "plt.show()"
      ],
      "metadata": {
        "colab": {
          "base_uri": "https://localhost:8080/",
          "height": 265
        },
        "id": "VbXA01S0uQFg",
        "outputId": "d35a2f2e-c219-4a0a-e7f2-2556dcbfb3fb"
      },
      "execution_count": 60,
      "outputs": [
        {
          "output_type": "display_data",
          "data": {
            "text/plain": [
              "<Figure size 432x288 with 1 Axes>"
            ],
            "image/png": "[encoded data removed]"
          },
          "metadata": {
            "needs_background": "light"
          }
        }
      ]
    },
    {
      "cell_type": "code",
      "source": [
        "digit = train_images[5]\n",
        "plt.imshow(digit, cmap=plt.cm.Greys)\n",
        "plt.show()"
      ],
      "metadata": {
        "colab": {
          "base_uri": "https://localhost:8080/",
          "height": 265
        },
        "id": "TFFydCH9xHhe",
        "outputId": "ba0ff054-31fe-4ac4-aa34-8ff5d50b9e28"
      },
      "execution_count": 61,
      "outputs": [
        {
          "output_type": "display_data",
          "data": {
            "text/plain": [
              "<Figure size 432x288 with 1 Axes>"
            ],
            "image/png": "[encoded data removed]"
          },
          "metadata": {
            "needs_background": "light"
          }
        }
      ]
    },
    {
      "cell_type": "code",
      "source": [
        "digit = train_images[5]\n",
        "plt.imshow(digit, cmap=plt.cm.bone)\n",
        "plt.show()"
      ],
      "metadata": {
        "colab": {
          "base_uri": "https://localhost:8080/",
          "height": 265
        },
        "id": "WgQ8TUHkyNXO",
        "outputId": "a53a9e5f-7a5c-4243-b4fd-0d9d33f93234"
      },
      "execution_count": 62,
      "outputs": [
        {
          "output_type": "display_data",
          "data": {
            "text/plain": [
              "<Figure size 432x288 with 1 Axes>"
            ],
            "image/png": "[encoded data removed]"
          },
          "metadata": {
            "needs_background": "light"
          }
        }
      ]
    },
    {
      "cell_type": "markdown",
      "source": [
        "# Question 6\n",
        "\n",
        "## **What is the label for the index 5 in the train_label and looking up in the above list, what does it mean?**\n",
        "\n",
        "### Well, as we understand the train label at index 5 correspond to a specific clothing item of our list, which in this case, being 2 would mean a pullover."
      ],
      "metadata": {
        "id": "Q3IV0LFjzKjt"
      }
    },
    {
      "cell_type": "code",
      "source": [
        "train_labels[5]"
      ],
      "metadata": {
        "colab": {
          "base_uri": "https://localhost:8080/"
        },
        "id": "xPT4O8P3zLSU",
        "outputId": "cc263f91-68c9-41d6-e1d0-1250c1868e74"
      },
      "execution_count": 63,
      "outputs": [
        {
          "output_type": "execute_result",
          "data": {
            "text/plain": [
              "2"
            ]
          },
          "metadata": {},
          "execution_count": 63
        }
      ]
    },
    {
      "cell_type": "markdown",
      "source": [
        "# Question 7\n",
        "\n",
        "## **Please show the digital content of image index 500 in the testing dataset.**"
      ],
      "metadata": {
        "id": "Gk5S1L1g4kv-"
      }
    },
    {
      "cell_type": "code",
      "source": [
        "np.array(test_images[500])"
      ],
      "metadata": {
        "colab": {
          "base_uri": "https://localhost:8080/"
        },
        "id": "dZPUS_Pt4nUZ",
        "outputId": "f5131059-8fe3-44b6-e70b-7f01b1961bf4"
      },
      "execution_count": 64,
      "outputs": [
        {
          "output_type": "execute_result",
          "data": {
            "text/plain": [
              "array([[  0,   0,   0,   0,   0,   0,   0,   0,   0,   0, 108,  93,  38,\n",
              "          0,   0,   0,   8,  76, 140,  34,   0,   0,   0,   1,   1,   0,\n",
              "          0,   0],\n",
              "       [  0,   0,   0,   0,   0,   0,   0,  30,  92,  69, 192, 183, 149,\n",
              "        214, 177, 194, 227, 154, 206, 143,  79,  46,   0,   0,   0,   0,\n",
              "          0,   0],\n",
              "       [  0,   0,   0,   0,   0,   0,  59, 127, 116,  85,  63, 184, 128,\n",
              "        104,   0,  10, 126, 138, 145,  59, 104, 118,  86,   0,   0,   0,\n",
              "          0,   0],\n",
              "       [  0,   0,   0,   0,   0,   3,  99,  92,  81,  81,  54,  67, 222,\n",
              "        255, 209, 206, 178, 184,  72,  69,  97,  97, 118,  24,   0,   2,\n",
              "          0,   0],\n",
              "       [  0,   0,   1,   1,   0,  60, 121, 138,  83,  64,  76,  68,  23,\n",
              "         35,  55,  52,  46,  36,  65,  72,  72,  76, 102, 110,   0,   0,\n",
              "          0,   0],\n",
              "       [  0,   0,   0,   0,   0, 112,  89,  52,  89,  72,  67,  69,  81,\n",
              "         73,  60,  71,  64,  55,  52,  73,  77,  88, 104, 108,  10,   0,\n",
              "          1,   0],\n",
              "       [  0,   0,   0,   0,  21, 110, 143, 131,  55, 181, 128,  54,  36,\n",
              "        158, 185,  44,  74, 150, 154,  71,  96,  88, 105, 131,  50,   0,\n",
              "          0,   0],\n",
              "       [  0,   0,   2,   0,  52, 139,  90,  99,  77, 187, 134, 238,  68,\n",
              "        203, 127,  31, 158, 165, 191,  73,  95,  83,  86,  91,  85,   0,\n",
              "          0,   0],\n",
              "       [  0,   0,   0,   0,  97, 104, 119, 135,  95, 137, 156, 209, 158,\n",
              "        185,  67,  91, 199, 150, 218, 123,  78, 106,  91, 129, 106,   0,\n",
              "          0,   0],\n",
              "       [  0,   0,   0,   0, 109,  97, 129, 109,  80, 154, 183, 153, 178,\n",
              "        170,  78, 178, 228, 156, 214, 135, 112,  92,  91, 101, 127,   4,\n",
              "          0,   0],\n",
              "       [  0,   0,   0,  10, 125, 102, 120, 146,  99, 189, 238,  76, 139,\n",
              "        111,  63, 238, 172,  48, 249,  91,  79,  79, 146, 110, 111,  35,\n",
              "          0,   0],\n",
              "       [  0,   0,   0,  32, 147,  78, 156, 143,  55, 165, 175,  64, 142,\n",
              "        114,  62, 152, 107,  68, 213,  90, 108, 155, 211,  74, 143,  53,\n",
              "          0,   0],\n",
              "       [  0,   0,   0,  46, 127, 105, 124, 246,  90,  69,  74, 101, 112,\n",
              "         79,  99, 112,  81,  96, 184,  97,  77, 112, 172,  65, 119, 100,\n",
              "          0,   0],\n",
              "       [  0,   0,   0,  87, 143, 107, 112, 213,  70, 116, 230,  83, 154,\n",
              "        146, 150, 223,  65,  93, 196, 121,  89, 146, 193,  92, 108, 105,\n",
              "          0,   0],\n",
              "       [  0,   0,   0,  97, 125, 125, 124, 157,  60, 119, 250,  70, 180,\n",
              "        158, 134, 177, 163, 107, 225,  82,  85, 167, 178,  87, 123, 114,\n",
              "          0,   0],\n",
              "       [  0,   0,   0, 107, 102, 135, 142, 117,  78, 123, 229,  36, 121,\n",
              "        129, 119, 162, 223, 117, 154,  88,  79, 186, 164,  68, 116, 129,\n",
              "         22,   0],\n",
              "       [  0,   0,  14, 116, 107, 133, 154, 124,  71, 156, 193,  85, 181,\n",
              "         92, 121, 167, 194, 185, 119,  78, 101, 138, 163, 105, 118, 101,\n",
              "         27,   0],\n",
              "       [  0,   0,  15, 117, 108, 117, 180, 129,  76, 117, 189, 208, 211,\n",
              "        105, 161, 187, 190, 221,  97,  98, 107,  93, 118, 104, 124, 128,\n",
              "         39,   0],\n",
              "       [  0,   0,  15, 112,  96, 114, 167, 115, 101,  81, 181, 170, 216,\n",
              "        154, 181, 193, 176, 220,  72, 107,  93, 102,  97, 120, 129, 111,\n",
              "         50,   0],\n",
              "       [  0,   0,  23, 129, 110, 121, 178,  80,  85, 109,  70,  63,  76,\n",
              "        108,  92,  60,  68,  65, 105,  90, 116,  91, 105, 102, 105, 110,\n",
              "         40,   0],\n",
              "       [  0,   0,  38, 119, 102, 142, 158,  97, 104, 100, 121, 119, 107,\n",
              "        121, 120,  89,  96, 127, 101,  99, 107,  95, 139, 163,  98, 108,\n",
              "         53,   0],\n",
              "       [  0,   0,  21, 102,  97, 148,  93,  80, 124,  92,  97,  99, 109,\n",
              "        131, 126, 109, 107, 104,  97, 104,  92, 106,  76, 165, 124, 129,\n",
              "         63,   0],\n",
              "       [  0,   0,  39, 106, 111, 130,  72, 104,  85,  96,  97,  96, 104,\n",
              "        129, 116,  88,  96,  99, 101,  90, 116, 106,  44, 147, 127, 106,\n",
              "         42,   0],\n",
              "       [  0,   0,  45, 131, 158,  83,  51, 128,  86, 101, 108, 100, 110,\n",
              "        137, 123,  91,  93, 114, 102, 108, 106, 117,  33, 125, 137, 101,\n",
              "         52,   0],\n",
              "       [  0,   0,  43,  87, 123,  79,  58, 116, 110,  81, 105, 119, 120,\n",
              "        140, 124, 115, 125, 110,  90, 110,  83, 140,   8,  99, 152, 117,\n",
              "         69,   0],\n",
              "       [  0,   0,  49, 121, 155,  51,  42, 116,  95,  97,  95,  93, 108,\n",
              "        147, 117,  83,  90,  89, 104,  97,  93, 131,   0,  67, 153,  95,\n",
              "         57,   0],\n",
              "       [  0,   0,  42,  93, 143,  19,  49, 112,  89, 101, 107,  99, 104,\n",
              "        145, 135,  97, 108, 112,  96,  96,  99, 128,   0,  27, 152,  92,\n",
              "         62,   0],\n",
              "       [  0,   0,  58,  91, 143,  10,  34,  88,  44,  63,  72,  68,  64,\n",
              "         71,  70,  62,  69,  59,  55,  77,  71, 112,   0,  20, 138,  89,\n",
              "         65,   0]], dtype=uint8)"
            ]
          },
          "metadata": {},
          "execution_count": 64
        }
      ]
    },
    {
      "cell_type": "markdown",
      "source": [
        "# Question 8\n",
        "\n",
        "## **Please plot the image of the index 500 in the testing dataset.**"
      ],
      "metadata": {
        "id": "XUDPxZFv609a"
      }
    },
    {
      "cell_type": "code",
      "source": [
        "digit = test_images[500]\n",
        "plt.imshow(digit, cmap=plt.cm.brg)\n",
        "plt.show()"
      ],
      "metadata": {
        "colab": {
          "base_uri": "https://localhost:8080/",
          "height": 265
        },
        "id": "0vtqFiTq69sC",
        "outputId": "34cf22c0-779c-45fd-bc6e-4347d1d55a8a"
      },
      "execution_count": 65,
      "outputs": [
        {
          "output_type": "display_data",
          "data": {
            "text/plain": [
              "<Figure size 432x288 with 1 Axes>"
            ],
            "image/png": "[encoded data removed]"
          },
          "metadata": {
            "needs_background": "light"
          }
        }
      ]
    },
    {
      "cell_type": "markdown",
      "source": [
        "# Question 9\n",
        "\n",
        "## **What is the label for the index 500 in the test_label and looking up in the above list, what does it mean?**\n",
        "\n",
        "### So it seems that this test label 500 it is also returning a pullover, as in list number 2. "
      ],
      "metadata": {
        "id": "1eAMycqz700B"
      }
    },
    {
      "cell_type": "code",
      "source": [
        "test_labels[500]"
      ],
      "metadata": {
        "colab": {
          "base_uri": "https://localhost:8080/"
        },
        "id": "d89wjPGC8AAY",
        "outputId": "ac9670b6-adeb-4721-f330-9a624cd96351"
      },
      "execution_count": 66,
      "outputs": [
        {
          "output_type": "execute_result",
          "data": {
            "text/plain": [
              "2"
            ]
          },
          "metadata": {},
          "execution_count": 66
        }
      ]
    },
    {
      "cell_type": "markdown",
      "source": [
        "# Question 10\n",
        "\n",
        "## **Please import models and layers from the keras library.**"
      ],
      "metadata": {
        "id": "VJ8qZZoJGIyh"
      }
    },
    {
      "cell_type": "code",
      "source": [
        "from keras import models\n",
        "from keras import layers\n",
        "from keras import utils"
      ],
      "metadata": {
        "id": "-etxefIpGSYh"
      },
      "execution_count": 67,
      "outputs": []
    },
    {
      "cell_type": "markdown",
      "source": [
        "# Question 11\n",
        "\n",
        "## **Define a sequential model and call it myNetwork.**"
      ],
      "metadata": {
        "id": "IEbrJexdGs55"
      }
    },
    {
      "cell_type": "code",
      "source": [
        "myNetwork = models.Sequential()"
      ],
      "metadata": {
        "id": "_pYuiui2G0e8"
      },
      "execution_count": 68,
      "outputs": []
    },
    {
      "cell_type": "markdown",
      "source": [
        "# Question 12\n",
        "\n",
        "## **Reshape the images from 28x28 to one column with 784 neurons (flattening) (use 2 methods, one from the book and one from the 20-minute video).**\n"
      ],
      "metadata": {
        "id": "hRtZuWDxG9gP"
      }
    },
    {
      "cell_type": "code",
      "source": [
        "# Version form the book\n",
        "train_images = train_images.reshape((60000, 28 * 28))\n",
        "test_images = test_images.reshape((10000, 28 * 28))"
      ],
      "metadata": {
        "id": "mrxzXLAEI2f1"
      },
      "execution_count": 69,
      "outputs": []
    },
    {
      "cell_type": "code",
      "source": [
        "# Version from the Video\n",
        "# train_images = utils.normalize(train_images, axis=1)\n",
        "# test_images = utils.normalize(test_images, axis=1)"
      ],
      "metadata": {
        "id": "77mestkkevE-"
      },
      "execution_count": 70,
      "outputs": []
    },
    {
      "cell_type": "markdown",
      "source": [
        "# Question 13\n",
        "\n",
        "## **Also, please normalize the image by dividing the image by 255 (use 2 methods, one from the book and one from the 20-minute video).**"
      ],
      "metadata": {
        "id": "3qjXHTdaLYhh"
      }
    },
    {
      "cell_type": "code",
      "source": [
        "train_images = train_images.astype(\"float32\") / 255\n",
        "test_images = test_images.astype(\"float32\") / 255"
      ],
      "metadata": {
        "id": "VbNM17H_of0N"
      },
      "execution_count": 71,
      "outputs": []
    },
    {
      "cell_type": "code",
      "source": [
        "# myNetwork.add(layers.Flatten())"
      ],
      "metadata": {
        "id": "KBow8qq2oisu"
      },
      "execution_count": 72,
      "outputs": []
    },
    {
      "cell_type": "markdown",
      "source": [
        "# Question 14\n",
        "\n",
        "## **Add one hidden layer that has 512 neurons, using ‘relu’ activation function.**"
      ],
      "metadata": {
        "id": "KsNrynpwLnUF"
      }
    },
    {
      "cell_type": "code",
      "source": [
        "from keras.backend import relu\n",
        "\n",
        "myNetwork.add(layers.Dense(512, activation=relu))"
      ],
      "metadata": {
        "id": "UDc3hmZ1L4Je"
      },
      "execution_count": 73,
      "outputs": []
    },
    {
      "cell_type": "markdown",
      "source": [
        "# Question 15\n",
        "\n",
        "## **Add another hidden layer that has 128 neurons, using ‘relu’ activation function.**"
      ],
      "metadata": {
        "id": "tbFEd4ChWejk"
      }
    },
    {
      "cell_type": "code",
      "source": [
        "myNetwork.add(layers.Dense(128, activation=relu))"
      ],
      "metadata": {
        "id": "Wk-_Gd0OWoQL"
      },
      "execution_count": 74,
      "outputs": []
    },
    {
      "cell_type": "markdown",
      "source": [
        "# Question 16\n",
        "\n",
        "## **Add the last layer as a 10-neuron dense layer that uses the ‘softmax’ as the activation function. Why we use softmax for the last layer? How does it work under the hood?**\n",
        "\n",
        "### The reason why we should use softmax as the last activation functions is due to the nature of the predictions we wish to obtain, that is a more probability distribution. Essentially sofmax will return a probability score (array) of 10 numbers summing to 1, and it fits our scope because we would like to have an idea of which clothing item we are most likely observing. "
      ],
      "metadata": {
        "id": "kBX6tpjNXBGz"
      }
    },
    {
      "cell_type": "code",
      "source": [
        "from keras.backend import softmax\n",
        "myNetwork.add(layers.Dense(10, activation=softmax))"
      ],
      "metadata": {
        "id": "Aqkj5g_xXIAF"
      },
      "execution_count": 75,
      "outputs": []
    },
    {
      "cell_type": "markdown",
      "source": [
        "# Question 17\n",
        "\n",
        "## **17.\tUse the following two settings for the compiler and run them separately and see what the differences are.**\n",
        "\n",
        "- Optimizer: adam\n",
        " -  loss: sparse_categorical_crossentropy\n",
        " - metrics: ‘accuracy’\n",
        "\n",
        "- Optimizer:  rmsprop  \n",
        " - loss: 'categorical_crossentropy'\n",
        " - metrics: accuracy\n",
        "\n",
        "### **why adam over rmsprop?**\n",
        "- Adaptive Learning Rates\n",
        " - adam set the learning rates of individual parameters based on the historical gradient information, that can contribute to faster convergence and better performance compared to rmsprop\n",
        "- Bias Correction: \n",
        " - Adam includes bias correction terms that help to reduce the initial strong bias in the moving average of the squared gradients, making the algorithm more stable in the early stages of training.\n",
        "- Computationally Efficient\n",
        " - Adam is computationally efficient compared to RMSprop and some other optimization algorithms, as it only requires storing a running average of the gradients and squared gradients.\n",
        "\n",
        "### **why rmsprop over adam?**\n",
        "- Simple to Implement\n",
        " - RMSprop is a simple optimization algorithm that is easy to implement and understand.\n",
        "\n",
        "- Scalability\n",
        " - RMSprop can handle very large datasets and models more efficiently than Adam, as it only updates the moving average of the squared gradients at each time step.\n",
        "\n",
        "#### In general, Adam is a good default choice for most problems and is often the first optimization algorithm that people try. However, if you have computational constraints or if you want a more robust optimization algorithm, you might consider using RMSprop. Ultimately, the choice between Adam and RMSprop depends on the specifics of your problem and the resources you have available."
      ],
      "metadata": {
        "id": "vE571T-BawbY"
      }
    },
    {
      "cell_type": "code",
      "source": [
        "# adam and sparse_categorical_crossentropy\n",
        "myNetwork.compile(\n",
        "    optimizer='adam', \n",
        "    loss='sparse_categorical_crossentropy', \n",
        "    metrics=['accuracy'])"
      ],
      "metadata": {
        "id": "R7gdHX5GbFaB"
      },
      "execution_count": 76,
      "outputs": []
    },
    {
      "cell_type": "code",
      "source": [
        "# adam and sparse_categorical_crossentropy\n",
        "# myNetwork.compile(\n",
        "#     optimizer='rmsprop', \n",
        "#     loss='categorical_crossentropy', \n",
        "#     metrics=['accuracy'])"
      ],
      "metadata": {
        "id": "gat4A00tenRx"
      },
      "execution_count": 77,
      "outputs": []
    },
    {
      "cell_type": "markdown",
      "source": [
        "# Question 18\n",
        "\n",
        "## **Now after the compilation, please try to find the pattern using the fit command. The epochs need to be 10 for this example.**"
      ],
      "metadata": {
        "id": "B8khe8m--2sM"
      }
    },
    {
      "cell_type": "code",
      "source": [
        "from keras.utils import to_categorical\n",
        "\n",
        "myNetwork.fit(\n",
        "    train_images,\n",
        "    train_labels,\n",
        "    epochs=10,\n",
        "    \n",
        ")"
      ],
      "metadata": {
        "colab": {
          "base_uri": "https://localhost:8080/"
        },
        "id": "_xZ4qBcvC7wj",
        "outputId": "67f14a3b-0980-4bc7-b02a-10941a6b0ef3"
      },
      "execution_count": 78,
      "outputs": [
        {
          "output_type": "stream",
          "name": "stdout",
          "text": [
            "Epoch 1/10\n",
            "1875/1875 [==============================] - 17s 9ms/step - loss: 0.4696 - accuracy: 0.8296\n",
            "Epoch 2/10\n",
            "1875/1875 [==============================] - 15s 8ms/step - loss: 0.3554 - accuracy: 0.8688\n",
            "Epoch 3/10\n",
            "1875/1875 [==============================] - 16s 8ms/step - loss: 0.3193 - accuracy: 0.8815\n",
            "Epoch 4/10\n",
            "1875/1875 [==============================] - 17s 9ms/step - loss: 0.2963 - accuracy: 0.8897\n",
            "Epoch 5/10\n",
            "1875/1875 [==============================] - 16s 9ms/step - loss: 0.2796 - accuracy: 0.8945\n",
            "Epoch 6/10\n",
            "1875/1875 [==============================] - 16s 8ms/step - loss: 0.2650 - accuracy: 0.9002\n",
            "Epoch 7/10\n",
            "1875/1875 [==============================] - 16s 8ms/step - loss: 0.2515 - accuracy: 0.9057\n",
            "Epoch 8/10\n",
            "1875/1875 [==============================] - 16s 9ms/step - loss: 0.2412 - accuracy: 0.9075\n",
            "Epoch 9/10\n",
            "1875/1875 [==============================] - 16s 9ms/step - loss: 0.2285 - accuracy: 0.9133\n",
            "Epoch 10/10\n",
            "1875/1875 [==============================] - 16s 8ms/step - loss: 0.2201 - accuracy: 0.9162\n"
          ]
        },
        {
          "output_type": "execute_result",
          "data": {
            "text/plain": [
              "<keras.callbacks.History at 0x7facd48998e0>"
            ]
          },
          "metadata": {},
          "execution_count": 78
        }
      ]
    },
    {
      "cell_type": "markdown",
      "source": [
        "# Question 19\n",
        "\n",
        "## **19.\tHow do you compare the fashion_MNIST with what we learned in the class using the MNIST? What can we infer from the differences in the accuracy? What could be the reasons for that?**\n",
        "\n",
        "### Just as we understand the complexity of the image in the fashion mnist it is clear that compared to the traditional mnist there is a much more work to do by our NN to address each pixel variety. Clearly, the fashion mnist pictures resolution and complexity are much more challenging then a traditional hand digit writeen characters such as the one found in the traditional mnist, hence the difference in accuracy, and execution time (performance)."
      ],
      "metadata": {
        "id": "pQgus6uw5ZdS"
      }
    },
    {
      "cell_type": "markdown",
      "source": [
        "# Question 20\n",
        "\n",
        "## **Use the evaluate to calculate the achieved accuracy and loss over the test images and labels. Do we have overfitting?**\n",
        "\n",
        "### We defenitly have some overfitting, when our model will be fed with unseen data, but even at the moment we have overfitting since we have quite of a difference between our training and testing values. "
      ],
      "metadata": {
        "id": "ROywedUkvuq0"
      }
    },
    {
      "cell_type": "code",
      "source": [
        "val_loss, val_acc = myNetwork.evaluate(test_images, test_labels)"
      ],
      "metadata": {
        "colab": {
          "base_uri": "https://localhost:8080/"
        },
        "id": "27r_FXmnwBDP",
        "outputId": "1f44a819-58bf-4075-8432-c9dd5102b5bb"
      },
      "execution_count": 82,
      "outputs": [
        {
          "output_type": "stream",
          "name": "stdout",
          "text": [
            "313/313 [==============================] - 1s 4ms/step - loss: 0.3252 - accuracy: 0.8890\n"
          ]
        }
      ]
    },
    {
      "cell_type": "code",
      "source": [
        "print(\"val_loss: \", val_loss, \"val_acc: \", val_acc)"
      ],
      "metadata": {
        "colab": {
          "base_uri": "https://localhost:8080/"
        },
        "id": "kfnwFF7FxJsa",
        "outputId": "ae35e269-5b59-4106-ff86-7d8c3d47b1c0"
      },
      "execution_count": 80,
      "outputs": [
        {
          "output_type": "stream",
          "name": "stdout",
          "text": [
            "val_loss:  0.32518288493156433 val_acc:  0.8889999985694885\n"
          ]
        }
      ]
    },
    {
      "cell_type": "code",
      "source": [
        "print(\"Best training scores -> Loss: 0.1231 | Accuracy: 0.9527 \")\n",
        "print(\"Evaluate test values -> Loss: 0.4417 | Accuracy: 0.8917\")\n",
        "print(\"----------------------------------------------------------\")\n",
        "print(\"----------------------> LOSS: 0.3186 | ACCURACY: 0.061 \")"
      ],
      "metadata": {
        "colab": {
          "base_uri": "https://localhost:8080/"
        },
        "id": "w1AkULoxxWbq",
        "outputId": "8dbb26dd-3650-48b3-c658-7c7de27ada8c"
      },
      "execution_count": 81,
      "outputs": [
        {
          "output_type": "stream",
          "name": "stdout",
          "text": [
            "Best training scores -> Loss: 0.1231 | Accuracy: 0.9527 \n",
            "Evaluate test values -> Loss: 0.4417 | Accuracy: 0.8917\n",
            "----------------------------------------------------------\n",
            "----------------------> LOSS: 0.3186 | ACCURACY: 0.061 \n"
          ]
        }
      ]
    }
  ]
}