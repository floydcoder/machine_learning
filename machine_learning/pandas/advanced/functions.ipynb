{
 "cells": [
  {
   "attachments": {},
   "cell_type": "markdown",
   "metadata": {},
   "source": [
    "### 1\n",
    "\n",
    "#### Download the test.csv file and store it in a DataFrame named, myDF."
   ]
  },
  {
   "cell_type": "code",
   "execution_count": 1,
   "metadata": {},
   "outputs": [],
   "source": [
    "import pandas as pd"
   ]
  },
  {
   "cell_type": "code",
   "execution_count": 2,
   "metadata": {},
   "outputs": [],
   "source": [
    "myDF = pd.read_csv('test.csv')"
   ]
  },
  {
   "attachments": {},
   "cell_type": "markdown",
   "metadata": {},
   "source": [
    "### 2\n",
    "\n",
    "#### Show the first three rows of the DF."
   ]
  },
  {
   "cell_type": "code",
   "execution_count": 3,
   "metadata": {},
   "outputs": [
    {
     "data": {
      "text/html": [
       "<div>\n",
       "<style scoped>\n",
       "    .dataframe tbody tr th:only-of-type {\n",
       "        vertical-align: middle;\n",
       "    }\n",
       "\n",
       "    .dataframe tbody tr th {\n",
       "        vertical-align: top;\n",
       "    }\n",
       "\n",
       "    .dataframe thead th {\n",
       "        text-align: right;\n",
       "    }\n",
       "</style>\n",
       "<table border=\"1\" class=\"dataframe\">\n",
       "  <thead>\n",
       "    <tr style=\"text-align: right;\">\n",
       "      <th></th>\n",
       "      <th>ID</th>\n",
       "      <th>Range</th>\n",
       "      <th>Value</th>\n",
       "      <th>Type</th>\n",
       "      <th>Zip Code</th>\n",
       "      <th>Model</th>\n",
       "      <th>Cost</th>\n",
       "      <th>Continent</th>\n",
       "    </tr>\n",
       "  </thead>\n",
       "  <tbody>\n",
       "    <tr>\n",
       "      <th>0</th>\n",
       "      <td>10</td>\n",
       "      <td>192</td>\n",
       "      <td>50</td>\n",
       "      <td>F</td>\n",
       "      <td>NXEYEM</td>\n",
       "      <td>EX85</td>\n",
       "      <td>[56$]</td>\n",
       "      <td>Asia</td>\n",
       "    </tr>\n",
       "    <tr>\n",
       "      <th>1</th>\n",
       "      <td>20</td>\n",
       "      <td>299</td>\n",
       "      <td>21</td>\n",
       "      <td>M</td>\n",
       "      <td>VNFKZD</td>\n",
       "      <td>CT41</td>\n",
       "      <td>[18$]</td>\n",
       "      <td>Asia</td>\n",
       "    </tr>\n",
       "    <tr>\n",
       "      <th>2</th>\n",
       "      <td>30</td>\n",
       "      <td>378</td>\n",
       "      <td>28</td>\n",
       "      <td>X</td>\n",
       "      <td>IMGMFY</td>\n",
       "      <td>VN81</td>\n",
       "      <td>[90$]</td>\n",
       "      <td>North America</td>\n",
       "    </tr>\n",
       "  </tbody>\n",
       "</table>\n",
       "</div>"
      ],
      "text/plain": [
       "   ID  Range  Value Type Zip Code Model   Cost      Continent\n",
       "0  10    192     50    F   NXEYEM  EX85  [56$]           Asia\n",
       "1  20    299     21    M   VNFKZD  CT41  [18$]           Asia\n",
       "2  30    378     28    X   IMGMFY  VN81  [90$]  North America"
      ]
     },
     "execution_count": 3,
     "metadata": {},
     "output_type": "execute_result"
    }
   ],
   "source": [
    "myDF.head(3)"
   ]
  },
  {
   "attachments": {},
   "cell_type": "markdown",
   "metadata": {},
   "source": [
    "### 3\n",
    "\n",
    "#### Delete the ‘Model’ column from the DF temporarily."
   ]
  },
  {
   "cell_type": "code",
   "execution_count": 4,
   "metadata": {},
   "outputs": [
    {
     "data": {
      "text/html": [
       "<div>\n",
       "<style scoped>\n",
       "    .dataframe tbody tr th:only-of-type {\n",
       "        vertical-align: middle;\n",
       "    }\n",
       "\n",
       "    .dataframe tbody tr th {\n",
       "        vertical-align: top;\n",
       "    }\n",
       "\n",
       "    .dataframe thead th {\n",
       "        text-align: right;\n",
       "    }\n",
       "</style>\n",
       "<table border=\"1\" class=\"dataframe\">\n",
       "  <thead>\n",
       "    <tr style=\"text-align: right;\">\n",
       "      <th></th>\n",
       "      <th>ID</th>\n",
       "      <th>Range</th>\n",
       "      <th>Value</th>\n",
       "      <th>Type</th>\n",
       "      <th>Zip Code</th>\n",
       "      <th>Cost</th>\n",
       "      <th>Continent</th>\n",
       "    </tr>\n",
       "  </thead>\n",
       "  <tbody>\n",
       "    <tr>\n",
       "      <th>0</th>\n",
       "      <td>10</td>\n",
       "      <td>192</td>\n",
       "      <td>50</td>\n",
       "      <td>F</td>\n",
       "      <td>NXEYEM</td>\n",
       "      <td>[56$]</td>\n",
       "      <td>Asia</td>\n",
       "    </tr>\n",
       "    <tr>\n",
       "      <th>1</th>\n",
       "      <td>20</td>\n",
       "      <td>299</td>\n",
       "      <td>21</td>\n",
       "      <td>M</td>\n",
       "      <td>VNFKZD</td>\n",
       "      <td>[18$]</td>\n",
       "      <td>Asia</td>\n",
       "    </tr>\n",
       "    <tr>\n",
       "      <th>2</th>\n",
       "      <td>30</td>\n",
       "      <td>378</td>\n",
       "      <td>28</td>\n",
       "      <td>X</td>\n",
       "      <td>IMGMFY</td>\n",
       "      <td>[90$]</td>\n",
       "      <td>North America</td>\n",
       "    </tr>\n",
       "    <tr>\n",
       "      <th>3</th>\n",
       "      <td>40</td>\n",
       "      <td>156</td>\n",
       "      <td>44</td>\n",
       "      <td>Q</td>\n",
       "      <td>RHRHJY</td>\n",
       "      <td>[89$]</td>\n",
       "      <td>Asia</td>\n",
       "    </tr>\n",
       "    <tr>\n",
       "      <th>4</th>\n",
       "      <td>50</td>\n",
       "      <td>468</td>\n",
       "      <td>33</td>\n",
       "      <td>J</td>\n",
       "      <td>HPQCMC</td>\n",
       "      <td>[95$]</td>\n",
       "      <td>Africa</td>\n",
       "    </tr>\n",
       "    <tr>\n",
       "      <th>...</th>\n",
       "      <td>...</td>\n",
       "      <td>...</td>\n",
       "      <td>...</td>\n",
       "      <td>...</td>\n",
       "      <td>...</td>\n",
       "      <td>...</td>\n",
       "      <td>...</td>\n",
       "    </tr>\n",
       "    <tr>\n",
       "      <th>945</th>\n",
       "      <td>9460</td>\n",
       "      <td>136</td>\n",
       "      <td>12</td>\n",
       "      <td>C</td>\n",
       "      <td>HGVBPV</td>\n",
       "      <td>[51$]</td>\n",
       "      <td>South America</td>\n",
       "    </tr>\n",
       "    <tr>\n",
       "      <th>946</th>\n",
       "      <td>9470</td>\n",
       "      <td>316</td>\n",
       "      <td>46</td>\n",
       "      <td>L</td>\n",
       "      <td>SHBAUD</td>\n",
       "      <td>[33$]</td>\n",
       "      <td>North America</td>\n",
       "    </tr>\n",
       "    <tr>\n",
       "      <th>947</th>\n",
       "      <td>9480</td>\n",
       "      <td>461</td>\n",
       "      <td>46</td>\n",
       "      <td>K</td>\n",
       "      <td>PUZUVO</td>\n",
       "      <td>[12$]</td>\n",
       "      <td>Europe</td>\n",
       "    </tr>\n",
       "    <tr>\n",
       "      <th>948</th>\n",
       "      <td>9490</td>\n",
       "      <td>185</td>\n",
       "      <td>13</td>\n",
       "      <td>N</td>\n",
       "      <td>UMESZO</td>\n",
       "      <td>[39$]</td>\n",
       "      <td>North America</td>\n",
       "    </tr>\n",
       "    <tr>\n",
       "      <th>949</th>\n",
       "      <td>9500</td>\n",
       "      <td>137</td>\n",
       "      <td>10</td>\n",
       "      <td>W</td>\n",
       "      <td>JOHHVL</td>\n",
       "      <td>[10$]</td>\n",
       "      <td>South America</td>\n",
       "    </tr>\n",
       "  </tbody>\n",
       "</table>\n",
       "<p>950 rows × 7 columns</p>\n",
       "</div>"
      ],
      "text/plain": [
       "       ID  Range  Value Type Zip Code   Cost      Continent\n",
       "0      10    192     50    F   NXEYEM  [56$]           Asia\n",
       "1      20    299     21    M   VNFKZD  [18$]           Asia\n",
       "2      30    378     28    X   IMGMFY  [90$]  North America\n",
       "3      40    156     44    Q   RHRHJY  [89$]           Asia\n",
       "4      50    468     33    J   HPQCMC  [95$]         Africa\n",
       "..    ...    ...    ...  ...      ...    ...            ...\n",
       "945  9460    136     12    C   HGVBPV  [51$]  South America\n",
       "946  9470    316     46    L   SHBAUD  [33$]  North America\n",
       "947  9480    461     46    K   PUZUVO  [12$]         Europe\n",
       "948  9490    185     13    N   UMESZO  [39$]  North America\n",
       "949  9500    137     10    W   JOHHVL  [10$]  South America\n",
       "\n",
       "[950 rows x 7 columns]"
      ]
     },
     "execution_count": 4,
     "metadata": {},
     "output_type": "execute_result"
    }
   ],
   "source": [
    "myDF.drop('Model', axis=1, inplace=False)"
   ]
  },
  {
   "cell_type": "code",
   "execution_count": 5,
   "metadata": {},
   "outputs": [
    {
     "data": {
      "text/html": [
       "<div>\n",
       "<style scoped>\n",
       "    .dataframe tbody tr th:only-of-type {\n",
       "        vertical-align: middle;\n",
       "    }\n",
       "\n",
       "    .dataframe tbody tr th {\n",
       "        vertical-align: top;\n",
       "    }\n",
       "\n",
       "    .dataframe thead th {\n",
       "        text-align: right;\n",
       "    }\n",
       "</style>\n",
       "<table border=\"1\" class=\"dataframe\">\n",
       "  <thead>\n",
       "    <tr style=\"text-align: right;\">\n",
       "      <th></th>\n",
       "      <th>ID</th>\n",
       "      <th>Range</th>\n",
       "      <th>Value</th>\n",
       "      <th>Type</th>\n",
       "      <th>Zip Code</th>\n",
       "      <th>Model</th>\n",
       "      <th>Cost</th>\n",
       "      <th>Continent</th>\n",
       "    </tr>\n",
       "  </thead>\n",
       "  <tbody>\n",
       "    <tr>\n",
       "      <th>0</th>\n",
       "      <td>10</td>\n",
       "      <td>192</td>\n",
       "      <td>50</td>\n",
       "      <td>F</td>\n",
       "      <td>NXEYEM</td>\n",
       "      <td>EX85</td>\n",
       "      <td>[56$]</td>\n",
       "      <td>Asia</td>\n",
       "    </tr>\n",
       "    <tr>\n",
       "      <th>1</th>\n",
       "      <td>20</td>\n",
       "      <td>299</td>\n",
       "      <td>21</td>\n",
       "      <td>M</td>\n",
       "      <td>VNFKZD</td>\n",
       "      <td>CT41</td>\n",
       "      <td>[18$]</td>\n",
       "      <td>Asia</td>\n",
       "    </tr>\n",
       "    <tr>\n",
       "      <th>2</th>\n",
       "      <td>30</td>\n",
       "      <td>378</td>\n",
       "      <td>28</td>\n",
       "      <td>X</td>\n",
       "      <td>IMGMFY</td>\n",
       "      <td>VN81</td>\n",
       "      <td>[90$]</td>\n",
       "      <td>North America</td>\n",
       "    </tr>\n",
       "    <tr>\n",
       "      <th>3</th>\n",
       "      <td>40</td>\n",
       "      <td>156</td>\n",
       "      <td>44</td>\n",
       "      <td>Q</td>\n",
       "      <td>RHRHJY</td>\n",
       "      <td>IR14</td>\n",
       "      <td>[89$]</td>\n",
       "      <td>Asia</td>\n",
       "    </tr>\n",
       "    <tr>\n",
       "      <th>4</th>\n",
       "      <td>50</td>\n",
       "      <td>468</td>\n",
       "      <td>33</td>\n",
       "      <td>J</td>\n",
       "      <td>HPQCMC</td>\n",
       "      <td>QX90</td>\n",
       "      <td>[95$]</td>\n",
       "      <td>Africa</td>\n",
       "    </tr>\n",
       "    <tr>\n",
       "      <th>...</th>\n",
       "      <td>...</td>\n",
       "      <td>...</td>\n",
       "      <td>...</td>\n",
       "      <td>...</td>\n",
       "      <td>...</td>\n",
       "      <td>...</td>\n",
       "      <td>...</td>\n",
       "      <td>...</td>\n",
       "    </tr>\n",
       "    <tr>\n",
       "      <th>945</th>\n",
       "      <td>9460</td>\n",
       "      <td>136</td>\n",
       "      <td>12</td>\n",
       "      <td>C</td>\n",
       "      <td>HGVBPV</td>\n",
       "      <td>NG88</td>\n",
       "      <td>[51$]</td>\n",
       "      <td>South America</td>\n",
       "    </tr>\n",
       "    <tr>\n",
       "      <th>946</th>\n",
       "      <td>9470</td>\n",
       "      <td>316</td>\n",
       "      <td>46</td>\n",
       "      <td>L</td>\n",
       "      <td>SHBAUD</td>\n",
       "      <td>IE12</td>\n",
       "      <td>[33$]</td>\n",
       "      <td>North America</td>\n",
       "    </tr>\n",
       "    <tr>\n",
       "      <th>947</th>\n",
       "      <td>9480</td>\n",
       "      <td>461</td>\n",
       "      <td>46</td>\n",
       "      <td>K</td>\n",
       "      <td>PUZUVO</td>\n",
       "      <td>HB82</td>\n",
       "      <td>[12$]</td>\n",
       "      <td>Europe</td>\n",
       "    </tr>\n",
       "    <tr>\n",
       "      <th>948</th>\n",
       "      <td>9490</td>\n",
       "      <td>185</td>\n",
       "      <td>13</td>\n",
       "      <td>N</td>\n",
       "      <td>UMESZO</td>\n",
       "      <td>WJ90</td>\n",
       "      <td>[39$]</td>\n",
       "      <td>North America</td>\n",
       "    </tr>\n",
       "    <tr>\n",
       "      <th>949</th>\n",
       "      <td>9500</td>\n",
       "      <td>137</td>\n",
       "      <td>10</td>\n",
       "      <td>W</td>\n",
       "      <td>JOHHVL</td>\n",
       "      <td>QE45</td>\n",
       "      <td>[10$]</td>\n",
       "      <td>South America</td>\n",
       "    </tr>\n",
       "  </tbody>\n",
       "</table>\n",
       "<p>950 rows × 8 columns</p>\n",
       "</div>"
      ],
      "text/plain": [
       "       ID  Range  Value Type Zip Code Model   Cost      Continent\n",
       "0      10    192     50    F   NXEYEM  EX85  [56$]           Asia\n",
       "1      20    299     21    M   VNFKZD  CT41  [18$]           Asia\n",
       "2      30    378     28    X   IMGMFY  VN81  [90$]  North America\n",
       "3      40    156     44    Q   RHRHJY  IR14  [89$]           Asia\n",
       "4      50    468     33    J   HPQCMC  QX90  [95$]         Africa\n",
       "..    ...    ...    ...  ...      ...   ...    ...            ...\n",
       "945  9460    136     12    C   HGVBPV  NG88  [51$]  South America\n",
       "946  9470    316     46    L   SHBAUD  IE12  [33$]  North America\n",
       "947  9480    461     46    K   PUZUVO  HB82  [12$]         Europe\n",
       "948  9490    185     13    N   UMESZO  WJ90  [39$]  North America\n",
       "949  9500    137     10    W   JOHHVL  QE45  [10$]  South America\n",
       "\n",
       "[950 rows x 8 columns]"
      ]
     },
     "execution_count": 5,
     "metadata": {},
     "output_type": "execute_result"
    }
   ],
   "source": [
    "myDF"
   ]
  },
  {
   "attachments": {},
   "cell_type": "markdown",
   "metadata": {},
   "source": [
    "### 4\n",
    "\n",
    "#### Delete the ‘Model’ column permanently, using the assignment (Not inplace parameter). Is there any output when you run the permanent deletion? So, how can you make sure it is deleted?"
   ]
  },
  {
   "cell_type": "code",
   "execution_count": 6,
   "metadata": {},
   "outputs": [
    {
     "data": {
      "text/plain": [
       "0      EX85\n",
       "1      CT41\n",
       "2      VN81\n",
       "3      IR14\n",
       "4      QX90\n",
       "       ... \n",
       "945    NG88\n",
       "946    IE12\n",
       "947    HB82\n",
       "948    WJ90\n",
       "949    QE45\n",
       "Name: Model, Length: 950, dtype: object"
      ]
     },
     "execution_count": 6,
     "metadata": {},
     "output_type": "execute_result"
    }
   ],
   "source": [
    "myDF.pop('Model')"
   ]
  },
  {
   "cell_type": "code",
   "execution_count": 7,
   "metadata": {},
   "outputs": [
    {
     "data": {
      "text/html": [
       "<div>\n",
       "<style scoped>\n",
       "    .dataframe tbody tr th:only-of-type {\n",
       "        vertical-align: middle;\n",
       "    }\n",
       "\n",
       "    .dataframe tbody tr th {\n",
       "        vertical-align: top;\n",
       "    }\n",
       "\n",
       "    .dataframe thead th {\n",
       "        text-align: right;\n",
       "    }\n",
       "</style>\n",
       "<table border=\"1\" class=\"dataframe\">\n",
       "  <thead>\n",
       "    <tr style=\"text-align: right;\">\n",
       "      <th></th>\n",
       "      <th>ID</th>\n",
       "      <th>Range</th>\n",
       "      <th>Value</th>\n",
       "      <th>Type</th>\n",
       "      <th>Zip Code</th>\n",
       "      <th>Cost</th>\n",
       "      <th>Continent</th>\n",
       "    </tr>\n",
       "  </thead>\n",
       "  <tbody>\n",
       "    <tr>\n",
       "      <th>0</th>\n",
       "      <td>10</td>\n",
       "      <td>192</td>\n",
       "      <td>50</td>\n",
       "      <td>F</td>\n",
       "      <td>NXEYEM</td>\n",
       "      <td>[56$]</td>\n",
       "      <td>Asia</td>\n",
       "    </tr>\n",
       "    <tr>\n",
       "      <th>1</th>\n",
       "      <td>20</td>\n",
       "      <td>299</td>\n",
       "      <td>21</td>\n",
       "      <td>M</td>\n",
       "      <td>VNFKZD</td>\n",
       "      <td>[18$]</td>\n",
       "      <td>Asia</td>\n",
       "    </tr>\n",
       "    <tr>\n",
       "      <th>2</th>\n",
       "      <td>30</td>\n",
       "      <td>378</td>\n",
       "      <td>28</td>\n",
       "      <td>X</td>\n",
       "      <td>IMGMFY</td>\n",
       "      <td>[90$]</td>\n",
       "      <td>North America</td>\n",
       "    </tr>\n",
       "    <tr>\n",
       "      <th>3</th>\n",
       "      <td>40</td>\n",
       "      <td>156</td>\n",
       "      <td>44</td>\n",
       "      <td>Q</td>\n",
       "      <td>RHRHJY</td>\n",
       "      <td>[89$]</td>\n",
       "      <td>Asia</td>\n",
       "    </tr>\n",
       "    <tr>\n",
       "      <th>4</th>\n",
       "      <td>50</td>\n",
       "      <td>468</td>\n",
       "      <td>33</td>\n",
       "      <td>J</td>\n",
       "      <td>HPQCMC</td>\n",
       "      <td>[95$]</td>\n",
       "      <td>Africa</td>\n",
       "    </tr>\n",
       "    <tr>\n",
       "      <th>...</th>\n",
       "      <td>...</td>\n",
       "      <td>...</td>\n",
       "      <td>...</td>\n",
       "      <td>...</td>\n",
       "      <td>...</td>\n",
       "      <td>...</td>\n",
       "      <td>...</td>\n",
       "    </tr>\n",
       "    <tr>\n",
       "      <th>945</th>\n",
       "      <td>9460</td>\n",
       "      <td>136</td>\n",
       "      <td>12</td>\n",
       "      <td>C</td>\n",
       "      <td>HGVBPV</td>\n",
       "      <td>[51$]</td>\n",
       "      <td>South America</td>\n",
       "    </tr>\n",
       "    <tr>\n",
       "      <th>946</th>\n",
       "      <td>9470</td>\n",
       "      <td>316</td>\n",
       "      <td>46</td>\n",
       "      <td>L</td>\n",
       "      <td>SHBAUD</td>\n",
       "      <td>[33$]</td>\n",
       "      <td>North America</td>\n",
       "    </tr>\n",
       "    <tr>\n",
       "      <th>947</th>\n",
       "      <td>9480</td>\n",
       "      <td>461</td>\n",
       "      <td>46</td>\n",
       "      <td>K</td>\n",
       "      <td>PUZUVO</td>\n",
       "      <td>[12$]</td>\n",
       "      <td>Europe</td>\n",
       "    </tr>\n",
       "    <tr>\n",
       "      <th>948</th>\n",
       "      <td>9490</td>\n",
       "      <td>185</td>\n",
       "      <td>13</td>\n",
       "      <td>N</td>\n",
       "      <td>UMESZO</td>\n",
       "      <td>[39$]</td>\n",
       "      <td>North America</td>\n",
       "    </tr>\n",
       "    <tr>\n",
       "      <th>949</th>\n",
       "      <td>9500</td>\n",
       "      <td>137</td>\n",
       "      <td>10</td>\n",
       "      <td>W</td>\n",
       "      <td>JOHHVL</td>\n",
       "      <td>[10$]</td>\n",
       "      <td>South America</td>\n",
       "    </tr>\n",
       "  </tbody>\n",
       "</table>\n",
       "<p>950 rows × 7 columns</p>\n",
       "</div>"
      ],
      "text/plain": [
       "       ID  Range  Value Type Zip Code   Cost      Continent\n",
       "0      10    192     50    F   NXEYEM  [56$]           Asia\n",
       "1      20    299     21    M   VNFKZD  [18$]           Asia\n",
       "2      30    378     28    X   IMGMFY  [90$]  North America\n",
       "3      40    156     44    Q   RHRHJY  [89$]           Asia\n",
       "4      50    468     33    J   HPQCMC  [95$]         Africa\n",
       "..    ...    ...    ...  ...      ...    ...            ...\n",
       "945  9460    136     12    C   HGVBPV  [51$]  South America\n",
       "946  9470    316     46    L   SHBAUD  [33$]  North America\n",
       "947  9480    461     46    K   PUZUVO  [12$]         Europe\n",
       "948  9490    185     13    N   UMESZO  [39$]  North America\n",
       "949  9500    137     10    W   JOHHVL  [10$]  South America\n",
       "\n",
       "[950 rows x 7 columns]"
      ]
     },
     "execution_count": 7,
     "metadata": {},
     "output_type": "execute_result"
    }
   ],
   "source": [
    "myDF"
   ]
  },
  {
   "attachments": {},
   "cell_type": "markdown",
   "metadata": {},
   "source": [
    "### 5\n",
    "\n",
    "#### Now, let’s delete rows 1, 3, and 5 permanently, using inplace. Then show the first 4 Rows of myDF."
   ]
  },
  {
   "cell_type": "code",
   "execution_count": 8,
   "metadata": {},
   "outputs": [],
   "source": [
    "myDF.drop([0,2,4], axis=0, inplace=True)"
   ]
  },
  {
   "cell_type": "code",
   "execution_count": 9,
   "metadata": {},
   "outputs": [
    {
     "data": {
      "text/html": [
       "<div>\n",
       "<style scoped>\n",
       "    .dataframe tbody tr th:only-of-type {\n",
       "        vertical-align: middle;\n",
       "    }\n",
       "\n",
       "    .dataframe tbody tr th {\n",
       "        vertical-align: top;\n",
       "    }\n",
       "\n",
       "    .dataframe thead th {\n",
       "        text-align: right;\n",
       "    }\n",
       "</style>\n",
       "<table border=\"1\" class=\"dataframe\">\n",
       "  <thead>\n",
       "    <tr style=\"text-align: right;\">\n",
       "      <th></th>\n",
       "      <th>ID</th>\n",
       "      <th>Range</th>\n",
       "      <th>Value</th>\n",
       "      <th>Type</th>\n",
       "      <th>Zip Code</th>\n",
       "      <th>Cost</th>\n",
       "      <th>Continent</th>\n",
       "    </tr>\n",
       "  </thead>\n",
       "  <tbody>\n",
       "    <tr>\n",
       "      <th>1</th>\n",
       "      <td>20</td>\n",
       "      <td>299</td>\n",
       "      <td>21</td>\n",
       "      <td>M</td>\n",
       "      <td>VNFKZD</td>\n",
       "      <td>[18$]</td>\n",
       "      <td>Asia</td>\n",
       "    </tr>\n",
       "    <tr>\n",
       "      <th>3</th>\n",
       "      <td>40</td>\n",
       "      <td>156</td>\n",
       "      <td>44</td>\n",
       "      <td>Q</td>\n",
       "      <td>RHRHJY</td>\n",
       "      <td>[89$]</td>\n",
       "      <td>Asia</td>\n",
       "    </tr>\n",
       "    <tr>\n",
       "      <th>5</th>\n",
       "      <td>60</td>\n",
       "      <td>347</td>\n",
       "      <td>38</td>\n",
       "      <td>X</td>\n",
       "      <td>XFEWVB</td>\n",
       "      <td>[95$]</td>\n",
       "      <td>North America</td>\n",
       "    </tr>\n",
       "    <tr>\n",
       "      <th>6</th>\n",
       "      <td>70</td>\n",
       "      <td>327</td>\n",
       "      <td>24</td>\n",
       "      <td>F</td>\n",
       "      <td>NLVQPY</td>\n",
       "      <td>[25$]</td>\n",
       "      <td>Europe</td>\n",
       "    </tr>\n",
       "  </tbody>\n",
       "</table>\n",
       "</div>"
      ],
      "text/plain": [
       "   ID  Range  Value Type Zip Code   Cost      Continent\n",
       "1  20    299     21    M   VNFKZD  [18$]           Asia\n",
       "3  40    156     44    Q   RHRHJY  [89$]           Asia\n",
       "5  60    347     38    X   XFEWVB  [95$]  North America\n",
       "6  70    327     24    F   NLVQPY  [25$]         Europe"
      ]
     },
     "execution_count": 9,
     "metadata": {},
     "output_type": "execute_result"
    }
   ],
   "source": [
    "myDF.head(4)"
   ]
  },
  {
   "attachments": {},
   "cell_type": "markdown",
   "metadata": {},
   "source": [
    "### 6\n",
    "\n",
    "#### Calculate the mean of ‘Range’ column."
   ]
  },
  {
   "cell_type": "code",
   "execution_count": 10,
   "metadata": {},
   "outputs": [],
   "source": [
    "import numpy as np\n",
    "\n",
    "mean = myDF.iloc[:,[1]].values.mean()"
   ]
  },
  {
   "cell_type": "code",
   "execution_count": 11,
   "metadata": {},
   "outputs": [
    {
     "data": {
      "text/plain": [
       "297.28405491024284"
      ]
     },
     "execution_count": 11,
     "metadata": {},
     "output_type": "execute_result"
    }
   ],
   "source": [
    "mean"
   ]
  },
  {
   "cell_type": "code",
   "execution_count": 12,
   "metadata": {},
   "outputs": [
    {
     "data": {
      "text/plain": [
       "297.28405491024284"
      ]
     },
     "execution_count": 12,
     "metadata": {},
     "output_type": "execute_result"
    }
   ],
   "source": [
    "myDF['Range'].mean()"
   ]
  },
  {
   "attachments": {},
   "cell_type": "markdown",
   "metadata": {},
   "source": [
    "### 7\n",
    "\n",
    "#### How many ‘F’ do we have in the ‘Type’ column? Replace them permanently with ‘AAA’ and show the first 5 rows."
   ]
  },
  {
   "cell_type": "code",
   "execution_count": 13,
   "metadata": {},
   "outputs": [
    {
     "data": {
      "text/plain": [
       "49.0"
      ]
     },
     "execution_count": 13,
     "metadata": {},
     "output_type": "execute_result"
    }
   ],
   "source": [
    "myDF['Type'].str.count('F').sum()"
   ]
  },
  {
   "cell_type": "code",
   "execution_count": 14,
   "metadata": {},
   "outputs": [
    {
     "data": {
      "text/plain": [
       "1      M\n",
       "3      Q\n",
       "5      X\n",
       "6    AAA\n",
       "Name: Type, dtype: object"
      ]
     },
     "execution_count": 14,
     "metadata": {},
     "output_type": "execute_result"
    }
   ],
   "source": [
    "myDF.Type.replace('F','AAA').head(4)"
   ]
  },
  {
   "attachments": {},
   "cell_type": "markdown",
   "metadata": {},
   "source": [
    "### 8\n",
    "\n",
    "#### Get rid of the [, $ and ] from the ‘Cost’ column permanently and display the first 5 rows. What is the type of ‘Cost’ column after this?"
   ]
  },
  {
   "cell_type": "code",
   "execution_count": 15,
   "metadata": {},
   "outputs": [
    {
     "data": {
      "text/plain": [
       "1      [18$]\n",
       "3      [89$]\n",
       "5      [95$]\n",
       "6      [25$]\n",
       "7      [70$]\n",
       "       ...  \n",
       "945    [51$]\n",
       "946    [33$]\n",
       "947    [12$]\n",
       "948    [39$]\n",
       "949    [10$]\n",
       "Name: Cost, Length: 947, dtype: object"
      ]
     },
     "execution_count": 15,
     "metadata": {},
     "output_type": "execute_result"
    }
   ],
   "source": [
    "myDF.Cost"
   ]
  },
  {
   "cell_type": "code",
   "execution_count": 16,
   "metadata": {},
   "outputs": [
    {
     "data": {
      "text/plain": [
       "dtype('O')"
      ]
     },
     "execution_count": 16,
     "metadata": {},
     "output_type": "execute_result"
    }
   ],
   "source": [
    "# reg ex to use /[^0-9.]/g\n",
    "\n",
    "myDF['Cost'] = myDF.Cost.str.replace(r'[^0-9.]', '', regex=True)\n",
    "\n",
    "myDF['Cost'].dtypes\n"
   ]
  },
  {
   "attachments": {},
   "cell_type": "markdown",
   "metadata": {},
   "source": [
    "### 9\n",
    "\n",
    "#### Change the ‘Cost’ column data type to integer and display the result."
   ]
  },
  {
   "cell_type": "code",
   "execution_count": 17,
   "metadata": {},
   "outputs": [
    {
     "data": {
      "text/plain": [
       "1      18\n",
       "3      89\n",
       "5      95\n",
       "6      25\n",
       "7      70\n",
       "       ..\n",
       "945    51\n",
       "946    33\n",
       "947    12\n",
       "948    39\n",
       "949    10\n",
       "Name: Cost, Length: 947, dtype: int64"
      ]
     },
     "execution_count": 17,
     "metadata": {},
     "output_type": "execute_result"
    }
   ],
   "source": [
    "import numpy as np\n",
    "myDF['Cost'].astype(np.int64)"
   ]
  },
  {
   "attachments": {},
   "cell_type": "markdown",
   "metadata": {},
   "source": [
    "### 10"
   ]
  },
  {
   "cell_type": "code",
   "execution_count": 18,
   "metadata": {},
   "outputs": [
    {
     "data": {
      "text/plain": [
       "54.54487856388596"
      ]
     },
     "execution_count": 18,
     "metadata": {},
     "output_type": "execute_result"
    }
   ],
   "source": [
    "np.asanyarray(myDF.Cost, dtype=np.int16).mean()\n"
   ]
  },
  {
   "attachments": {},
   "cell_type": "markdown",
   "metadata": {},
   "source": [
    "### 11"
   ]
  },
  {
   "cell_type": "code",
   "execution_count": 19,
   "metadata": {},
   "outputs": [
    {
     "data": {
      "text/html": [
       "<div>\n",
       "<style scoped>\n",
       "    .dataframe tbody tr th:only-of-type {\n",
       "        vertical-align: middle;\n",
       "    }\n",
       "\n",
       "    .dataframe tbody tr th {\n",
       "        vertical-align: top;\n",
       "    }\n",
       "\n",
       "    .dataframe thead th {\n",
       "        text-align: right;\n",
       "    }\n",
       "</style>\n",
       "<table border=\"1\" class=\"dataframe\">\n",
       "  <thead>\n",
       "    <tr style=\"text-align: right;\">\n",
       "      <th></th>\n",
       "      <th>mean</th>\n",
       "      <th>min</th>\n",
       "      <th>max</th>\n",
       "      <th>std</th>\n",
       "    </tr>\n",
       "    <tr>\n",
       "      <th>Continent</th>\n",
       "      <th></th>\n",
       "      <th></th>\n",
       "      <th></th>\n",
       "      <th></th>\n",
       "    </tr>\n",
       "  </thead>\n",
       "  <tbody>\n",
       "    <tr>\n",
       "      <th>Africa</th>\n",
       "      <td>6.872932e+281</td>\n",
       "      <td>11</td>\n",
       "      <td>97</td>\n",
       "      <td>25.830221</td>\n",
       "    </tr>\n",
       "    <tr>\n",
       "      <th>Antarctica</th>\n",
       "      <td>6.104926e+229</td>\n",
       "      <td>10</td>\n",
       "      <td>97</td>\n",
       "      <td>24.880590</td>\n",
       "    </tr>\n",
       "    <tr>\n",
       "      <th>Asia</th>\n",
       "      <td>1.453463e+257</td>\n",
       "      <td>10</td>\n",
       "      <td>99</td>\n",
       "      <td>26.381022</td>\n",
       "    </tr>\n",
       "    <tr>\n",
       "      <th>Australia</th>\n",
       "      <td>6.719087e+281</td>\n",
       "      <td>10</td>\n",
       "      <td>97</td>\n",
       "      <td>26.057121</td>\n",
       "    </tr>\n",
       "    <tr>\n",
       "      <th>Europe</th>\n",
       "      <td>1.833944e+275</td>\n",
       "      <td>10</td>\n",
       "      <td>99</td>\n",
       "      <td>26.185054</td>\n",
       "    </tr>\n",
       "    <tr>\n",
       "      <th>North America</th>\n",
       "      <td>6.680587e+283</td>\n",
       "      <td>10</td>\n",
       "      <td>99</td>\n",
       "      <td>25.716185</td>\n",
       "    </tr>\n",
       "    <tr>\n",
       "      <th>South America</th>\n",
       "      <td>1.269402e+267</td>\n",
       "      <td>10</td>\n",
       "      <td>98</td>\n",
       "      <td>25.724780</td>\n",
       "    </tr>\n",
       "  </tbody>\n",
       "</table>\n",
       "</div>"
      ],
      "text/plain": [
       "                        mean min max        std\n",
       "Continent                                      \n",
       "Africa         6.872932e+281  11  97  25.830221\n",
       "Antarctica     6.104926e+229  10  97  24.880590\n",
       "Asia           1.453463e+257  10  99  26.381022\n",
       "Australia      6.719087e+281  10  97  26.057121\n",
       "Europe         1.833944e+275  10  99  26.185054\n",
       "North America  6.680587e+283  10  99  25.716185\n",
       "South America  1.269402e+267  10  98  25.724780"
      ]
     },
     "execution_count": 19,
     "metadata": {},
     "output_type": "execute_result"
    }
   ],
   "source": [
    "myDF.groupby('Continent').Cost.agg(['mean','min','max', 'std'])"
   ]
  },
  {
   "attachments": {},
   "cell_type": "markdown",
   "metadata": {},
   "source": [
    "### 12"
   ]
  },
  {
   "cell_type": "code",
   "execution_count": 20,
   "metadata": {},
   "outputs": [
    {
     "data": {
      "text/html": [
       "<div>\n",
       "<style scoped>\n",
       "    .dataframe tbody tr th:only-of-type {\n",
       "        vertical-align: middle;\n",
       "    }\n",
       "\n",
       "    .dataframe tbody tr th {\n",
       "        vertical-align: top;\n",
       "    }\n",
       "\n",
       "    .dataframe thead tr th {\n",
       "        text-align: left;\n",
       "    }\n",
       "\n",
       "    .dataframe thead tr:last-of-type th {\n",
       "        text-align: right;\n",
       "    }\n",
       "</style>\n",
       "<table border=\"1\" class=\"dataframe\">\n",
       "  <thead>\n",
       "    <tr>\n",
       "      <th></th>\n",
       "      <th colspan=\"8\" halign=\"left\">ID</th>\n",
       "      <th colspan=\"5\" halign=\"left\">Range</th>\n",
       "      <th colspan=\"8\" halign=\"left\">Value</th>\n",
       "    </tr>\n",
       "    <tr>\n",
       "      <th></th>\n",
       "      <th>count</th>\n",
       "      <th>mean</th>\n",
       "      <th>std</th>\n",
       "      <th>min</th>\n",
       "      <th>25%</th>\n",
       "      <th>50%</th>\n",
       "      <th>75%</th>\n",
       "      <th>max</th>\n",
       "      <th>count</th>\n",
       "      <th>mean</th>\n",
       "      <th>...</th>\n",
       "      <th>75%</th>\n",
       "      <th>max</th>\n",
       "      <th>count</th>\n",
       "      <th>mean</th>\n",
       "      <th>std</th>\n",
       "      <th>min</th>\n",
       "      <th>25%</th>\n",
       "      <th>50%</th>\n",
       "      <th>75%</th>\n",
       "      <th>max</th>\n",
       "    </tr>\n",
       "    <tr>\n",
       "      <th>Continent</th>\n",
       "      <th></th>\n",
       "      <th></th>\n",
       "      <th></th>\n",
       "      <th></th>\n",
       "      <th></th>\n",
       "      <th></th>\n",
       "      <th></th>\n",
       "      <th></th>\n",
       "      <th></th>\n",
       "      <th></th>\n",
       "      <th></th>\n",
       "      <th></th>\n",
       "      <th></th>\n",
       "      <th></th>\n",
       "      <th></th>\n",
       "      <th></th>\n",
       "      <th></th>\n",
       "      <th></th>\n",
       "      <th></th>\n",
       "      <th></th>\n",
       "      <th></th>\n",
       "    </tr>\n",
       "  </thead>\n",
       "  <tbody>\n",
       "    <tr>\n",
       "      <th>Africa</th>\n",
       "      <td>142.0</td>\n",
       "      <td>4831.126761</td>\n",
       "      <td>2592.780237</td>\n",
       "      <td>190.0</td>\n",
       "      <td>2712.5</td>\n",
       "      <td>4955.0</td>\n",
       "      <td>7127.5</td>\n",
       "      <td>9450.0</td>\n",
       "      <td>142.0</td>\n",
       "      <td>281.169014</td>\n",
       "      <td>...</td>\n",
       "      <td>387.50</td>\n",
       "      <td>494.0</td>\n",
       "      <td>142.0</td>\n",
       "      <td>30.500000</td>\n",
       "      <td>12.541421</td>\n",
       "      <td>10.0</td>\n",
       "      <td>18.25</td>\n",
       "      <td>30.5</td>\n",
       "      <td>42.00</td>\n",
       "      <td>50.0</td>\n",
       "    </tr>\n",
       "    <tr>\n",
       "      <th>Antarctica</th>\n",
       "      <td>116.0</td>\n",
       "      <td>4569.310345</td>\n",
       "      <td>2936.313786</td>\n",
       "      <td>80.0</td>\n",
       "      <td>1887.5</td>\n",
       "      <td>4455.0</td>\n",
       "      <td>7330.0</td>\n",
       "      <td>9370.0</td>\n",
       "      <td>116.0</td>\n",
       "      <td>288.698276</td>\n",
       "      <td>...</td>\n",
       "      <td>388.25</td>\n",
       "      <td>495.0</td>\n",
       "      <td>116.0</td>\n",
       "      <td>30.344828</td>\n",
       "      <td>11.978316</td>\n",
       "      <td>10.0</td>\n",
       "      <td>20.75</td>\n",
       "      <td>31.0</td>\n",
       "      <td>39.00</td>\n",
       "      <td>50.0</td>\n",
       "    </tr>\n",
       "    <tr>\n",
       "      <th>Asia</th>\n",
       "      <td>130.0</td>\n",
       "      <td>4301.076923</td>\n",
       "      <td>2699.288234</td>\n",
       "      <td>20.0</td>\n",
       "      <td>1987.5</td>\n",
       "      <td>4010.0</td>\n",
       "      <td>6642.5</td>\n",
       "      <td>9390.0</td>\n",
       "      <td>130.0</td>\n",
       "      <td>284.746154</td>\n",
       "      <td>...</td>\n",
       "      <td>388.00</td>\n",
       "      <td>499.0</td>\n",
       "      <td>130.0</td>\n",
       "      <td>26.684615</td>\n",
       "      <td>11.637306</td>\n",
       "      <td>10.0</td>\n",
       "      <td>17.00</td>\n",
       "      <td>24.0</td>\n",
       "      <td>35.75</td>\n",
       "      <td>50.0</td>\n",
       "    </tr>\n",
       "    <tr>\n",
       "      <th>Australia</th>\n",
       "      <td>142.0</td>\n",
       "      <td>4677.323944</td>\n",
       "      <td>2793.945560</td>\n",
       "      <td>120.0</td>\n",
       "      <td>2242.5</td>\n",
       "      <td>4590.0</td>\n",
       "      <td>6992.5</td>\n",
       "      <td>9410.0</td>\n",
       "      <td>142.0</td>\n",
       "      <td>305.894366</td>\n",
       "      <td>...</td>\n",
       "      <td>413.25</td>\n",
       "      <td>496.0</td>\n",
       "      <td>142.0</td>\n",
       "      <td>30.063380</td>\n",
       "      <td>13.138226</td>\n",
       "      <td>10.0</td>\n",
       "      <td>18.25</td>\n",
       "      <td>30.0</td>\n",
       "      <td>42.00</td>\n",
       "      <td>50.0</td>\n",
       "    </tr>\n",
       "    <tr>\n",
       "      <th>Europe</th>\n",
       "      <td>139.0</td>\n",
       "      <td>5078.848921</td>\n",
       "      <td>2623.991892</td>\n",
       "      <td>70.0</td>\n",
       "      <td>3065.0</td>\n",
       "      <td>4970.0</td>\n",
       "      <td>7295.0</td>\n",
       "      <td>9480.0</td>\n",
       "      <td>139.0</td>\n",
       "      <td>320.338129</td>\n",
       "      <td>...</td>\n",
       "      <td>422.50</td>\n",
       "      <td>500.0</td>\n",
       "      <td>139.0</td>\n",
       "      <td>31.712230</td>\n",
       "      <td>11.999544</td>\n",
       "      <td>10.0</td>\n",
       "      <td>20.50</td>\n",
       "      <td>33.0</td>\n",
       "      <td>42.00</td>\n",
       "      <td>50.0</td>\n",
       "    </tr>\n",
       "    <tr>\n",
       "      <th>North America</th>\n",
       "      <td>143.0</td>\n",
       "      <td>4906.993007</td>\n",
       "      <td>2840.854869</td>\n",
       "      <td>60.0</td>\n",
       "      <td>2375.0</td>\n",
       "      <td>4820.0</td>\n",
       "      <td>7580.0</td>\n",
       "      <td>9490.0</td>\n",
       "      <td>143.0</td>\n",
       "      <td>299.615385</td>\n",
       "      <td>...</td>\n",
       "      <td>395.00</td>\n",
       "      <td>500.0</td>\n",
       "      <td>143.0</td>\n",
       "      <td>29.860140</td>\n",
       "      <td>12.337736</td>\n",
       "      <td>11.0</td>\n",
       "      <td>18.50</td>\n",
       "      <td>29.0</td>\n",
       "      <td>42.00</td>\n",
       "      <td>50.0</td>\n",
       "    </tr>\n",
       "    <tr>\n",
       "      <th>South America</th>\n",
       "      <td>135.0</td>\n",
       "      <td>4963.851852</td>\n",
       "      <td>2656.186804</td>\n",
       "      <td>90.0</td>\n",
       "      <td>2910.0</td>\n",
       "      <td>5070.0</td>\n",
       "      <td>6975.0</td>\n",
       "      <td>9500.0</td>\n",
       "      <td>135.0</td>\n",
       "      <td>298.422222</td>\n",
       "      <td>...</td>\n",
       "      <td>397.00</td>\n",
       "      <td>499.0</td>\n",
       "      <td>135.0</td>\n",
       "      <td>30.133333</td>\n",
       "      <td>11.762450</td>\n",
       "      <td>10.0</td>\n",
       "      <td>19.00</td>\n",
       "      <td>30.0</td>\n",
       "      <td>41.00</td>\n",
       "      <td>50.0</td>\n",
       "    </tr>\n",
       "  </tbody>\n",
       "</table>\n",
       "<p>7 rows × 24 columns</p>\n",
       "</div>"
      ],
      "text/plain": [
       "                  ID                                                           \\\n",
       "               count         mean          std    min     25%     50%     75%   \n",
       "Continent                                                                       \n",
       "Africa         142.0  4831.126761  2592.780237  190.0  2712.5  4955.0  7127.5   \n",
       "Antarctica     116.0  4569.310345  2936.313786   80.0  1887.5  4455.0  7330.0   \n",
       "Asia           130.0  4301.076923  2699.288234   20.0  1987.5  4010.0  6642.5   \n",
       "Australia      142.0  4677.323944  2793.945560  120.0  2242.5  4590.0  6992.5   \n",
       "Europe         139.0  5078.848921  2623.991892   70.0  3065.0  4970.0  7295.0   \n",
       "North America  143.0  4906.993007  2840.854869   60.0  2375.0  4820.0  7580.0   \n",
       "South America  135.0  4963.851852  2656.186804   90.0  2910.0  5070.0  6975.0   \n",
       "\n",
       "                       Range              ...                 Value  \\\n",
       "                  max  count        mean  ...     75%    max  count   \n",
       "Continent                                 ...                         \n",
       "Africa         9450.0  142.0  281.169014  ...  387.50  494.0  142.0   \n",
       "Antarctica     9370.0  116.0  288.698276  ...  388.25  495.0  116.0   \n",
       "Asia           9390.0  130.0  284.746154  ...  388.00  499.0  130.0   \n",
       "Australia      9410.0  142.0  305.894366  ...  413.25  496.0  142.0   \n",
       "Europe         9480.0  139.0  320.338129  ...  422.50  500.0  139.0   \n",
       "North America  9490.0  143.0  299.615385  ...  395.00  500.0  143.0   \n",
       "South America  9500.0  135.0  298.422222  ...  397.00  499.0  135.0   \n",
       "\n",
       "                                                                     \n",
       "                    mean        std   min    25%   50%    75%   max  \n",
       "Continent                                                            \n",
       "Africa         30.500000  12.541421  10.0  18.25  30.5  42.00  50.0  \n",
       "Antarctica     30.344828  11.978316  10.0  20.75  31.0  39.00  50.0  \n",
       "Asia           26.684615  11.637306  10.0  17.00  24.0  35.75  50.0  \n",
       "Australia      30.063380  13.138226  10.0  18.25  30.0  42.00  50.0  \n",
       "Europe         31.712230  11.999544  10.0  20.50  33.0  42.00  50.0  \n",
       "North America  29.860140  12.337736  11.0  18.50  29.0  42.00  50.0  \n",
       "South America  30.133333  11.762450  10.0  19.00  30.0  41.00  50.0  \n",
       "\n",
       "[7 rows x 24 columns]"
      ]
     },
     "execution_count": 20,
     "metadata": {},
     "output_type": "execute_result"
    }
   ],
   "source": [
    "myDF.groupby('Continent').describe()"
   ]
  },
  {
   "attachments": {},
   "cell_type": "markdown",
   "metadata": {},
   "source": [
    "### 13"
   ]
  },
  {
   "cell_type": "code",
   "execution_count": 21,
   "metadata": {},
   "outputs": [
    {
     "data": {
      "text/plain": [
       "<AxesSubplot:xlabel='Continent'>"
      ]
     },
     "execution_count": 21,
     "metadata": {},
     "output_type": "execute_result"
    },
    {
     "data": {
      "image/png": "[encoded data removed]",
      "text/plain": [
       "<Figure size 432x288 with 1 Axes>"
      ]
     },
     "metadata": {
      "needs_background": "light"
     },
     "output_type": "display_data"
    }
   ],
   "source": [
    "import matplotlib.pyplot as plt\n",
    "\n",
    "myDF.groupby('Continent').mean().plot(kind='bar')"
   ]
  },
  {
   "attachments": {},
   "cell_type": "markdown",
   "metadata": {},
   "source": [
    "### 14"
   ]
  },
  {
   "cell_type": "code",
   "execution_count": 22,
   "metadata": {},
   "outputs": [
    {
     "data": {
      "text/plain": [
       "count               947\n",
       "unique                7\n",
       "top       North America\n",
       "freq                143\n",
       "Name: Continent, dtype: object"
      ]
     },
     "execution_count": 22,
     "metadata": {},
     "output_type": "execute_result"
    }
   ],
   "source": [
    "myDF['Continent'].describe()"
   ]
  },
  {
   "cell_type": "code",
   "execution_count": 23,
   "metadata": {},
   "outputs": [
    {
     "data": {
      "text/plain": [
       "North America    143\n",
       "Australia        142\n",
       "Africa           142\n",
       "Europe           139\n",
       "South America    135\n",
       "Asia             130\n",
       "Antarctica       116\n",
       "Name: Continent, dtype: int64"
      ]
     },
     "execution_count": 23,
     "metadata": {},
     "output_type": "execute_result"
    }
   ],
   "source": [
    "myDF['Continent'].value_counts()"
   ]
  },
  {
   "attachments": {},
   "cell_type": "markdown",
   "metadata": {},
   "source": [
    "### 15"
   ]
  },
  {
   "cell_type": "code",
   "execution_count": 24,
   "metadata": {},
   "outputs": [
    {
     "data": {
      "text/plain": [
       "North America    0.151003\n",
       "Australia        0.149947\n",
       "Africa           0.149947\n",
       "Europe           0.146779\n",
       "South America    0.142555\n",
       "Asia             0.137276\n",
       "Antarctica       0.122492\n",
       "Name: Continent, dtype: float64"
      ]
     },
     "execution_count": 24,
     "metadata": {},
     "output_type": "execute_result"
    }
   ],
   "source": [
    "myDF['Continent'].value_counts(normalize=True)\n"
   ]
  },
  {
   "attachments": {},
   "cell_type": "markdown",
   "metadata": {},
   "source": [
    "### 16"
   ]
  },
  {
   "cell_type": "code",
   "execution_count": 25,
   "metadata": {},
   "outputs": [
    {
     "data": {
      "text/plain": [
       "array(['Asia', 'North America', 'Europe', 'Antarctica', 'South America',\n",
       "       'Australia', 'Africa'], dtype=object)"
      ]
     },
     "execution_count": 25,
     "metadata": {},
     "output_type": "execute_result"
    }
   ],
   "source": [
    "myDF['Continent'].unique()\n"
   ]
  },
  {
   "cell_type": "code",
   "execution_count": 26,
   "metadata": {},
   "outputs": [
    {
     "data": {
      "text/plain": [
       "array([21, 44, 38, 24, 50, 30, 29, 16, 23, 13, 26, 49, 12, 27, 45, 34, 25,\n",
       "       39, 15, 17, 48, 41, 40, 28, 14, 22, 47, 19, 43, 32, 11, 35, 42, 33,\n",
       "       46, 36, 18, 31, 37, 10, 20], dtype=int64)"
      ]
     },
     "execution_count": 26,
     "metadata": {},
     "output_type": "execute_result"
    }
   ],
   "source": [
    "myDF['Value'].unique()\n"
   ]
  },
  {
   "attachments": {},
   "cell_type": "markdown",
   "metadata": {},
   "source": [
    "### 17"
   ]
  },
  {
   "cell_type": "code",
   "execution_count": 27,
   "metadata": {},
   "outputs": [
    {
     "data": {
      "text/plain": [
       "count     947\n",
       "unique     90\n",
       "top        35\n",
       "freq       20\n",
       "Name: Cost, dtype: object"
      ]
     },
     "execution_count": 27,
     "metadata": {},
     "output_type": "execute_result"
    }
   ],
   "source": [
    "myDF['Cost'].describe()"
   ]
  },
  {
   "cell_type": "code",
   "execution_count": 28,
   "metadata": {},
   "outputs": [
    {
     "data": {
      "text/plain": [
       "35    20\n",
       "56    19\n",
       "73    18\n",
       "81    17\n",
       "54    17\n",
       "      ..\n",
       "92     5\n",
       "94     5\n",
       "22     5\n",
       "42     3\n",
       "24     2\n",
       "Name: Cost, Length: 90, dtype: int64"
      ]
     },
     "execution_count": 28,
     "metadata": {},
     "output_type": "execute_result"
    }
   ],
   "source": [
    "myDF['Cost'].value_counts()\n",
    "\n",
    "# on the very left: The Cost\n",
    "# on the very right: The number of costs repeated throughout the columns. \n",
    "# ex, 35 $ repeated 20 times "
   ]
  },
  {
   "attachments": {},
   "cell_type": "markdown",
   "metadata": {},
   "source": [
    "### 18"
   ]
  },
  {
   "cell_type": "code",
   "execution_count": 29,
   "metadata": {},
   "outputs": [
    {
     "data": {
      "text/plain": [
       "<AxesSubplot:ylabel='Frequency'>"
      ]
     },
     "execution_count": 29,
     "metadata": {},
     "output_type": "execute_result"
    },
    {
     "data": {
      "image/png": "[encoded data removed]",
      "text/plain": [
       "<Figure size 432x288 with 1 Axes>"
      ]
     },
     "metadata": {
      "needs_background": "light"
     },
     "output_type": "display_data"
    }
   ],
   "source": [
    "#myDF.Cost.dtype\n",
    "myDF.Cost.astype(int).plot(kind='hist')"
   ]
  },
  {
   "attachments": {},
   "cell_type": "markdown",
   "metadata": {},
   "source": [
    "### 19 - Bonus Question"
   ]
  },
  {
   "attachments": {},
   "cell_type": "markdown",
   "metadata": {},
   "source": [
    "### 20"
   ]
  },
  {
   "cell_type": "code",
   "execution_count": 30,
   "metadata": {},
   "outputs": [
    {
     "data": {
      "text/html": [
       "<div>\n",
       "<style scoped>\n",
       "    .dataframe tbody tr th:only-of-type {\n",
       "        vertical-align: middle;\n",
       "    }\n",
       "\n",
       "    .dataframe tbody tr th {\n",
       "        vertical-align: top;\n",
       "    }\n",
       "\n",
       "    .dataframe thead th {\n",
       "        text-align: right;\n",
       "    }\n",
       "</style>\n",
       "<table border=\"1\" class=\"dataframe\">\n",
       "  <thead>\n",
       "    <tr style=\"text-align: right;\">\n",
       "      <th></th>\n",
       "      <th>ID</th>\n",
       "      <th>Range</th>\n",
       "      <th>Value</th>\n",
       "      <th>Type</th>\n",
       "      <th>Zip Code</th>\n",
       "      <th>Cost</th>\n",
       "      <th>Continent</th>\n",
       "    </tr>\n",
       "  </thead>\n",
       "  <tbody>\n",
       "    <tr>\n",
       "      <th>945</th>\n",
       "      <td>False</td>\n",
       "      <td>False</td>\n",
       "      <td>False</td>\n",
       "      <td>False</td>\n",
       "      <td>False</td>\n",
       "      <td>False</td>\n",
       "      <td>False</td>\n",
       "    </tr>\n",
       "    <tr>\n",
       "      <th>946</th>\n",
       "      <td>False</td>\n",
       "      <td>False</td>\n",
       "      <td>False</td>\n",
       "      <td>False</td>\n",
       "      <td>False</td>\n",
       "      <td>False</td>\n",
       "      <td>False</td>\n",
       "    </tr>\n",
       "    <tr>\n",
       "      <th>947</th>\n",
       "      <td>False</td>\n",
       "      <td>False</td>\n",
       "      <td>False</td>\n",
       "      <td>False</td>\n",
       "      <td>False</td>\n",
       "      <td>False</td>\n",
       "      <td>False</td>\n",
       "    </tr>\n",
       "    <tr>\n",
       "      <th>948</th>\n",
       "      <td>False</td>\n",
       "      <td>False</td>\n",
       "      <td>False</td>\n",
       "      <td>False</td>\n",
       "      <td>False</td>\n",
       "      <td>False</td>\n",
       "      <td>False</td>\n",
       "    </tr>\n",
       "    <tr>\n",
       "      <th>949</th>\n",
       "      <td>False</td>\n",
       "      <td>False</td>\n",
       "      <td>False</td>\n",
       "      <td>False</td>\n",
       "      <td>False</td>\n",
       "      <td>False</td>\n",
       "      <td>False</td>\n",
       "    </tr>\n",
       "  </tbody>\n",
       "</table>\n",
       "</div>"
      ],
      "text/plain": [
       "        ID  Range  Value   Type  Zip Code   Cost  Continent\n",
       "945  False  False  False  False     False  False      False\n",
       "946  False  False  False  False     False  False      False\n",
       "947  False  False  False  False     False  False      False\n",
       "948  False  False  False  False     False  False      False\n",
       "949  False  False  False  False     False  False      False"
      ]
     },
     "execution_count": 30,
     "metadata": {},
     "output_type": "execute_result"
    }
   ],
   "source": [
    "myDF.isnull().tail()"
   ]
  },
  {
   "cell_type": "code",
   "execution_count": 31,
   "metadata": {},
   "outputs": [
    {
     "data": {
      "text/plain": [
       "ID           947\n",
       "Range        947\n",
       "Value        947\n",
       "Type         945\n",
       "Zip Code     938\n",
       "Cost         947\n",
       "Continent    947\n",
       "dtype: int64"
      ]
     },
     "execution_count": 31,
     "metadata": {},
     "output_type": "execute_result"
    }
   ],
   "source": [
    "myDF.notnull().sum()"
   ]
  },
  {
   "cell_type": "code",
   "execution_count": 32,
   "metadata": {},
   "outputs": [
    {
     "data": {
      "text/plain": [
       "1      False\n",
       "3      False\n",
       "5      False\n",
       "6      False\n",
       "7      False\n",
       "       ...  \n",
       "945    False\n",
       "946    False\n",
       "947    False\n",
       "948    False\n",
       "949    False\n",
       "Name: Zip Code, Length: 947, dtype: bool"
      ]
     },
     "execution_count": 32,
     "metadata": {},
     "output_type": "execute_result"
    }
   ],
   "source": [
    "myDF['Zip Code'].isnull()"
   ]
  },
  {
   "cell_type": "code",
   "execution_count": 33,
   "metadata": {},
   "outputs": [
    {
     "data": {
      "text/plain": [
       "1      False\n",
       "3      False\n",
       "5      False\n",
       "6      False\n",
       "7      False\n",
       "       ...  \n",
       "945    False\n",
       "946    False\n",
       "947    False\n",
       "948    False\n",
       "949    False\n",
       "Name: Type, Length: 947, dtype: bool"
      ]
     },
     "execution_count": 33,
     "metadata": {},
     "output_type": "execute_result"
    }
   ],
   "source": [
    "myDF['Type'].isnull()\n"
   ]
  },
  {
   "attachments": {},
   "cell_type": "markdown",
   "metadata": {},
   "source": [
    "### 21"
   ]
  },
  {
   "cell_type": "code",
   "execution_count": 34,
   "metadata": {},
   "outputs": [
    {
     "data": {
      "text/plain": [
       "(947, 7)"
      ]
     },
     "execution_count": 34,
     "metadata": {},
     "output_type": "execute_result"
    }
   ],
   "source": [
    "myDF.shape\n"
   ]
  },
  {
   "cell_type": "code",
   "execution_count": 35,
   "metadata": {},
   "outputs": [
    {
     "data": {
      "text/plain": [
       "(947, 7)"
      ]
     },
     "execution_count": 35,
     "metadata": {},
     "output_type": "execute_result"
    }
   ],
   "source": [
    "myDF.dropna(how='all').shape\n",
    "# no difference, null values aren't present "
   ]
  },
  {
   "attachments": {},
   "cell_type": "markdown",
   "metadata": {},
   "source": [
    "### 22"
   ]
  },
  {
   "cell_type": "code",
   "execution_count": 36,
   "metadata": {},
   "outputs": [
    {
     "data": {
      "text/plain": [
       "F      49\n",
       "N      47\n",
       "Q      45\n",
       "Z      44\n",
       "C      43\n",
       "K      41\n",
       "V      41\n",
       "A      40\n",
       "H      39\n",
       "Y      39\n",
       "M      38\n",
       "G      38\n",
       "X      37\n",
       "O      36\n",
       "U      36\n",
       "L      35\n",
       "J      34\n",
       "S      34\n",
       "I      33\n",
       "W      32\n",
       "D      30\n",
       "B      29\n",
       "T      28\n",
       "P      28\n",
       "R      25\n",
       "E      24\n",
       "NaN     2\n",
       "Name: Type, dtype: int64"
      ]
     },
     "execution_count": 36,
     "metadata": {},
     "output_type": "execute_result"
    }
   ],
   "source": [
    "myDF['Type'].value_counts(dropna=False)\n",
    "\n",
    "# 2 Missing Values"
   ]
  },
  {
   "attachments": {},
   "cell_type": "markdown",
   "metadata": {},
   "source": [
    "### 23"
   ]
  },
  {
   "cell_type": "code",
   "execution_count": 37,
   "metadata": {},
   "outputs": [],
   "source": [
    "myDF['Type'].fillna(value='XXX', inplace=True)"
   ]
  },
  {
   "cell_type": "code",
   "execution_count": 38,
   "metadata": {},
   "outputs": [
    {
     "data": {
      "text/plain": [
       "F      49\n",
       "N      47\n",
       "Q      45\n",
       "Z      44\n",
       "C      43\n",
       "K      41\n",
       "V      41\n",
       "A      40\n",
       "H      39\n",
       "Y      39\n",
       "M      38\n",
       "G      38\n",
       "X      37\n",
       "O      36\n",
       "U      36\n",
       "L      35\n",
       "J      34\n",
       "S      34\n",
       "I      33\n",
       "W      32\n",
       "D      30\n",
       "B      29\n",
       "T      28\n",
       "P      28\n",
       "R      25\n",
       "E      24\n",
       "XXX     2\n",
       "Name: Type, dtype: int64"
      ]
     },
     "execution_count": 38,
     "metadata": {},
     "output_type": "execute_result"
    }
   ],
   "source": [
    "myDF['Type'].value_counts(dropna=False)\n"
   ]
  },
  {
   "attachments": {},
   "cell_type": "markdown",
   "metadata": {},
   "source": [
    "### 24"
   ]
  },
  {
   "cell_type": "code",
   "execution_count": 39,
   "metadata": {},
   "outputs": [
    {
     "data": {
      "text/plain": [
       "(947, 7)"
      ]
     },
     "execution_count": 39,
     "metadata": {},
     "output_type": "execute_result"
    }
   ],
   "source": [
    "myDF.iloc[:,:].dropna(how='all').shape"
   ]
  },
  {
   "attachments": {},
   "cell_type": "markdown",
   "metadata": {},
   "source": [
    "### 25"
   ]
  },
  {
   "cell_type": "code",
   "execution_count": 40,
   "metadata": {},
   "outputs": [],
   "source": [
    "myDF.set_index('ID', inplace=True)"
   ]
  },
  {
   "cell_type": "code",
   "execution_count": 41,
   "metadata": {},
   "outputs": [
    {
     "data": {
      "text/html": [
       "<div>\n",
       "<style scoped>\n",
       "    .dataframe tbody tr th:only-of-type {\n",
       "        vertical-align: middle;\n",
       "    }\n",
       "\n",
       "    .dataframe tbody tr th {\n",
       "        vertical-align: top;\n",
       "    }\n",
       "\n",
       "    .dataframe thead th {\n",
       "        text-align: right;\n",
       "    }\n",
       "</style>\n",
       "<table border=\"1\" class=\"dataframe\">\n",
       "  <thead>\n",
       "    <tr style=\"text-align: right;\">\n",
       "      <th></th>\n",
       "      <th>Range</th>\n",
       "      <th>Value</th>\n",
       "      <th>Type</th>\n",
       "      <th>Zip Code</th>\n",
       "      <th>Cost</th>\n",
       "      <th>Continent</th>\n",
       "    </tr>\n",
       "    <tr>\n",
       "      <th>ID</th>\n",
       "      <th></th>\n",
       "      <th></th>\n",
       "      <th></th>\n",
       "      <th></th>\n",
       "      <th></th>\n",
       "      <th></th>\n",
       "    </tr>\n",
       "  </thead>\n",
       "  <tbody>\n",
       "    <tr>\n",
       "      <th>20</th>\n",
       "      <td>299</td>\n",
       "      <td>21</td>\n",
       "      <td>M</td>\n",
       "      <td>VNFKZD</td>\n",
       "      <td>18</td>\n",
       "      <td>Asia</td>\n",
       "    </tr>\n",
       "    <tr>\n",
       "      <th>40</th>\n",
       "      <td>156</td>\n",
       "      <td>44</td>\n",
       "      <td>Q</td>\n",
       "      <td>RHRHJY</td>\n",
       "      <td>89</td>\n",
       "      <td>Asia</td>\n",
       "    </tr>\n",
       "    <tr>\n",
       "      <th>60</th>\n",
       "      <td>347</td>\n",
       "      <td>38</td>\n",
       "      <td>X</td>\n",
       "      <td>XFEWVB</td>\n",
       "      <td>95</td>\n",
       "      <td>North America</td>\n",
       "    </tr>\n",
       "    <tr>\n",
       "      <th>70</th>\n",
       "      <td>327</td>\n",
       "      <td>24</td>\n",
       "      <td>F</td>\n",
       "      <td>NLVQPY</td>\n",
       "      <td>25</td>\n",
       "      <td>Europe</td>\n",
       "    </tr>\n",
       "    <tr>\n",
       "      <th>80</th>\n",
       "      <td>495</td>\n",
       "      <td>50</td>\n",
       "      <td>Z</td>\n",
       "      <td>DLUMAX</td>\n",
       "      <td>70</td>\n",
       "      <td>Antarctica</td>\n",
       "    </tr>\n",
       "  </tbody>\n",
       "</table>\n",
       "</div>"
      ],
      "text/plain": [
       "    Range  Value Type Zip Code Cost      Continent\n",
       "ID                                                \n",
       "20    299     21    M   VNFKZD   18           Asia\n",
       "40    156     44    Q   RHRHJY   89           Asia\n",
       "60    347     38    X   XFEWVB   95  North America\n",
       "70    327     24    F   NLVQPY   25         Europe\n",
       "80    495     50    Z   DLUMAX   70     Antarctica"
      ]
     },
     "execution_count": 41,
     "metadata": {},
     "output_type": "execute_result"
    }
   ],
   "source": [
    "myDF.head(5)"
   ]
  },
  {
   "cell_type": "code",
   "execution_count": 42,
   "metadata": {},
   "outputs": [
    {
     "data": {
      "text/plain": [
       "24"
      ]
     },
     "execution_count": 42,
     "metadata": {},
     "output_type": "execute_result"
    }
   ],
   "source": [
    "myDF.loc[70, 'Value']"
   ]
  },
  {
   "attachments": {},
   "cell_type": "markdown",
   "metadata": {},
   "source": [
    "### 26"
   ]
  },
  {
   "cell_type": "code",
   "execution_count": 43,
   "metadata": {},
   "outputs": [
    {
     "data": {
      "text/plain": [
       "Int64Index([  20,   40,   60,   70,   80,   90,  100,  110,  120,  130,\n",
       "            ...\n",
       "            9410, 9420, 9430, 9440, 9450, 9460, 9470, 9480, 9490, 9500],\n",
       "           dtype='int64', name='ID', length=947)"
      ]
     },
     "execution_count": 43,
     "metadata": {},
     "output_type": "execute_result"
    }
   ],
   "source": [
    "myDF.index"
   ]
  },
  {
   "cell_type": "code",
   "execution_count": 44,
   "metadata": {},
   "outputs": [
    {
     "data": {
      "text/plain": [
       "Index(['Range', 'Value', 'Type', 'Zip Code', 'Cost', 'Continent'], dtype='object')"
      ]
     },
     "execution_count": 44,
     "metadata": {},
     "output_type": "execute_result"
    }
   ],
   "source": [
    "myDF.columns"
   ]
  },
  {
   "cell_type": "code",
   "execution_count": 45,
   "metadata": {},
   "outputs": [
    {
     "data": {
      "text/plain": [
       "(947, 6)"
      ]
     },
     "execution_count": 45,
     "metadata": {},
     "output_type": "execute_result"
    }
   ],
   "source": [
    "myDF.shape"
   ]
  },
  {
   "cell_type": "code",
   "execution_count": 46,
   "metadata": {},
   "outputs": [],
   "source": [
    "myDF.reset_index(inplace=True)"
   ]
  },
  {
   "cell_type": "code",
   "execution_count": 47,
   "metadata": {},
   "outputs": [
    {
     "data": {
      "text/plain": [
       "RangeIndex(start=0, stop=947, step=1)"
      ]
     },
     "execution_count": 47,
     "metadata": {},
     "output_type": "execute_result"
    }
   ],
   "source": [
    "myDF.index"
   ]
  },
  {
   "cell_type": "code",
   "execution_count": 48,
   "metadata": {},
   "outputs": [
    {
     "data": {
      "text/plain": [
       "Index(['ID', 'Range', 'Value', 'Type', 'Zip Code', 'Cost', 'Continent'], dtype='object')"
      ]
     },
     "execution_count": 48,
     "metadata": {},
     "output_type": "execute_result"
    }
   ],
   "source": [
    "myDF.columns"
   ]
  },
  {
   "cell_type": "code",
   "execution_count": 49,
   "metadata": {},
   "outputs": [
    {
     "data": {
      "text/plain": [
       "(947, 7)"
      ]
     },
     "execution_count": 49,
     "metadata": {},
     "output_type": "execute_result"
    }
   ],
   "source": [
    "myDF.shape"
   ]
  },
  {
   "attachments": {},
   "cell_type": "markdown",
   "metadata": {},
   "source": [
    "### 27"
   ]
  },
  {
   "cell_type": "code",
   "execution_count": 50,
   "metadata": {},
   "outputs": [
    {
     "data": {
      "text/html": [
       "<div>\n",
       "<style scoped>\n",
       "    .dataframe tbody tr th:only-of-type {\n",
       "        vertical-align: middle;\n",
       "    }\n",
       "\n",
       "    .dataframe tbody tr th {\n",
       "        vertical-align: top;\n",
       "    }\n",
       "\n",
       "    .dataframe thead th {\n",
       "        text-align: right;\n",
       "    }\n",
       "</style>\n",
       "<table border=\"1\" class=\"dataframe\">\n",
       "  <thead>\n",
       "    <tr style=\"text-align: right;\">\n",
       "      <th></th>\n",
       "      <th>Type</th>\n",
       "    </tr>\n",
       "  </thead>\n",
       "  <tbody>\n",
       "    <tr>\n",
       "      <th>top</th>\n",
       "      <td>F</td>\n",
       "    </tr>\n",
       "  </tbody>\n",
       "</table>\n",
       "</div>"
      ],
      "text/plain": [
       "    Type\n",
       "top    F"
      ]
     },
     "execution_count": 50,
     "metadata": {},
     "output_type": "execute_result"
    }
   ],
   "source": [
    "myDF.describe(include='all').iloc[[2],[3]]"
   ]
  },
  {
   "attachments": {},
   "cell_type": "markdown",
   "metadata": {},
   "source": [
    "### 28"
   ]
  },
  {
   "cell_type": "code",
   "execution_count": 51,
   "metadata": {},
   "outputs": [
    {
     "data": {
      "text/plain": [
       "Antarctica       116\n",
       "Asia             130\n",
       "South America    135\n",
       "Europe           139\n",
       "Australia        142\n",
       "Africa           142\n",
       "North America    143\n",
       "Name: Continent, dtype: int64"
      ]
     },
     "execution_count": 51,
     "metadata": {},
     "output_type": "execute_result"
    }
   ],
   "source": [
    "myDF.Continent.value_counts().sort_values(ascending=True)"
   ]
  },
  {
   "attachments": {},
   "cell_type": "markdown",
   "metadata": {},
   "source": [
    "### 29\n"
   ]
  },
  {
   "cell_type": "code",
   "execution_count": 52,
   "metadata": {},
   "outputs": [
    {
     "data": {
      "text/html": [
       "<div>\n",
       "<style scoped>\n",
       "    .dataframe tbody tr th:only-of-type {\n",
       "        vertical-align: middle;\n",
       "    }\n",
       "\n",
       "    .dataframe tbody tr th {\n",
       "        vertical-align: top;\n",
       "    }\n",
       "\n",
       "    .dataframe thead th {\n",
       "        text-align: right;\n",
       "    }\n",
       "</style>\n",
       "<table border=\"1\" class=\"dataframe\">\n",
       "  <thead>\n",
       "    <tr style=\"text-align: right;\">\n",
       "      <th></th>\n",
       "      <th>ID</th>\n",
       "      <th>Range</th>\n",
       "      <th>Value</th>\n",
       "      <th>Type</th>\n",
       "      <th>Zip Code</th>\n",
       "      <th>Cost</th>\n",
       "      <th>Continent</th>\n",
       "    </tr>\n",
       "  </thead>\n",
       "  <tbody>\n",
       "    <tr>\n",
       "      <th>0</th>\n",
       "      <td>20</td>\n",
       "      <td>299</td>\n",
       "      <td>21</td>\n",
       "      <td>M</td>\n",
       "      <td>VNFKZD</td>\n",
       "      <td>18</td>\n",
       "      <td>Asia</td>\n",
       "    </tr>\n",
       "    <tr>\n",
       "      <th>2</th>\n",
       "      <td>60</td>\n",
       "      <td>347</td>\n",
       "      <td>38</td>\n",
       "      <td>X</td>\n",
       "      <td>XFEWVB</td>\n",
       "      <td>95</td>\n",
       "      <td>North America</td>\n",
       "    </tr>\n",
       "    <tr>\n",
       "      <th>4</th>\n",
       "      <td>80</td>\n",
       "      <td>495</td>\n",
       "      <td>50</td>\n",
       "      <td>Z</td>\n",
       "      <td>DLUMAX</td>\n",
       "      <td>70</td>\n",
       "      <td>Antarctica</td>\n",
       "    </tr>\n",
       "    <tr>\n",
       "      <th>6</th>\n",
       "      <td>100</td>\n",
       "      <td>347</td>\n",
       "      <td>30</td>\n",
       "      <td>K</td>\n",
       "      <td>RSVMXY</td>\n",
       "      <td>13</td>\n",
       "      <td>South America</td>\n",
       "    </tr>\n",
       "  </tbody>\n",
       "</table>\n",
       "</div>"
      ],
      "text/plain": [
       "    ID  Range  Value Type Zip Code Cost      Continent\n",
       "0   20    299     21    M   VNFKZD   18           Asia\n",
       "2   60    347     38    X   XFEWVB   95  North America\n",
       "4   80    495     50    Z   DLUMAX   70     Antarctica\n",
       "6  100    347     30    K   RSVMXY   13  South America"
      ]
     },
     "execution_count": 52,
     "metadata": {},
     "output_type": "execute_result"
    }
   ],
   "source": [
    "myDF.iloc[:8:2,:]"
   ]
  },
  {
   "cell_type": "code",
   "execution_count": 53,
   "metadata": {},
   "outputs": [
    {
     "data": {
      "text/html": [
       "<div>\n",
       "<style scoped>\n",
       "    .dataframe tbody tr th:only-of-type {\n",
       "        vertical-align: middle;\n",
       "    }\n",
       "\n",
       "    .dataframe tbody tr th {\n",
       "        vertical-align: top;\n",
       "    }\n",
       "\n",
       "    .dataframe thead th {\n",
       "        text-align: right;\n",
       "    }\n",
       "</style>\n",
       "<table border=\"1\" class=\"dataframe\">\n",
       "  <thead>\n",
       "    <tr style=\"text-align: right;\">\n",
       "      <th></th>\n",
       "      <th>Type</th>\n",
       "      <th>Continent</th>\n",
       "    </tr>\n",
       "  </thead>\n",
       "  <tbody>\n",
       "    <tr>\n",
       "      <th>0</th>\n",
       "      <td>M</td>\n",
       "      <td>Asia</td>\n",
       "    </tr>\n",
       "    <tr>\n",
       "      <th>1</th>\n",
       "      <td>Q</td>\n",
       "      <td>Asia</td>\n",
       "    </tr>\n",
       "    <tr>\n",
       "      <th>2</th>\n",
       "      <td>X</td>\n",
       "      <td>North America</td>\n",
       "    </tr>\n",
       "    <tr>\n",
       "      <th>3</th>\n",
       "      <td>F</td>\n",
       "      <td>Europe</td>\n",
       "    </tr>\n",
       "    <tr>\n",
       "      <th>4</th>\n",
       "      <td>Z</td>\n",
       "      <td>Antarctica</td>\n",
       "    </tr>\n",
       "    <tr>\n",
       "      <th>5</th>\n",
       "      <td>S</td>\n",
       "      <td>South America</td>\n",
       "    </tr>\n",
       "    <tr>\n",
       "      <th>6</th>\n",
       "      <td>K</td>\n",
       "      <td>South America</td>\n",
       "    </tr>\n",
       "    <tr>\n",
       "      <th>7</th>\n",
       "      <td>A</td>\n",
       "      <td>South America</td>\n",
       "    </tr>\n",
       "    <tr>\n",
       "      <th>8</th>\n",
       "      <td>W</td>\n",
       "      <td>Australia</td>\n",
       "    </tr>\n",
       "  </tbody>\n",
       "</table>\n",
       "</div>"
      ],
      "text/plain": [
       "  Type      Continent\n",
       "0    M           Asia\n",
       "1    Q           Asia\n",
       "2    X  North America\n",
       "3    F         Europe\n",
       "4    Z     Antarctica\n",
       "5    S  South America\n",
       "6    K  South America\n",
       "7    A  South America\n",
       "8    W      Australia"
      ]
     },
     "execution_count": 53,
     "metadata": {},
     "output_type": "execute_result"
    }
   ],
   "source": [
    "myDF.loc[:8,['Type','Continent']]"
   ]
  },
  {
   "cell_type": "code",
   "execution_count": 54,
   "metadata": {},
   "outputs": [
    {
     "data": {
      "text/html": [
       "<div>\n",
       "<style scoped>\n",
       "    .dataframe tbody tr th:only-of-type {\n",
       "        vertical-align: middle;\n",
       "    }\n",
       "\n",
       "    .dataframe tbody tr th {\n",
       "        vertical-align: top;\n",
       "    }\n",
       "\n",
       "    .dataframe thead th {\n",
       "        text-align: right;\n",
       "    }\n",
       "</style>\n",
       "<table border=\"1\" class=\"dataframe\">\n",
       "  <thead>\n",
       "    <tr style=\"text-align: right;\">\n",
       "      <th></th>\n",
       "      <th>ID</th>\n",
       "      <th>Range</th>\n",
       "      <th>Value</th>\n",
       "      <th>Type</th>\n",
       "      <th>Zip Code</th>\n",
       "      <th>Cost</th>\n",
       "      <th>Continent</th>\n",
       "    </tr>\n",
       "  </thead>\n",
       "  <tbody>\n",
       "    <tr>\n",
       "      <th>690</th>\n",
       "      <td>6940</td>\n",
       "      <td>336</td>\n",
       "      <td>42</td>\n",
       "      <td>XXX</td>\n",
       "      <td>HLULLE</td>\n",
       "      <td>64</td>\n",
       "      <td>South America</td>\n",
       "    </tr>\n",
       "    <tr>\n",
       "      <th>751</th>\n",
       "      <td>7550</td>\n",
       "      <td>272</td>\n",
       "      <td>37</td>\n",
       "      <td>XXX</td>\n",
       "      <td>OAPPHA</td>\n",
       "      <td>41</td>\n",
       "      <td>Africa</td>\n",
       "    </tr>\n",
       "  </tbody>\n",
       "</table>\n",
       "</div>"
      ],
      "text/plain": [
       "       ID  Range  Value Type Zip Code Cost      Continent\n",
       "690  6940    336     42  XXX   HLULLE   64  South America\n",
       "751  7550    272     37  XXX   OAPPHA   41         Africa"
      ]
     },
     "execution_count": 54,
     "metadata": {},
     "output_type": "execute_result"
    }
   ],
   "source": [
    "myDF.loc[myDF.Type=='XXX']"
   ]
  },
  {
   "cell_type": "code",
   "execution_count": 55,
   "metadata": {},
   "outputs": [
    {
     "data": {
      "text/plain": [
       "690    42\n",
       "751    37\n",
       "Name: Value, dtype: int64"
      ]
     },
     "execution_count": 55,
     "metadata": {},
     "output_type": "execute_result"
    }
   ],
   "source": [
    "myDF.loc[myDF.Type == 'XXX']['Value']\n"
   ]
  }
 ],
 "metadata": {
  "kernelspec": {
   "display_name": "Python 3",
   "language": "python",
   "name": "python3"
  },
  "language_info": {
   "codemirror_mode": {
    "name": "ipython",
    "version": 3
   },
   "file_extension": ".py",
   "mimetype": "text/x-python",
   "name": "python",
   "nbconvert_exporter": "python",
   "pygments_lexer": "ipython3",
   "version": "3.9.13"
  },
  "orig_nbformat": 4,
  "vscode": {
   "interpreter": {
    "hash": "09e83f04e46517ea1a03852b22098722c60f5ebfc3f611b0edf7286ad5c15192"
   }
  }
 },
 "nbformat": 4,
 "nbformat_minor": 2
}
