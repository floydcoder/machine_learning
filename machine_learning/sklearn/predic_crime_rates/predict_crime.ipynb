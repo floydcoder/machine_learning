{
 "cells": [
  {
   "cell_type": "markdown",
   "metadata": {},
   "source": [
    "# Marco Stevanella - 101307949\n",
    "## Final Project\n"
   ]
  },
  {
   "cell_type": "markdown",
   "metadata": {},
   "source": [
    "### Data Description\n",
    "#### X1 = total overall reported crime rate per 1 million residents.\n",
    "X2 = reported violent crime rate per 100,000 residents\n",
    "\n",
    "X3 = annual police funding in $/resident\n",
    "\n",
    "X4 = % of people 25 years+ with 4 yrs. of high school\n",
    "\n",
    "X5 = % of 16 to 19 year-olds not in highs chool and not high \n",
    "school graduates.\n",
    "\n",
    "X6 = % of 18 to 24 year-olds in college\n",
    "\n",
    "X7 = % of people 25 years+ with at least 4 years of college\n"
   ]
  },
  {
   "cell_type": "markdown",
   "metadata": {},
   "source": []
  },
  {
   "cell_type": "code",
   "execution_count": 1,
   "metadata": {},
   "outputs": [],
   "source": [
    "import pandas as pd\n",
    "import numpy as np\n",
    "import sklearn"
   ]
  },
  {
   "cell_type": "markdown",
   "metadata": {},
   "source": [
    "##### Task 1"
   ]
  },
  {
   "cell_type": "code",
   "execution_count": 2,
   "metadata": {},
   "outputs": [],
   "source": [
    "# Rename Columns\n",
    "new_columns = ['1mm','1Hundred_Thousand','funds_$_ per_resident','%25_4_years_HS','%16to19_no_HS_no_grad','%18to24_College','%25_4_years_College']"
   ]
  },
  {
   "cell_type": "code",
   "execution_count": 3,
   "metadata": {},
   "outputs": [
    {
     "data": {
      "text/html": [
       "<div>\n",
       "<style scoped>\n",
       "    .dataframe tbody tr th:only-of-type {\n",
       "        vertical-align: middle;\n",
       "    }\n",
       "\n",
       "    .dataframe tbody tr th {\n",
       "        vertical-align: top;\n",
       "    }\n",
       "\n",
       "    .dataframe thead th {\n",
       "        text-align: right;\n",
       "    }\n",
       "</style>\n",
       "<table border=\"1\" class=\"dataframe\">\n",
       "  <thead>\n",
       "    <tr style=\"text-align: right;\">\n",
       "      <th></th>\n",
       "      <th>1mm</th>\n",
       "      <th>1Hundred_Thousand</th>\n",
       "      <th>funds_$_ per_resident</th>\n",
       "      <th>%25_4_years_HS</th>\n",
       "      <th>%16to19_no_HS_no_grad</th>\n",
       "      <th>%18to24_College</th>\n",
       "      <th>%25_4_years_College</th>\n",
       "    </tr>\n",
       "  </thead>\n",
       "  <tbody>\n",
       "    <tr>\n",
       "      <th>0</th>\n",
       "      <td>478</td>\n",
       "      <td>184</td>\n",
       "      <td>40</td>\n",
       "      <td>74</td>\n",
       "      <td>11</td>\n",
       "      <td>31</td>\n",
       "      <td>20</td>\n",
       "    </tr>\n",
       "    <tr>\n",
       "      <th>1</th>\n",
       "      <td>494</td>\n",
       "      <td>213</td>\n",
       "      <td>32</td>\n",
       "      <td>72</td>\n",
       "      <td>11</td>\n",
       "      <td>43</td>\n",
       "      <td>18</td>\n",
       "    </tr>\n",
       "    <tr>\n",
       "      <th>2</th>\n",
       "      <td>643</td>\n",
       "      <td>347</td>\n",
       "      <td>57</td>\n",
       "      <td>70</td>\n",
       "      <td>18</td>\n",
       "      <td>16</td>\n",
       "      <td>16</td>\n",
       "    </tr>\n",
       "    <tr>\n",
       "      <th>3</th>\n",
       "      <td>341</td>\n",
       "      <td>565</td>\n",
       "      <td>31</td>\n",
       "      <td>71</td>\n",
       "      <td>11</td>\n",
       "      <td>25</td>\n",
       "      <td>19</td>\n",
       "    </tr>\n",
       "    <tr>\n",
       "      <th>4</th>\n",
       "      <td>773</td>\n",
       "      <td>327</td>\n",
       "      <td>67</td>\n",
       "      <td>72</td>\n",
       "      <td>9</td>\n",
       "      <td>29</td>\n",
       "      <td>24</td>\n",
       "    </tr>\n",
       "    <tr>\n",
       "      <th>5</th>\n",
       "      <td>603</td>\n",
       "      <td>260</td>\n",
       "      <td>25</td>\n",
       "      <td>68</td>\n",
       "      <td>8</td>\n",
       "      <td>32</td>\n",
       "      <td>15</td>\n",
       "    </tr>\n",
       "    <tr>\n",
       "      <th>6</th>\n",
       "      <td>484</td>\n",
       "      <td>325</td>\n",
       "      <td>34</td>\n",
       "      <td>68</td>\n",
       "      <td>12</td>\n",
       "      <td>24</td>\n",
       "      <td>14</td>\n",
       "    </tr>\n",
       "    <tr>\n",
       "      <th>7</th>\n",
       "      <td>546</td>\n",
       "      <td>102</td>\n",
       "      <td>33</td>\n",
       "      <td>62</td>\n",
       "      <td>13</td>\n",
       "      <td>28</td>\n",
       "      <td>11</td>\n",
       "    </tr>\n",
       "    <tr>\n",
       "      <th>8</th>\n",
       "      <td>424</td>\n",
       "      <td>38</td>\n",
       "      <td>36</td>\n",
       "      <td>69</td>\n",
       "      <td>7</td>\n",
       "      <td>25</td>\n",
       "      <td>12</td>\n",
       "    </tr>\n",
       "    <tr>\n",
       "      <th>9</th>\n",
       "      <td>548</td>\n",
       "      <td>226</td>\n",
       "      <td>31</td>\n",
       "      <td>66</td>\n",
       "      <td>9</td>\n",
       "      <td>58</td>\n",
       "      <td>15</td>\n",
       "    </tr>\n",
       "    <tr>\n",
       "      <th>10</th>\n",
       "      <td>506</td>\n",
       "      <td>137</td>\n",
       "      <td>35</td>\n",
       "      <td>60</td>\n",
       "      <td>13</td>\n",
       "      <td>21</td>\n",
       "      <td>9</td>\n",
       "    </tr>\n",
       "    <tr>\n",
       "      <th>11</th>\n",
       "      <td>819</td>\n",
       "      <td>369</td>\n",
       "      <td>30</td>\n",
       "      <td>81</td>\n",
       "      <td>4</td>\n",
       "      <td>77</td>\n",
       "      <td>36</td>\n",
       "    </tr>\n",
       "    <tr>\n",
       "      <th>12</th>\n",
       "      <td>541</td>\n",
       "      <td>109</td>\n",
       "      <td>44</td>\n",
       "      <td>66</td>\n",
       "      <td>9</td>\n",
       "      <td>37</td>\n",
       "      <td>12</td>\n",
       "    </tr>\n",
       "    <tr>\n",
       "      <th>13</th>\n",
       "      <td>491</td>\n",
       "      <td>809</td>\n",
       "      <td>32</td>\n",
       "      <td>67</td>\n",
       "      <td>11</td>\n",
       "      <td>37</td>\n",
       "      <td>16</td>\n",
       "    </tr>\n",
       "    <tr>\n",
       "      <th>14</th>\n",
       "      <td>514</td>\n",
       "      <td>29</td>\n",
       "      <td>30</td>\n",
       "      <td>65</td>\n",
       "      <td>12</td>\n",
       "      <td>35</td>\n",
       "      <td>11</td>\n",
       "    </tr>\n",
       "    <tr>\n",
       "      <th>15</th>\n",
       "      <td>371</td>\n",
       "      <td>245</td>\n",
       "      <td>16</td>\n",
       "      <td>64</td>\n",
       "      <td>10</td>\n",
       "      <td>42</td>\n",
       "      <td>14</td>\n",
       "    </tr>\n",
       "    <tr>\n",
       "      <th>16</th>\n",
       "      <td>457</td>\n",
       "      <td>118</td>\n",
       "      <td>29</td>\n",
       "      <td>64</td>\n",
       "      <td>12</td>\n",
       "      <td>21</td>\n",
       "      <td>10</td>\n",
       "    </tr>\n",
       "    <tr>\n",
       "      <th>17</th>\n",
       "      <td>437</td>\n",
       "      <td>148</td>\n",
       "      <td>36</td>\n",
       "      <td>62</td>\n",
       "      <td>7</td>\n",
       "      <td>81</td>\n",
       "      <td>27</td>\n",
       "    </tr>\n",
       "    <tr>\n",
       "      <th>18</th>\n",
       "      <td>570</td>\n",
       "      <td>387</td>\n",
       "      <td>30</td>\n",
       "      <td>59</td>\n",
       "      <td>15</td>\n",
       "      <td>31</td>\n",
       "      <td>16</td>\n",
       "    </tr>\n",
       "    <tr>\n",
       "      <th>19</th>\n",
       "      <td>432</td>\n",
       "      <td>98</td>\n",
       "      <td>23</td>\n",
       "      <td>56</td>\n",
       "      <td>15</td>\n",
       "      <td>50</td>\n",
       "      <td>15</td>\n",
       "    </tr>\n",
       "    <tr>\n",
       "      <th>20</th>\n",
       "      <td>619</td>\n",
       "      <td>608</td>\n",
       "      <td>33</td>\n",
       "      <td>46</td>\n",
       "      <td>22</td>\n",
       "      <td>24</td>\n",
       "      <td>8</td>\n",
       "    </tr>\n",
       "    <tr>\n",
       "      <th>21</th>\n",
       "      <td>357</td>\n",
       "      <td>218</td>\n",
       "      <td>35</td>\n",
       "      <td>54</td>\n",
       "      <td>14</td>\n",
       "      <td>27</td>\n",
       "      <td>13</td>\n",
       "    </tr>\n",
       "    <tr>\n",
       "      <th>22</th>\n",
       "      <td>623</td>\n",
       "      <td>254</td>\n",
       "      <td>38</td>\n",
       "      <td>54</td>\n",
       "      <td>20</td>\n",
       "      <td>22</td>\n",
       "      <td>11</td>\n",
       "    </tr>\n",
       "    <tr>\n",
       "      <th>23</th>\n",
       "      <td>547</td>\n",
       "      <td>697</td>\n",
       "      <td>44</td>\n",
       "      <td>45</td>\n",
       "      <td>26</td>\n",
       "      <td>18</td>\n",
       "      <td>8</td>\n",
       "    </tr>\n",
       "    <tr>\n",
       "      <th>24</th>\n",
       "      <td>792</td>\n",
       "      <td>827</td>\n",
       "      <td>28</td>\n",
       "      <td>57</td>\n",
       "      <td>12</td>\n",
       "      <td>23</td>\n",
       "      <td>11</td>\n",
       "    </tr>\n",
       "    <tr>\n",
       "      <th>25</th>\n",
       "      <td>799</td>\n",
       "      <td>693</td>\n",
       "      <td>35</td>\n",
       "      <td>57</td>\n",
       "      <td>9</td>\n",
       "      <td>60</td>\n",
       "      <td>18</td>\n",
       "    </tr>\n",
       "    <tr>\n",
       "      <th>26</th>\n",
       "      <td>439</td>\n",
       "      <td>448</td>\n",
       "      <td>31</td>\n",
       "      <td>61</td>\n",
       "      <td>19</td>\n",
       "      <td>14</td>\n",
       "      <td>12</td>\n",
       "    </tr>\n",
       "    <tr>\n",
       "      <th>27</th>\n",
       "      <td>867</td>\n",
       "      <td>942</td>\n",
       "      <td>39</td>\n",
       "      <td>52</td>\n",
       "      <td>17</td>\n",
       "      <td>31</td>\n",
       "      <td>10</td>\n",
       "    </tr>\n",
       "    <tr>\n",
       "      <th>28</th>\n",
       "      <td>912</td>\n",
       "      <td>1017</td>\n",
       "      <td>27</td>\n",
       "      <td>44</td>\n",
       "      <td>21</td>\n",
       "      <td>24</td>\n",
       "      <td>9</td>\n",
       "    </tr>\n",
       "    <tr>\n",
       "      <th>29</th>\n",
       "      <td>462</td>\n",
       "      <td>216</td>\n",
       "      <td>36</td>\n",
       "      <td>43</td>\n",
       "      <td>18</td>\n",
       "      <td>23</td>\n",
       "      <td>8</td>\n",
       "    </tr>\n",
       "    <tr>\n",
       "      <th>30</th>\n",
       "      <td>859</td>\n",
       "      <td>673</td>\n",
       "      <td>38</td>\n",
       "      <td>48</td>\n",
       "      <td>19</td>\n",
       "      <td>22</td>\n",
       "      <td>10</td>\n",
       "    </tr>\n",
       "    <tr>\n",
       "      <th>31</th>\n",
       "      <td>805</td>\n",
       "      <td>989</td>\n",
       "      <td>46</td>\n",
       "      <td>57</td>\n",
       "      <td>14</td>\n",
       "      <td>25</td>\n",
       "      <td>12</td>\n",
       "    </tr>\n",
       "    <tr>\n",
       "      <th>32</th>\n",
       "      <td>652</td>\n",
       "      <td>630</td>\n",
       "      <td>29</td>\n",
       "      <td>47</td>\n",
       "      <td>19</td>\n",
       "      <td>25</td>\n",
       "      <td>9</td>\n",
       "    </tr>\n",
       "    <tr>\n",
       "      <th>33</th>\n",
       "      <td>776</td>\n",
       "      <td>404</td>\n",
       "      <td>32</td>\n",
       "      <td>50</td>\n",
       "      <td>19</td>\n",
       "      <td>21</td>\n",
       "      <td>9</td>\n",
       "    </tr>\n",
       "    <tr>\n",
       "      <th>34</th>\n",
       "      <td>919</td>\n",
       "      <td>692</td>\n",
       "      <td>39</td>\n",
       "      <td>48</td>\n",
       "      <td>16</td>\n",
       "      <td>32</td>\n",
       "      <td>11</td>\n",
       "    </tr>\n",
       "    <tr>\n",
       "      <th>35</th>\n",
       "      <td>732</td>\n",
       "      <td>1517</td>\n",
       "      <td>44</td>\n",
       "      <td>49</td>\n",
       "      <td>13</td>\n",
       "      <td>31</td>\n",
       "      <td>14</td>\n",
       "    </tr>\n",
       "    <tr>\n",
       "      <th>36</th>\n",
       "      <td>657</td>\n",
       "      <td>879</td>\n",
       "      <td>33</td>\n",
       "      <td>72</td>\n",
       "      <td>13</td>\n",
       "      <td>13</td>\n",
       "      <td>22</td>\n",
       "    </tr>\n",
       "    <tr>\n",
       "      <th>37</th>\n",
       "      <td>1419</td>\n",
       "      <td>631</td>\n",
       "      <td>43</td>\n",
       "      <td>59</td>\n",
       "      <td>14</td>\n",
       "      <td>21</td>\n",
       "      <td>13</td>\n",
       "    </tr>\n",
       "    <tr>\n",
       "      <th>38</th>\n",
       "      <td>989</td>\n",
       "      <td>1375</td>\n",
       "      <td>22</td>\n",
       "      <td>49</td>\n",
       "      <td>9</td>\n",
       "      <td>46</td>\n",
       "      <td>13</td>\n",
       "    </tr>\n",
       "    <tr>\n",
       "      <th>39</th>\n",
       "      <td>821</td>\n",
       "      <td>1139</td>\n",
       "      <td>30</td>\n",
       "      <td>54</td>\n",
       "      <td>13</td>\n",
       "      <td>27</td>\n",
       "      <td>12</td>\n",
       "    </tr>\n",
       "    <tr>\n",
       "      <th>40</th>\n",
       "      <td>1740</td>\n",
       "      <td>3545</td>\n",
       "      <td>86</td>\n",
       "      <td>62</td>\n",
       "      <td>22</td>\n",
       "      <td>18</td>\n",
       "      <td>15</td>\n",
       "    </tr>\n",
       "    <tr>\n",
       "      <th>41</th>\n",
       "      <td>815</td>\n",
       "      <td>706</td>\n",
       "      <td>30</td>\n",
       "      <td>47</td>\n",
       "      <td>17</td>\n",
       "      <td>39</td>\n",
       "      <td>11</td>\n",
       "    </tr>\n",
       "    <tr>\n",
       "      <th>42</th>\n",
       "      <td>760</td>\n",
       "      <td>451</td>\n",
       "      <td>32</td>\n",
       "      <td>45</td>\n",
       "      <td>34</td>\n",
       "      <td>15</td>\n",
       "      <td>10</td>\n",
       "    </tr>\n",
       "    <tr>\n",
       "      <th>43</th>\n",
       "      <td>936</td>\n",
       "      <td>433</td>\n",
       "      <td>43</td>\n",
       "      <td>48</td>\n",
       "      <td>26</td>\n",
       "      <td>23</td>\n",
       "      <td>12</td>\n",
       "    </tr>\n",
       "    <tr>\n",
       "      <th>44</th>\n",
       "      <td>863</td>\n",
       "      <td>601</td>\n",
       "      <td>20</td>\n",
       "      <td>69</td>\n",
       "      <td>23</td>\n",
       "      <td>7</td>\n",
       "      <td>12</td>\n",
       "    </tr>\n",
       "    <tr>\n",
       "      <th>45</th>\n",
       "      <td>783</td>\n",
       "      <td>1024</td>\n",
       "      <td>55</td>\n",
       "      <td>42</td>\n",
       "      <td>23</td>\n",
       "      <td>23</td>\n",
       "      <td>11</td>\n",
       "    </tr>\n",
       "    <tr>\n",
       "      <th>46</th>\n",
       "      <td>715</td>\n",
       "      <td>457</td>\n",
       "      <td>44</td>\n",
       "      <td>49</td>\n",
       "      <td>18</td>\n",
       "      <td>30</td>\n",
       "      <td>12</td>\n",
       "    </tr>\n",
       "    <tr>\n",
       "      <th>47</th>\n",
       "      <td>1504</td>\n",
       "      <td>1441</td>\n",
       "      <td>37</td>\n",
       "      <td>57</td>\n",
       "      <td>15</td>\n",
       "      <td>35</td>\n",
       "      <td>13</td>\n",
       "    </tr>\n",
       "    <tr>\n",
       "      <th>48</th>\n",
       "      <td>1324</td>\n",
       "      <td>1022</td>\n",
       "      <td>82</td>\n",
       "      <td>72</td>\n",
       "      <td>22</td>\n",
       "      <td>15</td>\n",
       "      <td>16</td>\n",
       "    </tr>\n",
       "    <tr>\n",
       "      <th>49</th>\n",
       "      <td>940</td>\n",
       "      <td>1244</td>\n",
       "      <td>66</td>\n",
       "      <td>67</td>\n",
       "      <td>26</td>\n",
       "      <td>18</td>\n",
       "      <td>16</td>\n",
       "    </tr>\n",
       "  </tbody>\n",
       "</table>\n",
       "</div>"
      ],
      "text/plain": [
       "     1mm  1Hundred_Thousand  funds_$_ per_resident  %25_4_years_HS  \\\n",
       "0    478                184                     40              74   \n",
       "1    494                213                     32              72   \n",
       "2    643                347                     57              70   \n",
       "3    341                565                     31              71   \n",
       "4    773                327                     67              72   \n",
       "5    603                260                     25              68   \n",
       "6    484                325                     34              68   \n",
       "7    546                102                     33              62   \n",
       "8    424                 38                     36              69   \n",
       "9    548                226                     31              66   \n",
       "10   506                137                     35              60   \n",
       "11   819                369                     30              81   \n",
       "12   541                109                     44              66   \n",
       "13   491                809                     32              67   \n",
       "14   514                 29                     30              65   \n",
       "15   371                245                     16              64   \n",
       "16   457                118                     29              64   \n",
       "17   437                148                     36              62   \n",
       "18   570                387                     30              59   \n",
       "19   432                 98                     23              56   \n",
       "20   619                608                     33              46   \n",
       "21   357                218                     35              54   \n",
       "22   623                254                     38              54   \n",
       "23   547                697                     44              45   \n",
       "24   792                827                     28              57   \n",
       "25   799                693                     35              57   \n",
       "26   439                448                     31              61   \n",
       "27   867                942                     39              52   \n",
       "28   912               1017                     27              44   \n",
       "29   462                216                     36              43   \n",
       "30   859                673                     38              48   \n",
       "31   805                989                     46              57   \n",
       "32   652                630                     29              47   \n",
       "33   776                404                     32              50   \n",
       "34   919                692                     39              48   \n",
       "35   732               1517                     44              49   \n",
       "36   657                879                     33              72   \n",
       "37  1419                631                     43              59   \n",
       "38   989               1375                     22              49   \n",
       "39   821               1139                     30              54   \n",
       "40  1740               3545                     86              62   \n",
       "41   815                706                     30              47   \n",
       "42   760                451                     32              45   \n",
       "43   936                433                     43              48   \n",
       "44   863                601                     20              69   \n",
       "45   783               1024                     55              42   \n",
       "46   715                457                     44              49   \n",
       "47  1504               1441                     37              57   \n",
       "48  1324               1022                     82              72   \n",
       "49   940               1244                     66              67   \n",
       "\n",
       "    %16to19_no_HS_no_grad  %18to24_College  %25_4_years_College  \n",
       "0                      11               31                   20  \n",
       "1                      11               43                   18  \n",
       "2                      18               16                   16  \n",
       "3                      11               25                   19  \n",
       "4                       9               29                   24  \n",
       "5                       8               32                   15  \n",
       "6                      12               24                   14  \n",
       "7                      13               28                   11  \n",
       "8                       7               25                   12  \n",
       "9                       9               58                   15  \n",
       "10                     13               21                    9  \n",
       "11                      4               77                   36  \n",
       "12                      9               37                   12  \n",
       "13                     11               37                   16  \n",
       "14                     12               35                   11  \n",
       "15                     10               42                   14  \n",
       "16                     12               21                   10  \n",
       "17                      7               81                   27  \n",
       "18                     15               31                   16  \n",
       "19                     15               50                   15  \n",
       "20                     22               24                    8  \n",
       "21                     14               27                   13  \n",
       "22                     20               22                   11  \n",
       "23                     26               18                    8  \n",
       "24                     12               23                   11  \n",
       "25                      9               60                   18  \n",
       "26                     19               14                   12  \n",
       "27                     17               31                   10  \n",
       "28                     21               24                    9  \n",
       "29                     18               23                    8  \n",
       "30                     19               22                   10  \n",
       "31                     14               25                   12  \n",
       "32                     19               25                    9  \n",
       "33                     19               21                    9  \n",
       "34                     16               32                   11  \n",
       "35                     13               31                   14  \n",
       "36                     13               13                   22  \n",
       "37                     14               21                   13  \n",
       "38                      9               46                   13  \n",
       "39                     13               27                   12  \n",
       "40                     22               18                   15  \n",
       "41                     17               39                   11  \n",
       "42                     34               15                   10  \n",
       "43                     26               23                   12  \n",
       "44                     23                7                   12  \n",
       "45                     23               23                   11  \n",
       "46                     18               30                   12  \n",
       "47                     15               35                   13  \n",
       "48                     22               15                   16  \n",
       "49                     26               18                   16  "
      ]
     },
     "execution_count": 3,
     "metadata": {},
     "output_type": "execute_result"
    }
   ],
   "source": [
    "\n",
    "df = pd.read_csv('Crime.csv',names=new_columns,header=0)\n",
    "df"
   ]
  },
  {
   "cell_type": "code",
   "execution_count": 4,
   "metadata": {},
   "outputs": [
    {
     "data": {
      "text/plain": [
       "(50, 7)"
      ]
     },
     "execution_count": 4,
     "metadata": {},
     "output_type": "execute_result"
    }
   ],
   "source": [
    "# Check for the shape of the Data Frame\n",
    "df.shape"
   ]
  },
  {
   "cell_type": "code",
   "execution_count": 5,
   "metadata": {},
   "outputs": [
    {
     "name": "stdout",
     "output_type": "stream",
     "text": [
      "1mm                      0\n",
      "1Hundred_Thousand        0\n",
      "funds_$_ per_resident    0\n",
      "%25_4_years_HS           0\n",
      "%16to19_no_HS_no_grad    0\n",
      "%18to24_College          0\n",
      "%25_4_years_College      0\n",
      "dtype: int64\n"
     ]
    }
   ],
   "source": [
    "# Check for NaN\n",
    "count = df[new_columns].isnull().sum()\n",
    "print(count)"
   ]
  },
  {
   "cell_type": "code",
   "execution_count": 6,
   "metadata": {},
   "outputs": [
    {
     "data": {
      "text/html": [
       "<div>\n",
       "<style scoped>\n",
       "    .dataframe tbody tr th:only-of-type {\n",
       "        vertical-align: middle;\n",
       "    }\n",
       "\n",
       "    .dataframe tbody tr th {\n",
       "        vertical-align: top;\n",
       "    }\n",
       "\n",
       "    .dataframe thead th {\n",
       "        text-align: right;\n",
       "    }\n",
       "</style>\n",
       "<table border=\"1\" class=\"dataframe\">\n",
       "  <thead>\n",
       "    <tr style=\"text-align: right;\">\n",
       "      <th></th>\n",
       "      <th>1mm</th>\n",
       "      <th>1Hundred_Thousand</th>\n",
       "      <th>funds_$_ per_resident</th>\n",
       "      <th>%25_4_years_HS</th>\n",
       "      <th>%16to19_no_HS_no_grad</th>\n",
       "      <th>%18to24_College</th>\n",
       "      <th>%25_4_years_College</th>\n",
       "    </tr>\n",
       "  </thead>\n",
       "  <tbody>\n",
       "    <tr>\n",
       "      <th>count</th>\n",
       "      <td>50.000000</td>\n",
       "      <td>50.000000</td>\n",
       "      <td>50.000000</td>\n",
       "      <td>50.000000</td>\n",
       "      <td>50.000000</td>\n",
       "      <td>50.000000</td>\n",
       "      <td>50.000000</td>\n",
       "    </tr>\n",
       "    <tr>\n",
       "      <th>mean</th>\n",
       "      <td>717.960000</td>\n",
       "      <td>616.180000</td>\n",
       "      <td>37.760000</td>\n",
       "      <td>58.800000</td>\n",
       "      <td>15.400000</td>\n",
       "      <td>29.900000</td>\n",
       "      <td>13.820000</td>\n",
       "    </tr>\n",
       "    <tr>\n",
       "      <th>std</th>\n",
       "      <td>293.938766</td>\n",
       "      <td>573.739175</td>\n",
       "      <td>13.820364</td>\n",
       "      <td>9.965246</td>\n",
       "      <td>6.023762</td>\n",
       "      <td>14.801062</td>\n",
       "      <td>5.157479</td>\n",
       "    </tr>\n",
       "    <tr>\n",
       "      <th>min</th>\n",
       "      <td>341.000000</td>\n",
       "      <td>29.000000</td>\n",
       "      <td>16.000000</td>\n",
       "      <td>42.000000</td>\n",
       "      <td>4.000000</td>\n",
       "      <td>7.000000</td>\n",
       "      <td>8.000000</td>\n",
       "    </tr>\n",
       "    <tr>\n",
       "      <th>25%</th>\n",
       "      <td>497.000000</td>\n",
       "      <td>230.750000</td>\n",
       "      <td>30.000000</td>\n",
       "      <td>49.000000</td>\n",
       "      <td>11.000000</td>\n",
       "      <td>21.250000</td>\n",
       "      <td>11.000000</td>\n",
       "    </tr>\n",
       "    <tr>\n",
       "      <th>50%</th>\n",
       "      <td>654.500000</td>\n",
       "      <td>454.000000</td>\n",
       "      <td>34.500000</td>\n",
       "      <td>59.000000</td>\n",
       "      <td>14.000000</td>\n",
       "      <td>25.000000</td>\n",
       "      <td>12.000000</td>\n",
       "    </tr>\n",
       "    <tr>\n",
       "      <th>75%</th>\n",
       "      <td>820.500000</td>\n",
       "      <td>822.500000</td>\n",
       "      <td>42.250000</td>\n",
       "      <td>67.000000</td>\n",
       "      <td>19.000000</td>\n",
       "      <td>34.250000</td>\n",
       "      <td>15.750000</td>\n",
       "    </tr>\n",
       "    <tr>\n",
       "      <th>max</th>\n",
       "      <td>1740.000000</td>\n",
       "      <td>3545.000000</td>\n",
       "      <td>86.000000</td>\n",
       "      <td>81.000000</td>\n",
       "      <td>34.000000</td>\n",
       "      <td>81.000000</td>\n",
       "      <td>36.000000</td>\n",
       "    </tr>\n",
       "  </tbody>\n",
       "</table>\n",
       "</div>"
      ],
      "text/plain": [
       "               1mm  1Hundred_Thousand  funds_$_ per_resident  %25_4_years_HS  \\\n",
       "count    50.000000          50.000000              50.000000       50.000000   \n",
       "mean    717.960000         616.180000              37.760000       58.800000   \n",
       "std     293.938766         573.739175              13.820364        9.965246   \n",
       "min     341.000000          29.000000              16.000000       42.000000   \n",
       "25%     497.000000         230.750000              30.000000       49.000000   \n",
       "50%     654.500000         454.000000              34.500000       59.000000   \n",
       "75%     820.500000         822.500000              42.250000       67.000000   \n",
       "max    1740.000000        3545.000000              86.000000       81.000000   \n",
       "\n",
       "       %16to19_no_HS_no_grad  %18to24_College  %25_4_years_College  \n",
       "count              50.000000        50.000000            50.000000  \n",
       "mean               15.400000        29.900000            13.820000  \n",
       "std                 6.023762        14.801062             5.157479  \n",
       "min                 4.000000         7.000000             8.000000  \n",
       "25%                11.000000        21.250000            11.000000  \n",
       "50%                14.000000        25.000000            12.000000  \n",
       "75%                19.000000        34.250000            15.750000  \n",
       "max                34.000000        81.000000            36.000000  "
      ]
     },
     "execution_count": 6,
     "metadata": {},
     "output_type": "execute_result"
    }
   ],
   "source": [
    "# Summery Statistics\n",
    "df[new_columns].describe()"
   ]
  },
  {
   "cell_type": "code",
   "execution_count": 7,
   "metadata": {},
   "outputs": [],
   "source": [
    "import matplotlib.pyplot as ptl\n",
    "import seaborn\n",
    "%matplotlib inline\n",
    "seaborn.set()\n"
   ]
  },
  {
   "cell_type": "code",
   "execution_count": 36,
   "metadata": {},
   "outputs": [
    {
     "data": {
      "image/png": "[encoded data removed]",
      "text/plain": [
       "<Figure size 432x288 with 1 Axes>"
      ]
     },
     "metadata": {},
     "output_type": "display_data"
    }
   ],
   "source": [
    "\n",
    "dollar_per_resident = np.array(df['funds_$_ per_resident'])\n",
    "ptl.hist(dollar_per_resident)\n",
    "ptl.xlabel('$ per resident')\n",
    "ptl.ylabel('amount')\n",
    "ptl.title('Funds in $ per resident - By Marco')\n",
    "ptl.grid(True)\n"
   ]
  },
  {
   "cell_type": "code",
   "execution_count": 9,
   "metadata": {},
   "outputs": [
    {
     "data": {
      "text/plain": [
       "array([478, 494, 643, 341, 773], dtype=int64)"
      ]
     },
     "execution_count": 9,
     "metadata": {},
     "output_type": "execute_result"
    }
   ],
   "source": [
    "# Reported crimes for 1 mm residents\n",
    "one_mm = np.array(df[new_columns[0]])\n",
    "one_mm = one_mm[:5]\n",
    "one_mm"
   ]
  },
  {
   "cell_type": "code",
   "execution_count": 10,
   "metadata": {},
   "outputs": [
    {
     "data": {
      "text/plain": [
       "array([184, 213, 347, 565, 327], dtype=int64)"
      ]
     },
     "execution_count": 10,
     "metadata": {},
     "output_type": "execute_result"
    }
   ],
   "source": [
    "# Reported crimes for 100 thousand residents\n",
    "one_h_thousand = np.array(df[new_columns[1]])\n",
    "one_h_thousand = one_h_thousand[:5]\n",
    "one_h_thousand\n"
   ]
  },
  {
   "cell_type": "code",
   "execution_count": 11,
   "metadata": {},
   "outputs": [
    {
     "data": {
      "text/plain": [
       "array([40, 32, 57, 31, 67], dtype=int64)"
      ]
     },
     "execution_count": 11,
     "metadata": {},
     "output_type": "execute_result"
    }
   ],
   "source": [
    "# Dollars per resident\n",
    "dollars_per_resident = np.array(df[new_columns[2]])\n",
    "dollars_per_resident = dollars_per_resident[:5]\n",
    "dollars_per_resident\n"
   ]
  },
  {
   "cell_type": "code",
   "execution_count": 12,
   "metadata": {},
   "outputs": [
    {
     "data": {
      "text/plain": [
       "(50,)"
      ]
     },
     "execution_count": 12,
     "metadata": {},
     "output_type": "execute_result"
    }
   ],
   "source": [
    "dollar_per_resident.shape"
   ]
  },
  {
   "cell_type": "code",
   "execution_count": 13,
   "metadata": {},
   "outputs": [],
   "source": [
    "# Create lables\n",
    "lables = [str(i) for i in range(0, 5)]"
   ]
  },
  {
   "cell_type": "code",
   "execution_count": 14,
   "metadata": {},
   "outputs": [],
   "source": [
    "x = np.arange(len(lables))\n",
    "width = 0.35"
   ]
  },
  {
   "cell_type": "code",
   "execution_count": 15,
   "metadata": {},
   "outputs": [
    {
     "data": {
      "image/png": "[encoded data removed]",
      "text/plain": [
       "<Figure size 432x288 with 1 Axes>"
      ]
     },
     "metadata": {},
     "output_type": "display_data"
    }
   ],
   "source": [
    "import matplotlib.pyplot as plt\n",
    "fig, ax = ptl.subplots()\n",
    "rects1 = ax.bar(x - width/2, one_mm, width, label='1mm')\n",
    "rects2 = ax.bar(x + width/2, one_h_thousand, width, label='100 Thousand')\n",
    "ax.set_ylabel('Reports')\n",
    "ax.set_title('Crime Reports Per Num Residents')\n",
    "# ax.set_xticks(x,labels=)\n",
    "ax.legend()\n",
    "ax.bar_label(rects1, padding=3)\n",
    "ax.bar_label(rects2, padding=3)\n",
    "\n",
    "fig.tight_layout()\n",
    "\n",
    "plt.show()\n"
   ]
  },
  {
   "cell_type": "code",
   "execution_count": 51,
   "metadata": {},
   "outputs": [
    {
     "name": "stdout",
     "output_type": "stream",
     "text": [
      "['4 yrs High School', 'No Education', 'Adolescents College', 'College Mature Students']\n"
     ]
    },
    {
     "data": {
      "image/png": "[encoded data removed]",
      "text/plain": [
       "<Figure size 432x288 with 1 Axes>"
      ]
     },
     "metadata": {},
     "output_type": "display_data"
    }
   ],
   "source": [
    "import numpy as np\n",
    "import matplotlib.pyplot as plt\n",
    "\n",
    "#year = [1950, 1960, 1970, 1980, 1990, 2000, 2010, 2018]\n",
    "columns = ['4 yrs High School', 'No Education','Adolescents College', 'College Mature Students']\n",
    "print(columns)\n",
    "# test = df['%25_4_years_HS'].nlargest(5).values\n",
    "# print(test)\n",
    "crime_by_education = {\n",
    "    '4 yrs High School': df['%25_4_years_HS'].nlargest(4).values,\n",
    "    'No Education': df['%16to19_no_HS_no_grad'].nlargest(4).values,\n",
    "    'Adolescents College': df['%18to24_College'].nlargest(4).values,\n",
    "    'College Mature Students': df['%25_4_years_College'].nlargest(4).values,\n",
    "}\n",
    "\n",
    "fig, ax = plt.subplots()\n",
    "ax.stackplot(columns, crime_by_education.values(),labels=crime_by_education.keys())\n",
    "ax.legend(loc='upper left')\n",
    "ax.set_title('Crimes by Education')\n",
    "ax.set_xlabel('Educ Type')\n",
    "ax.set_ylabel('Percentage of crimes')\n",
    "\n",
    "plt.show()\n"
   ]
  },
  {
   "cell_type": "code",
   "execution_count": 56,
   "metadata": {},
   "outputs": [
    {
     "name": "stdout",
     "output_type": "stream",
     "text": [
      "58.8\n"
     ]
    },
    {
     "data": {
      "image/png": "[encoded data removed]",
      "text/plain": [
       "<Figure size 432x288 with 1 Axes>"
      ]
     },
     "metadata": {},
     "output_type": "display_data"
    }
   ],
   "source": [
    "labels = '4 yrs High School', 'No Education', 'Adolescents College', 'College Mature Students'\n",
    "four_years = df['%25_4_years_HS'].mean()\n",
    "no_edu = df['%16to19_no_HS_no_grad'].mean()\n",
    "adolescent_college = df['%18to24_College'].mean()\n",
    "mature_college = df['%25_4_years_College'].mean()\n",
    "print(four_years)\n",
    "sizes = [four_years, no_edu, adolescent_college, mature_college]\n",
    "explode = (0, 0, 0, 0.5)\n",
    "\n",
    "fig1, ax1 = plt.subplots()\n",
    "ax1.pie(sizes, explode=explode, labels=labels, autopct='%1.1f%%',shadow=True, startangle=90)\n",
    "ax1.axis('equal')  # Equal aspect ratio ensures that pie is drawn as a circle.\n",
    "\n",
    "plt.show()\n"
   ]
  },
  {
   "cell_type": "code",
   "execution_count": 62,
   "metadata": {},
   "outputs": [
    {
     "data": {
      "image/png": "[encoded data removed]",
      "text/plain": [
       "<Figure size 432x288 with 1 Axes>"
      ]
     },
     "metadata": {},
     "output_type": "display_data"
    }
   ],
   "source": [
    "fig, ax = plt.subplots()\n",
    "\n",
    "population = ['one million', '1 hundred thousand']\n",
    "one_million = df['1mm'].median()\n",
    "one_hundred_thousand = df['1Hundred_Thousand'].median()\n",
    "calls = [one_million,one_hundred_thousand]\n",
    "bar_colors = ['tab:red', 'tab:blue']\n",
    "\n",
    "ax.bar(population, calls, color=bar_colors)\n",
    "\n",
    "ax.set_ylabel('Calls')\n",
    "ax.set_title('Crimes Median by population')\n",
    "\n",
    "\n",
    "plt.show()\n"
   ]
  },
  {
   "cell_type": "markdown",
   "metadata": {},
   "source": [
    "The data set present 2 column that could represent the independent variable X. One is the one million overall reported crime column, and the other is the reported violent crime per 100,000 resident?\n",
    "\n",
    "So the question arise; which prediction would we want our model to perform?\n",
    "\n",
    "Based on VIOLENT crime per 100,000?\n",
    "\n",
    "OR\n",
    "\n",
    "Based on the OVERALL crime per 1,000,000?\n",
    "\n"
   ]
  },
  {
   "cell_type": "code",
   "execution_count": 16,
   "metadata": {},
   "outputs": [],
   "source": [
    "# Linear Regression -> Taking into consideration Overall Crimes per 1mm (X1) and X2 Violent crimes per 100,000 (X2)\n",
    "\n",
    "# Predicting the crime rates based on the population\n",
    "\n",
    "# Get Matrix of features (independent variable) as X\n",
    "X = df.iloc[: , :1].values\n",
    "# Dependent Variable Vector as y\n",
    "y = df.iloc[:,1:2].values"
   ]
  },
  {
   "cell_type": "code",
   "execution_count": 17,
   "metadata": {},
   "outputs": [
    {
     "name": "stdout",
     "output_type": "stream",
     "text": [
      "[[ 478]\n",
      " [ 494]\n",
      " [ 643]\n",
      " [ 341]\n",
      " [ 773]\n",
      " [ 603]\n",
      " [ 484]\n",
      " [ 546]\n",
      " [ 424]\n",
      " [ 548]\n",
      " [ 506]\n",
      " [ 819]\n",
      " [ 541]\n",
      " [ 491]\n",
      " [ 514]\n",
      " [ 371]\n",
      " [ 457]\n",
      " [ 437]\n",
      " [ 570]\n",
      " [ 432]\n",
      " [ 619]\n",
      " [ 357]\n",
      " [ 623]\n",
      " [ 547]\n",
      " [ 792]\n",
      " [ 799]\n",
      " [ 439]\n",
      " [ 867]\n",
      " [ 912]\n",
      " [ 462]\n",
      " [ 859]\n",
      " [ 805]\n",
      " [ 652]\n",
      " [ 776]\n",
      " [ 919]\n",
      " [ 732]\n",
      " [ 657]\n",
      " [1419]\n",
      " [ 989]\n",
      " [ 821]\n",
      " [1740]\n",
      " [ 815]\n",
      " [ 760]\n",
      " [ 936]\n",
      " [ 863]\n",
      " [ 783]\n",
      " [ 715]\n",
      " [1504]\n",
      " [1324]\n",
      " [ 940]]\n"
     ]
    }
   ],
   "source": [
    "print(X)"
   ]
  },
  {
   "cell_type": "code",
   "execution_count": 18,
   "metadata": {},
   "outputs": [
    {
     "name": "stdout",
     "output_type": "stream",
     "text": [
      "[[ 184]\n",
      " [ 213]\n",
      " [ 347]\n",
      " [ 565]\n",
      " [ 327]\n",
      " [ 260]\n",
      " [ 325]\n",
      " [ 102]\n",
      " [  38]\n",
      " [ 226]\n",
      " [ 137]\n",
      " [ 369]\n",
      " [ 109]\n",
      " [ 809]\n",
      " [  29]\n",
      " [ 245]\n",
      " [ 118]\n",
      " [ 148]\n",
      " [ 387]\n",
      " [  98]\n",
      " [ 608]\n",
      " [ 218]\n",
      " [ 254]\n",
      " [ 697]\n",
      " [ 827]\n",
      " [ 693]\n",
      " [ 448]\n",
      " [ 942]\n",
      " [1017]\n",
      " [ 216]\n",
      " [ 673]\n",
      " [ 989]\n",
      " [ 630]\n",
      " [ 404]\n",
      " [ 692]\n",
      " [1517]\n",
      " [ 879]\n",
      " [ 631]\n",
      " [1375]\n",
      " [1139]\n",
      " [3545]\n",
      " [ 706]\n",
      " [ 451]\n",
      " [ 433]\n",
      " [ 601]\n",
      " [1024]\n",
      " [ 457]\n",
      " [1441]\n",
      " [1022]\n",
      " [1244]]\n"
     ]
    }
   ],
   "source": [
    "print(y)"
   ]
  },
  {
   "cell_type": "code",
   "execution_count": 19,
   "metadata": {},
   "outputs": [],
   "source": [
    "from sklearn.model_selection import train_test_split\n",
    "X_train, X_test, y_train, y_test = train_test_split(X,y)"
   ]
  },
  {
   "cell_type": "code",
   "execution_count": 20,
   "metadata": {},
   "outputs": [
    {
     "data": {
      "text/html": [
       "<style>#sk-container-id-1 {color: black;background-color: white;}#sk-container-id-1 pre{padding: 0;}#sk-container-id-1 div.sk-toggleable {background-color: white;}#sk-container-id-1 label.sk-toggleable__label {cursor: pointer;display: block;width: 100%;margin-bottom: 0;padding: 0.3em;box-sizing: border-box;text-align: center;}#sk-container-id-1 label.sk-toggleable__label-arrow:before {content: \"▸\";float: left;margin-right: 0.25em;color: #696969;}#sk-container-id-1 label.sk-toggleable__label-arrow:hover:before {color: black;}#sk-container-id-1 div.sk-estimator:hover label.sk-toggleable__label-arrow:before {color: black;}#sk-container-id-1 div.sk-toggleable__content {max-height: 0;max-width: 0;overflow: hidden;text-align: left;background-color: #f0f8ff;}#sk-container-id-1 div.sk-toggleable__content pre {margin: 0.2em;color: black;border-radius: 0.25em;background-color: #f0f8ff;}#sk-container-id-1 input.sk-toggleable__control:checked~div.sk-toggleable__content {max-height: 200px;max-width: 100%;overflow: auto;}#sk-container-id-1 input.sk-toggleable__control:checked~label.sk-toggleable__label-arrow:before {content: \"▾\";}#sk-container-id-1 div.sk-estimator input.sk-toggleable__control:checked~label.sk-toggleable__label {background-color: #d4ebff;}#sk-container-id-1 div.sk-label input.sk-toggleable__control:checked~label.sk-toggleable__label {background-color: #d4ebff;}#sk-container-id-1 input.sk-hidden--visually {border: 0;clip: rect(1px 1px 1px 1px);clip: rect(1px, 1px, 1px, 1px);height: 1px;margin: -1px;overflow: hidden;padding: 0;position: absolute;width: 1px;}#sk-container-id-1 div.sk-estimator {font-family: monospace;background-color: #f0f8ff;border: 1px dotted black;border-radius: 0.25em;box-sizing: border-box;margin-bottom: 0.5em;}#sk-container-id-1 div.sk-estimator:hover {background-color: #d4ebff;}#sk-container-id-1 div.sk-parallel-item::after {content: \"\";width: 100%;border-bottom: 1px solid gray;flex-grow: 1;}#sk-container-id-1 div.sk-label:hover label.sk-toggleable__label {background-color: #d4ebff;}#sk-container-id-1 div.sk-serial::before {content: \"\";position: absolute;border-left: 1px solid gray;box-sizing: border-box;top: 0;bottom: 0;left: 50%;z-index: 0;}#sk-container-id-1 div.sk-serial {display: flex;flex-direction: column;align-items: center;background-color: white;padding-right: 0.2em;padding-left: 0.2em;position: relative;}#sk-container-id-1 div.sk-item {position: relative;z-index: 1;}#sk-container-id-1 div.sk-parallel {display: flex;align-items: stretch;justify-content: center;background-color: white;position: relative;}#sk-container-id-1 div.sk-item::before, #sk-container-id-1 div.sk-parallel-item::before {content: \"\";position: absolute;border-left: 1px solid gray;box-sizing: border-box;top: 0;bottom: 0;left: 50%;z-index: -1;}#sk-container-id-1 div.sk-parallel-item {display: flex;flex-direction: column;z-index: 1;position: relative;background-color: white;}#sk-container-id-1 div.sk-parallel-item:first-child::after {align-self: flex-end;width: 50%;}#sk-container-id-1 div.sk-parallel-item:last-child::after {align-self: flex-start;width: 50%;}#sk-container-id-1 div.sk-parallel-item:only-child::after {width: 0;}#sk-container-id-1 div.sk-dashed-wrapped {border: 1px dashed gray;margin: 0 0.4em 0.5em 0.4em;box-sizing: border-box;padding-bottom: 0.4em;background-color: white;}#sk-container-id-1 div.sk-label label {font-family: monospace;font-weight: bold;display: inline-block;line-height: 1.2em;}#sk-container-id-1 div.sk-label-container {text-align: center;}#sk-container-id-1 div.sk-container {/* jupyter's `normalize.less` sets `[hidden] { display: none; }` but bootstrap.min.css set `[hidden] { display: none !important; }` so we also need the `!important` here to be able to override the default hidden behavior on the sphinx rendered scikit-learn.org. See: https://github.com/scikit-learn/scikit-learn/issues/21755 */display: inline-block !important;position: relative;}#sk-container-id-1 div.sk-text-repr-fallback {display: none;}</style><div id=\"sk-container-id-1\" class=\"sk-top-container\"><div class=\"sk-text-repr-fallback\"><pre>LinearRegression()</pre><b>In a Jupyter environment, please rerun this cell to show the HTML representation or trust the notebook. <br />On GitHub, the HTML representation is unable to render, please try loading this page with nbviewer.org.</b></div><div class=\"sk-container\" hidden><div class=\"sk-item\"><div class=\"sk-estimator sk-toggleable\"><input class=\"sk-toggleable__control sk-hidden--visually\" id=\"sk-estimator-id-1\" type=\"checkbox\" checked><label for=\"sk-estimator-id-1\" class=\"sk-toggleable__label sk-toggleable__label-arrow\">LinearRegression</label><div class=\"sk-toggleable__content\"><pre>LinearRegression()</pre></div></div></div></div></div>"
      ],
      "text/plain": [
       "LinearRegression()"
      ]
     },
     "execution_count": 20,
     "metadata": {},
     "output_type": "execute_result"
    }
   ],
   "source": [
    "# Training the Simple Linear Regression model on the Training set\n",
    "from sklearn.linear_model import LinearRegression\n",
    "from sklearn.metrics import mean_squared_error as msq\n",
    "\n",
    "regressor = LinearRegression()\n",
    "regressor.fit(X_train, y_train)\n"
   ]
  },
  {
   "cell_type": "code",
   "execution_count": 21,
   "metadata": {},
   "outputs": [
    {
     "name": "stdout",
     "output_type": "stream",
     "text": [
      "Training Mean Square Error 84524.01375526348\n"
     ]
    }
   ],
   "source": [
    "# Predicting the Test set and calculate MSE\n",
    "y_pred = regressor.predict(X_train)\n",
    "\n",
    "k = msq(y_pred, y_train)\n",
    "print('Training Mean Square Error', k )\n"
   ]
  },
  {
   "cell_type": "code",
   "execution_count": 22,
   "metadata": {},
   "outputs": [
    {
     "name": "stdout",
     "output_type": "stream",
     "text": [
      "Training Mean Square Error 340613.90421954886\n"
     ]
    }
   ],
   "source": [
    "# Predicting the Test set and calculate MSE\n",
    "x_pred = regressor.predict(X_test)\n",
    "\n",
    "k = msq(x_pred, y_test)\n",
    "print('Training Mean Square Error', k)\n"
   ]
  },
  {
   "cell_type": "code",
   "execution_count": 23,
   "metadata": {},
   "outputs": [
    {
     "data": {
      "text/plain": [
       "37"
      ]
     },
     "execution_count": 23,
     "metadata": {},
     "output_type": "execute_result"
    }
   ],
   "source": [
    "X_train.size"
   ]
  },
  {
   "cell_type": "code",
   "execution_count": 24,
   "metadata": {},
   "outputs": [
    {
     "data": {
      "text/plain": [
       "37"
      ]
     },
     "execution_count": 24,
     "metadata": {},
     "output_type": "execute_result"
    }
   ],
   "source": [
    "y_train.size"
   ]
  },
  {
   "cell_type": "code",
   "execution_count": 25,
   "metadata": {},
   "outputs": [
    {
     "data": {
      "image/png": "[encoded data removed]",
      "text/plain": [
       "<Figure size 432x288 with 1 Axes>"
      ]
     },
     "metadata": {},
     "output_type": "display_data"
    }
   ],
   "source": [
    "# Visualising the Training set results\n",
    "plt.scatter(X_train, y_train, color='red')\n",
    "plt.plot(X_train, regressor.predict(X_train), color='blue')\n",
    "plt.title('overall crimes per 1mm VS violent crime per 100,000')\n",
    "plt.xlabel('Overall per 1mm')\n",
    "plt.ylabel('Violent per 100,00')\n",
    "plt.show()\n"
   ]
  },
  {
   "cell_type": "code",
   "execution_count": 26,
   "metadata": {},
   "outputs": [
    {
     "data": {
      "image/png": "[encoded data removed]",
      "text/plain": [
       "<Figure size 432x288 with 1 Axes>"
      ]
     },
     "metadata": {},
     "output_type": "display_data"
    }
   ],
   "source": [
    "# Visualising the Test set results\n",
    "plt.scatter(X_test, y_test, color='red')\n",
    "plt.plot(X_train, regressor.predict(X_train), color='blue')\n",
    "plt.title('overall crimes per 1mm VS violent crime per 100,000')\n",
    "plt.xlabel('Overall per 1mm')\n",
    "plt.ylabel('Violent per 100,00')\n",
    "plt.show()\n"
   ]
  },
  {
   "cell_type": "code",
   "execution_count": 27,
   "metadata": {},
   "outputs": [],
   "source": [
    "# Linear Regression -> Taking into consideration X2 Violent crimes per 100,000 (X2) and police funds (X3)\n",
    "\n",
    "# Predicting the Violent crimes per 100,000 based on police funds\n",
    "\n",
    "# Get Matrix of features (independent variable) as X\n",
    "X = df.iloc[: , 1:2].values\n",
    "# Dependent Variable Vector as y\n",
    "y = df.iloc[:,2:3].values"
   ]
  },
  {
   "cell_type": "code",
   "execution_count": 28,
   "metadata": {},
   "outputs": [
    {
     "name": "stdout",
     "output_type": "stream",
     "text": [
      "[[ 184]\n",
      " [ 213]\n",
      " [ 347]\n",
      " [ 565]\n",
      " [ 327]\n",
      " [ 260]\n",
      " [ 325]\n",
      " [ 102]\n",
      " [  38]\n",
      " [ 226]\n",
      " [ 137]\n",
      " [ 369]\n",
      " [ 109]\n",
      " [ 809]\n",
      " [  29]\n",
      " [ 245]\n",
      " [ 118]\n",
      " [ 148]\n",
      " [ 387]\n",
      " [  98]\n",
      " [ 608]\n",
      " [ 218]\n",
      " [ 254]\n",
      " [ 697]\n",
      " [ 827]\n",
      " [ 693]\n",
      " [ 448]\n",
      " [ 942]\n",
      " [1017]\n",
      " [ 216]\n",
      " [ 673]\n",
      " [ 989]\n",
      " [ 630]\n",
      " [ 404]\n",
      " [ 692]\n",
      " [1517]\n",
      " [ 879]\n",
      " [ 631]\n",
      " [1375]\n",
      " [1139]\n",
      " [3545]\n",
      " [ 706]\n",
      " [ 451]\n",
      " [ 433]\n",
      " [ 601]\n",
      " [1024]\n",
      " [ 457]\n",
      " [1441]\n",
      " [1022]\n",
      " [1244]]\n"
     ]
    }
   ],
   "source": [
    "print(X)"
   ]
  },
  {
   "cell_type": "code",
   "execution_count": 29,
   "metadata": {},
   "outputs": [
    {
     "name": "stdout",
     "output_type": "stream",
     "text": [
      "[[40]\n",
      " [32]\n",
      " [57]\n",
      " [31]\n",
      " [67]\n",
      " [25]\n",
      " [34]\n",
      " [33]\n",
      " [36]\n",
      " [31]\n",
      " [35]\n",
      " [30]\n",
      " [44]\n",
      " [32]\n",
      " [30]\n",
      " [16]\n",
      " [29]\n",
      " [36]\n",
      " [30]\n",
      " [23]\n",
      " [33]\n",
      " [35]\n",
      " [38]\n",
      " [44]\n",
      " [28]\n",
      " [35]\n",
      " [31]\n",
      " [39]\n",
      " [27]\n",
      " [36]\n",
      " [38]\n",
      " [46]\n",
      " [29]\n",
      " [32]\n",
      " [39]\n",
      " [44]\n",
      " [33]\n",
      " [43]\n",
      " [22]\n",
      " [30]\n",
      " [86]\n",
      " [30]\n",
      " [32]\n",
      " [43]\n",
      " [20]\n",
      " [55]\n",
      " [44]\n",
      " [37]\n",
      " [82]\n",
      " [66]]\n"
     ]
    }
   ],
   "source": [
    "print(y)"
   ]
  },
  {
   "cell_type": "code",
   "execution_count": 30,
   "metadata": {},
   "outputs": [],
   "source": [
    "from sklearn.model_selection import train_test_split\n",
    "X_train, X_test, y_train, y_test = train_test_split(X,y)"
   ]
  },
  {
   "cell_type": "code",
   "execution_count": 31,
   "metadata": {},
   "outputs": [
    {
     "data": {
      "text/html": [
       "<style>#sk-container-id-2 {color: black;background-color: white;}#sk-container-id-2 pre{padding: 0;}#sk-container-id-2 div.sk-toggleable {background-color: white;}#sk-container-id-2 label.sk-toggleable__label {cursor: pointer;display: block;width: 100%;margin-bottom: 0;padding: 0.3em;box-sizing: border-box;text-align: center;}#sk-container-id-2 label.sk-toggleable__label-arrow:before {content: \"▸\";float: left;margin-right: 0.25em;color: #696969;}#sk-container-id-2 label.sk-toggleable__label-arrow:hover:before {color: black;}#sk-container-id-2 div.sk-estimator:hover label.sk-toggleable__label-arrow:before {color: black;}#sk-container-id-2 div.sk-toggleable__content {max-height: 0;max-width: 0;overflow: hidden;text-align: left;background-color: #f0f8ff;}#sk-container-id-2 div.sk-toggleable__content pre {margin: 0.2em;color: black;border-radius: 0.25em;background-color: #f0f8ff;}#sk-container-id-2 input.sk-toggleable__control:checked~div.sk-toggleable__content {max-height: 200px;max-width: 100%;overflow: auto;}#sk-container-id-2 input.sk-toggleable__control:checked~label.sk-toggleable__label-arrow:before {content: \"▾\";}#sk-container-id-2 div.sk-estimator input.sk-toggleable__control:checked~label.sk-toggleable__label {background-color: #d4ebff;}#sk-container-id-2 div.sk-label input.sk-toggleable__control:checked~label.sk-toggleable__label {background-color: #d4ebff;}#sk-container-id-2 input.sk-hidden--visually {border: 0;clip: rect(1px 1px 1px 1px);clip: rect(1px, 1px, 1px, 1px);height: 1px;margin: -1px;overflow: hidden;padding: 0;position: absolute;width: 1px;}#sk-container-id-2 div.sk-estimator {font-family: monospace;background-color: #f0f8ff;border: 1px dotted black;border-radius: 0.25em;box-sizing: border-box;margin-bottom: 0.5em;}#sk-container-id-2 div.sk-estimator:hover {background-color: #d4ebff;}#sk-container-id-2 div.sk-parallel-item::after {content: \"\";width: 100%;border-bottom: 1px solid gray;flex-grow: 1;}#sk-container-id-2 div.sk-label:hover label.sk-toggleable__label {background-color: #d4ebff;}#sk-container-id-2 div.sk-serial::before {content: \"\";position: absolute;border-left: 1px solid gray;box-sizing: border-box;top: 0;bottom: 0;left: 50%;z-index: 0;}#sk-container-id-2 div.sk-serial {display: flex;flex-direction: column;align-items: center;background-color: white;padding-right: 0.2em;padding-left: 0.2em;position: relative;}#sk-container-id-2 div.sk-item {position: relative;z-index: 1;}#sk-container-id-2 div.sk-parallel {display: flex;align-items: stretch;justify-content: center;background-color: white;position: relative;}#sk-container-id-2 div.sk-item::before, #sk-container-id-2 div.sk-parallel-item::before {content: \"\";position: absolute;border-left: 1px solid gray;box-sizing: border-box;top: 0;bottom: 0;left: 50%;z-index: -1;}#sk-container-id-2 div.sk-parallel-item {display: flex;flex-direction: column;z-index: 1;position: relative;background-color: white;}#sk-container-id-2 div.sk-parallel-item:first-child::after {align-self: flex-end;width: 50%;}#sk-container-id-2 div.sk-parallel-item:last-child::after {align-self: flex-start;width: 50%;}#sk-container-id-2 div.sk-parallel-item:only-child::after {width: 0;}#sk-container-id-2 div.sk-dashed-wrapped {border: 1px dashed gray;margin: 0 0.4em 0.5em 0.4em;box-sizing: border-box;padding-bottom: 0.4em;background-color: white;}#sk-container-id-2 div.sk-label label {font-family: monospace;font-weight: bold;display: inline-block;line-height: 1.2em;}#sk-container-id-2 div.sk-label-container {text-align: center;}#sk-container-id-2 div.sk-container {/* jupyter's `normalize.less` sets `[hidden] { display: none; }` but bootstrap.min.css set `[hidden] { display: none !important; }` so we also need the `!important` here to be able to override the default hidden behavior on the sphinx rendered scikit-learn.org. See: https://github.com/scikit-learn/scikit-learn/issues/21755 */display: inline-block !important;position: relative;}#sk-container-id-2 div.sk-text-repr-fallback {display: none;}</style><div id=\"sk-container-id-2\" class=\"sk-top-container\"><div class=\"sk-text-repr-fallback\"><pre>LinearRegression()</pre><b>In a Jupyter environment, please rerun this cell to show the HTML representation or trust the notebook. <br />On GitHub, the HTML representation is unable to render, please try loading this page with nbviewer.org.</b></div><div class=\"sk-container\" hidden><div class=\"sk-item\"><div class=\"sk-estimator sk-toggleable\"><input class=\"sk-toggleable__control sk-hidden--visually\" id=\"sk-estimator-id-2\" type=\"checkbox\" checked><label for=\"sk-estimator-id-2\" class=\"sk-toggleable__label sk-toggleable__label-arrow\">LinearRegression</label><div class=\"sk-toggleable__content\"><pre>LinearRegression()</pre></div></div></div></div></div>"
      ],
      "text/plain": [
       "LinearRegression()"
      ]
     },
     "execution_count": 31,
     "metadata": {},
     "output_type": "execute_result"
    }
   ],
   "source": [
    "# Training the Simple Linear Regression model on the Training set\n",
    "from sklearn.linear_model import LinearRegression\n",
    "from sklearn.metrics import mean_squared_error as msq\n",
    "\n",
    "regressor = LinearRegression()\n",
    "regressor.fit(X_train, y_train)"
   ]
  },
  {
   "cell_type": "code",
   "execution_count": 32,
   "metadata": {},
   "outputs": [
    {
     "name": "stdout",
     "output_type": "stream",
     "text": [
      "Training Mean Square Error 139.26010594584122\n"
     ]
    }
   ],
   "source": [
    "# Predicting the Test set and calculate MSE\n",
    "y_pred = regressor.predict(X_train)\n",
    "\n",
    "k = msq(y_pred, y_train)\n",
    "print('Training Mean Square Error', k )"
   ]
  },
  {
   "cell_type": "code",
   "execution_count": 33,
   "metadata": {},
   "outputs": [
    {
     "name": "stdout",
     "output_type": "stream",
     "text": [
      "Training Mean Square Error 149.40394796007328\n"
     ]
    }
   ],
   "source": [
    "# Predicting the Test set and calculate MSE\n",
    "x_pred = regressor.predict(X_test)\n",
    "\n",
    "k = msq(x_pred, y_test)\n",
    "print('Training Mean Square Error', k)"
   ]
  },
  {
   "cell_type": "code",
   "execution_count": 34,
   "metadata": {},
   "outputs": [
    {
     "data": {
      "image/png": "[encoded data removed]",
      "text/plain": [
       "<Figure size 432x288 with 1 Axes>"
      ]
     },
     "metadata": {},
     "output_type": "display_data"
    }
   ],
   "source": [
    "# Visualising the Training set results\n",
    "plt.scatter(X_train, y_train, color='red')\n",
    "plt.plot(X_train, regressor.predict(X_train), color='blue')\n",
    "plt.title('Violent crimes per 100,000 based on police funds')\n",
    "plt.xlabel('Violent crimes per 100,00')\n",
    "plt.ylabel(' $ Police Funds per resident')\n",
    "plt.show()"
   ]
  },
  {
   "cell_type": "code",
   "execution_count": 35,
   "metadata": {},
   "outputs": [
    {
     "data": {
      "image/png": "[encoded data removed]",
      "text/plain": [
       "<Figure size 432x288 with 1 Axes>"
      ]
     },
     "metadata": {},
     "output_type": "display_data"
    }
   ],
   "source": [
    "# Visualising the Test set results\n",
    "plt.scatter(X_test, y_test, color='red')\n",
    "plt.plot(X_train, regressor.predict(X_train), color='blue')\n",
    "plt.title('Violent crimes per 100,000 based on police funds')\n",
    "plt.xlabel('Violent crimes per 100,00')\n",
    "plt.ylabel(' $ Police Funds per resident')\n",
    "plt.show()"
   ]
  }
 ],
 "metadata": {
  "kernelspec": {
   "display_name": "Python 3.9.13 64-bit (microsoft store)",
   "language": "python",
   "name": "python3"
  },
  "language_info": {
   "codemirror_mode": {
    "name": "ipython",
    "version": 3
   },
   "file_extension": ".py",
   "mimetype": "text/x-python",
   "name": "python",
   "nbconvert_exporter": "python",
   "pygments_lexer": "ipython3",
   "version": "3.9.13"
  },
  "orig_nbformat": 4,
  "vscode": {
   "interpreter": {
    "hash": "09e83f04e46517ea1a03852b22098722c60f5ebfc3f611b0edf7286ad5c15192"
   }
  }
 },
 "nbformat": 4,
 "nbformat_minor": 2
}
