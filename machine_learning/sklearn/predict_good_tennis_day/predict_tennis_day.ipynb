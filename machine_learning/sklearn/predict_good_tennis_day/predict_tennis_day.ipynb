{
 "cells": [
  {
   "cell_type": "markdown",
   "metadata": {},
   "source": [
    "# Marco Stevanella\n",
    "## 101307949\n",
    "### Assignment 2 - Part 1"
   ]
  },
  {
   "cell_type": "code",
   "execution_count": 153,
   "metadata": {},
   "outputs": [],
   "source": [
    "import numpy as np\n",
    "import pandas as pd\n",
    "import sklearn"
   ]
  },
  {
   "cell_type": "code",
   "execution_count": 154,
   "metadata": {},
   "outputs": [],
   "source": [
    "# import the weather.cvs file\n",
    "weather = pd.read_csv('weather.csv')\n",
    "# Get Matrix of features (independent variables) as X\n",
    "X = weather.iloc[: , :-1].values\n",
    "# Dependent Variable Vector as y\n",
    "y = weather.iloc[:, -1].values\n"
   ]
  },
  {
   "cell_type": "code",
   "execution_count": 155,
   "metadata": {},
   "outputs": [
    {
     "name": "stdout",
     "output_type": "stream",
     "text": [
      "array([[10, 0.0, 0, 0.0, 0, 2, 1, 20, 4, 'good'],\n",
      "       [5, 1.0, 40, 0.0, 0, 1, 0, 70, 6, 'good'],\n",
      "       [5, 2.5, 80, 0.0, 0, 1, 0, 80, 6, 'quite good'],\n",
      "       [7, 0.0, 0, 0.0, 0, 11, 3, 50, 4, 'good'],\n",
      "       [15, 0.0, 0, 0.0, 0, 20, 5, 40, 4, 'good'],\n",
      "       [10, 0.0, 0, 0.0, 0, 0, 0, 80, 6, 'not good'],\n",
      "       [7, 0.0, 0, 0.0, 0, 0, 0, 80, 6, 'not good'],\n",
      "       [5, 0.0, 0, 0.0, 0, 11, 2, 60, 4, 'good'],\n",
      "       [4, 0.0, 0, 0.0, 0, 2, 2, 40, 3, 'good'],\n",
      "       [1, 0.1, 30, 0.0, 0, 2, 2, 40, 3, 'good'],\n",
      "       [3, 3.5, 50, 0.0, 0, 2, 0, 80, 6, 'good'],\n",
      "       [-2, 0.0, 0, 0.5, 30, 2, 0, 80, 3, 'quite good'],\n",
      "       [-4, 0.0, 0, 1.5, 70, 4, 0, 80, 2, 'not good'],\n",
      "       [-6, 0.0, 0, 1.5, 50, 8, 0, 80, 2, 'not good'],\n",
      "       [0, 0.0, 0, 0.5, 20, 3, 0, 80, 1, 'quite good'],\n",
      "       [-15, 0.0, 0, 0.0, 0, 17, 5, 50, 1, 'quite good'],\n",
      "       [-10, 0.0, 0, 0.0, 0, 15, 4, 40, 1, 'quite good'],\n",
      "       [20, 0.0, 0, 0.0, 0, 2, 4, 40, 2, 'quite good'],\n",
      "       [25, 10.0, 70, 0.0, 0, 4, 0, 80, 5, 'not good'],\n",
      "       [30, 0.0, 0, 0.0, 0, 2, 10, 67, 5, 'good'],\n",
      "       [35, 0.0, 0, 0.0, 0, 2, 11, 78, 6, 'good'],\n",
      "       [37, 0.0, 0, 0.0, 0, 2, 10, 60, 6, 'good'],\n",
      "       [24, 0.1, 56, 0.0, 0, 4, 1, 70, 5, 'good'],\n",
      "       [21, 0.0, 0, 0.0, 0, 2, 6, 50, 2, 'good'],\n",
      "       [20, 1.0, 40, 0.0, 0, 2, 4, 50, 2, 'good'],\n",
      "       [17, 0.0, 0, 0.0, 0, 6, 5, 50, 2, 'good'],\n",
      "       [15, 2.5, 70, 0.0, 0, 10, 0, 70, 5, 'good'],\n",
      "       [40, 0.0, 0, 0.0, 0, 0, 9, 50, 6, 'good'],\n",
      "       [45, 0.0, 0, 0.0, 0, 0, 10, 55, 7, 'good'],\n",
      "       [4, 0.0, 0, 0.0, 0, 2, 5, 36, 3, 'good'],\n",
      "       [-1, 0.0, 0, 1.0, 30, 2, 1, 25, 2, 'good'],\n",
      "       [-10, 0.0, 0, 0.0, 0, 1, 6, 24, 1, 'good']], dtype=object)\n",
      "array([ True,  True, False,  True, False,  True,  True,  True,  True,\n",
      "        True, False,  True, False, False,  True, False,  True,  True,\n",
      "       False,  True, False, False,  True,  True,  True,  True, False,\n",
      "        True, False,  True,  True,  True])\n"
     ]
    }
   ],
   "source": [
    "# Print X and y \n",
    "print(repr(X))\n",
    "print(repr(y))"
   ]
  },
  {
   "cell_type": "markdown",
   "metadata": {},
   "source": [
    "### What if we have some missing data?\n",
    "#### As I made this data set, I know there in not missing data... but this could not always be the case!"
   ]
  },
  {
   "cell_type": "code",
   "execution_count": 156,
   "metadata": {},
   "outputs": [],
   "source": [
    "# using sklearn we can handle missing data\n",
    "from sklearn.impute import SimpleImputer\n",
    "# create an instance of this class, and specify to replace missing data with the mean\n",
    "imputer = SimpleImputer(missing_values=np.nan, strategy='mean')\n",
    "# fit method will interface the imputer to the Matrix of Features X\n",
    "imputer.fit(X[:,:9])\n",
    "# transform will apply the changes\n",
    "X[:,:9] = imputer.transform(X[:,:9])"
   ]
  },
  {
   "cell_type": "code",
   "execution_count": 157,
   "metadata": {},
   "outputs": [
    {
     "name": "stdout",
     "output_type": "stream",
     "text": [
      "[[10.0 0.0 0.0 0.0 0.0 2.0 1.0 20.0 4.0 'good']\n",
      " [5.0 1.0 40.0 0.0 0.0 1.0 0.0 70.0 6.0 'good']\n",
      " [5.0 2.5 80.0 0.0 0.0 1.0 0.0 80.0 6.0 'quite good']\n",
      " [7.0 0.0 0.0 0.0 0.0 11.0 3.0 50.0 4.0 'good']\n",
      " [15.0 0.0 0.0 0.0 0.0 20.0 5.0 40.0 4.0 'good']\n",
      " [10.0 0.0 0.0 0.0 0.0 0.0 0.0 80.0 6.0 'not good']\n",
      " [7.0 0.0 0.0 0.0 0.0 0.0 0.0 80.0 6.0 'not good']\n",
      " [5.0 0.0 0.0 0.0 0.0 11.0 2.0 60.0 4.0 'good']\n",
      " [4.0 0.0 0.0 0.0 0.0 2.0 2.0 40.0 3.0 'good']\n",
      " [1.0 0.1 30.0 0.0 0.0 2.0 2.0 40.0 3.0 'good']\n",
      " [3.0 3.5 50.0 0.0 0.0 2.0 0.0 80.0 6.0 'good']\n",
      " [-2.0 0.0 0.0 0.5 30.0 2.0 0.0 80.0 3.0 'quite good']\n",
      " [-4.0 0.0 0.0 1.5 70.0 4.0 0.0 80.0 2.0 'not good']\n",
      " [-6.0 0.0 0.0 1.5 50.0 8.0 0.0 80.0 2.0 'not good']\n",
      " [0.0 0.0 0.0 0.5 20.0 3.0 0.0 80.0 1.0 'quite good']\n",
      " [-15.0 0.0 0.0 0.0 0.0 17.0 5.0 50.0 1.0 'quite good']\n",
      " [-10.0 0.0 0.0 0.0 0.0 15.0 4.0 40.0 1.0 'quite good']\n",
      " [20.0 0.0 0.0 0.0 0.0 2.0 4.0 40.0 2.0 'quite good']\n",
      " [25.0 10.0 70.0 0.0 0.0 4.0 0.0 80.0 5.0 'not good']\n",
      " [30.0 0.0 0.0 0.0 0.0 2.0 10.0 67.0 5.0 'good']\n",
      " [35.0 0.0 0.0 0.0 0.0 2.0 11.0 78.0 6.0 'good']\n",
      " [37.0 0.0 0.0 0.0 0.0 2.0 10.0 60.0 6.0 'good']\n",
      " [24.0 0.1 56.0 0.0 0.0 4.0 1.0 70.0 5.0 'good']\n",
      " [21.0 0.0 0.0 0.0 0.0 2.0 6.0 50.0 2.0 'good']\n",
      " [20.0 1.0 40.0 0.0 0.0 2.0 4.0 50.0 2.0 'good']\n",
      " [17.0 0.0 0.0 0.0 0.0 6.0 5.0 50.0 2.0 'good']\n",
      " [15.0 2.5 70.0 0.0 0.0 10.0 0.0 70.0 5.0 'good']\n",
      " [40.0 0.0 0.0 0.0 0.0 0.0 9.0 50.0 6.0 'good']\n",
      " [45.0 0.0 0.0 0.0 0.0 0.0 10.0 55.0 7.0 'good']\n",
      " [4.0 0.0 0.0 0.0 0.0 2.0 5.0 36.0 3.0 'good']\n",
      " [-1.0 0.0 0.0 1.0 30.0 2.0 1.0 25.0 2.0 'good']\n",
      " [-10.0 0.0 0.0 0.0 0.0 1.0 6.0 24.0 1.0 'good']]\n"
     ]
    }
   ],
   "source": [
    "# Check update X\n",
    "print(X)"
   ]
  },
  {
   "cell_type": "markdown",
   "metadata": {},
   "source": [
    "### Encoding the categorical data\n",
    "#### In our case the 'visibility' column has categorical data. Categorical data is represented by a string, and it usually repeats the same string. In the case of visibility is 'good', 'quite good' and 'not good'. We will use what is called 'one hot encoding' to split this column into sub-columns representing the repeated values. The one hot encoding will create binary vectors for each of the repeated values. This is done to avoid numerical order, that could potentially misinterpret the integrity of the column.\n"
   ]
  },
  {
   "cell_type": "code",
   "execution_count": 158,
   "metadata": {},
   "outputs": [
    {
     "data": {
      "text/plain": [
       "array([[1., 0., 0.],\n",
       "       [1., 0., 0.],\n",
       "       [0., 0., 1.],\n",
       "       [1., 0., 0.],\n",
       "       [1., 0., 0.],\n",
       "       [0., 1., 0.],\n",
       "       [0., 1., 0.],\n",
       "       [1., 0., 0.],\n",
       "       [1., 0., 0.],\n",
       "       [1., 0., 0.],\n",
       "       [1., 0., 0.],\n",
       "       [0., 0., 1.],\n",
       "       [0., 1., 0.],\n",
       "       [0., 1., 0.],\n",
       "       [0., 0., 1.],\n",
       "       [0., 0., 1.],\n",
       "       [0., 0., 1.],\n",
       "       [0., 0., 1.],\n",
       "       [0., 1., 0.],\n",
       "       [1., 0., 0.],\n",
       "       [1., 0., 0.],\n",
       "       [1., 0., 0.],\n",
       "       [1., 0., 0.],\n",
       "       [1., 0., 0.],\n",
       "       [1., 0., 0.],\n",
       "       [1., 0., 0.],\n",
       "       [1., 0., 0.],\n",
       "       [1., 0., 0.],\n",
       "       [1., 0., 0.],\n",
       "       [1., 0., 0.],\n",
       "       [1., 0., 0.],\n",
       "       [1., 0., 0.]])"
      ]
     },
     "execution_count": 158,
     "metadata": {},
     "output_type": "execute_result"
    }
   ],
   "source": [
    "# first let's encode the Dependent Variable 'visibility'\n",
    "from sklearn.compose import ColumnTransformer\n",
    "from sklearn.preprocessing import OneHotEncoder\n",
    "\n",
    "ct = ColumnTransformer(transformers=[('encoder', OneHotEncoder(), [9])], remainder='drop')\n",
    "X_visibility_enc = np.array(ct.fit_transform(X))\n",
    "X_visibility_enc\n",
    "\n"
   ]
  },
  {
   "cell_type": "code",
   "execution_count": 159,
   "metadata": {},
   "outputs": [
    {
     "name": "stdout",
     "output_type": "stream",
     "text": [
      "[[10.0 0.0 0.0 0.0 0.0 2.0 1.0 20.0 4.0 1.0 0.0 0.0]\n",
      " [5.0 1.0 40.0 0.0 0.0 1.0 0.0 70.0 6.0 1.0 0.0 0.0]\n",
      " [5.0 2.5 80.0 0.0 0.0 1.0 0.0 80.0 6.0 0.0 0.0 1.0]\n",
      " [7.0 0.0 0.0 0.0 0.0 11.0 3.0 50.0 4.0 1.0 0.0 0.0]\n",
      " [15.0 0.0 0.0 0.0 0.0 20.0 5.0 40.0 4.0 1.0 0.0 0.0]\n",
      " [10.0 0.0 0.0 0.0 0.0 0.0 0.0 80.0 6.0 0.0 1.0 0.0]\n",
      " [7.0 0.0 0.0 0.0 0.0 0.0 0.0 80.0 6.0 0.0 1.0 0.0]\n",
      " [5.0 0.0 0.0 0.0 0.0 11.0 2.0 60.0 4.0 1.0 0.0 0.0]\n",
      " [4.0 0.0 0.0 0.0 0.0 2.0 2.0 40.0 3.0 1.0 0.0 0.0]\n",
      " [1.0 0.1 30.0 0.0 0.0 2.0 2.0 40.0 3.0 1.0 0.0 0.0]\n",
      " [3.0 3.5 50.0 0.0 0.0 2.0 0.0 80.0 6.0 1.0 0.0 0.0]\n",
      " [-2.0 0.0 0.0 0.5 30.0 2.0 0.0 80.0 3.0 0.0 0.0 1.0]\n",
      " [-4.0 0.0 0.0 1.5 70.0 4.0 0.0 80.0 2.0 0.0 1.0 0.0]\n",
      " [-6.0 0.0 0.0 1.5 50.0 8.0 0.0 80.0 2.0 0.0 1.0 0.0]\n",
      " [0.0 0.0 0.0 0.5 20.0 3.0 0.0 80.0 1.0 0.0 0.0 1.0]\n",
      " [-15.0 0.0 0.0 0.0 0.0 17.0 5.0 50.0 1.0 0.0 0.0 1.0]\n",
      " [-10.0 0.0 0.0 0.0 0.0 15.0 4.0 40.0 1.0 0.0 0.0 1.0]\n",
      " [20.0 0.0 0.0 0.0 0.0 2.0 4.0 40.0 2.0 0.0 0.0 1.0]\n",
      " [25.0 10.0 70.0 0.0 0.0 4.0 0.0 80.0 5.0 0.0 1.0 0.0]\n",
      " [30.0 0.0 0.0 0.0 0.0 2.0 10.0 67.0 5.0 1.0 0.0 0.0]\n",
      " [35.0 0.0 0.0 0.0 0.0 2.0 11.0 78.0 6.0 1.0 0.0 0.0]\n",
      " [37.0 0.0 0.0 0.0 0.0 2.0 10.0 60.0 6.0 1.0 0.0 0.0]\n",
      " [24.0 0.1 56.0 0.0 0.0 4.0 1.0 70.0 5.0 1.0 0.0 0.0]\n",
      " [21.0 0.0 0.0 0.0 0.0 2.0 6.0 50.0 2.0 1.0 0.0 0.0]\n",
      " [20.0 1.0 40.0 0.0 0.0 2.0 4.0 50.0 2.0 1.0 0.0 0.0]\n",
      " [17.0 0.0 0.0 0.0 0.0 6.0 5.0 50.0 2.0 1.0 0.0 0.0]\n",
      " [15.0 2.5 70.0 0.0 0.0 10.0 0.0 70.0 5.0 1.0 0.0 0.0]\n",
      " [40.0 0.0 0.0 0.0 0.0 0.0 9.0 50.0 6.0 1.0 0.0 0.0]\n",
      " [45.0 0.0 0.0 0.0 0.0 0.0 10.0 55.0 7.0 1.0 0.0 0.0]\n",
      " [4.0 0.0 0.0 0.0 0.0 2.0 5.0 36.0 3.0 1.0 0.0 0.0]\n",
      " [-1.0 0.0 0.0 1.0 30.0 2.0 1.0 25.0 2.0 1.0 0.0 0.0]\n",
      " [-10.0 0.0 0.0 0.0 0.0 1.0 6.0 24.0 1.0 1.0 0.0 0.0]]\n"
     ]
    }
   ],
   "source": [
    "# To keep the column in the same position\n",
    "X = np.delete(X, np.s_[-1], axis=1)\n",
    "X = np.hstack((X,X_visibility_enc))\n",
    "print(X)\n"
   ]
  },
  {
   "cell_type": "code",
   "execution_count": 160,
   "metadata": {},
   "outputs": [
    {
     "name": "stdout",
     "output_type": "stream",
     "text": [
      "[1 1 0 1 0 1 1 1 1 1 0 1 0 0 1 0 1 1 0 1 0 0 1 1 1 1 0 1 0 1 1 1]\n"
     ]
    }
   ],
   "source": [
    "# Encode the Dependant Variable\n",
    "from sklearn.preprocessing import LabelEncoder\n",
    "le = LabelEncoder()\n",
    "y = le.fit_transform(y)\n",
    "print(y)"
   ]
  },
  {
   "cell_type": "markdown",
   "metadata": {},
   "source": [
    "### Training and Testing \n",
    "#### 80 % trining \n",
    "#### 20 % Test"
   ]
  },
  {
   "cell_type": "code",
   "execution_count": 161,
   "metadata": {},
   "outputs": [],
   "source": [
    "from sklearn.model_selection import train_test_split\n",
    "X_train, X_test, y_train, y_test = train_test_split(X,y, test_size = 0.2)"
   ]
  },
  {
   "cell_type": "code",
   "execution_count": 162,
   "metadata": {},
   "outputs": [
    {
     "name": "stdout",
     "output_type": "stream",
     "text": [
      "[[10.0 0.0 0.0 0.0 0.0 0.0 0.0 80.0 6.0 0.0 1.0 0.0]\n",
      " [7.0 0.0 0.0 0.0 0.0 11.0 3.0 50.0 4.0 1.0 0.0 0.0]\n",
      " [40.0 0.0 0.0 0.0 0.0 0.0 9.0 50.0 6.0 1.0 0.0 0.0]\n",
      " [20.0 0.0 0.0 0.0 0.0 2.0 4.0 40.0 2.0 0.0 0.0 1.0]\n",
      " [3.0 3.5 50.0 0.0 0.0 2.0 0.0 80.0 6.0 1.0 0.0 0.0]\n",
      " [35.0 0.0 0.0 0.0 0.0 2.0 11.0 78.0 6.0 1.0 0.0 0.0]\n",
      " [-10.0 0.0 0.0 0.0 0.0 15.0 4.0 40.0 1.0 0.0 0.0 1.0]\n",
      " [15.0 0.0 0.0 0.0 0.0 20.0 5.0 40.0 4.0 1.0 0.0 0.0]\n",
      " [17.0 0.0 0.0 0.0 0.0 6.0 5.0 50.0 2.0 1.0 0.0 0.0]\n",
      " [1.0 0.1 30.0 0.0 0.0 2.0 2.0 40.0 3.0 1.0 0.0 0.0]\n",
      " [0.0 0.0 0.0 0.5 20.0 3.0 0.0 80.0 1.0 0.0 0.0 1.0]\n",
      " [5.0 0.0 0.0 0.0 0.0 11.0 2.0 60.0 4.0 1.0 0.0 0.0]\n",
      " [-1.0 0.0 0.0 1.0 30.0 2.0 1.0 25.0 2.0 1.0 0.0 0.0]\n",
      " [-6.0 0.0 0.0 1.5 50.0 8.0 0.0 80.0 2.0 0.0 1.0 0.0]\n",
      " [-10.0 0.0 0.0 0.0 0.0 1.0 6.0 24.0 1.0 1.0 0.0 0.0]\n",
      " [37.0 0.0 0.0 0.0 0.0 2.0 10.0 60.0 6.0 1.0 0.0 0.0]\n",
      " [45.0 0.0 0.0 0.0 0.0 0.0 10.0 55.0 7.0 1.0 0.0 0.0]\n",
      " [30.0 0.0 0.0 0.0 0.0 2.0 10.0 67.0 5.0 1.0 0.0 0.0]\n",
      " [-2.0 0.0 0.0 0.5 30.0 2.0 0.0 80.0 3.0 0.0 0.0 1.0]\n",
      " [20.0 1.0 40.0 0.0 0.0 2.0 4.0 50.0 2.0 1.0 0.0 0.0]\n",
      " [10.0 0.0 0.0 0.0 0.0 2.0 1.0 20.0 4.0 1.0 0.0 0.0]\n",
      " [25.0 10.0 70.0 0.0 0.0 4.0 0.0 80.0 5.0 0.0 1.0 0.0]\n",
      " [4.0 0.0 0.0 0.0 0.0 2.0 5.0 36.0 3.0 1.0 0.0 0.0]\n",
      " [4.0 0.0 0.0 0.0 0.0 2.0 2.0 40.0 3.0 1.0 0.0 0.0]\n",
      " [21.0 0.0 0.0 0.0 0.0 2.0 6.0 50.0 2.0 1.0 0.0 0.0]]\n"
     ]
    }
   ],
   "source": [
    "# Training X\n",
    "# 25 rows -> 80% taken randomly from the dataset\n",
    "print(X_train)\n"
   ]
  },
  {
   "cell_type": "code",
   "execution_count": 163,
   "metadata": {},
   "outputs": [
    {
     "name": "stdout",
     "output_type": "stream",
     "text": [
      "[[15.0 2.5 70.0 0.0 0.0 10.0 0.0 70.0 5.0 1.0 0.0 0.0]\n",
      " [5.0 1.0 40.0 0.0 0.0 1.0 0.0 70.0 6.0 1.0 0.0 0.0]\n",
      " [24.0 0.1 56.0 0.0 0.0 4.0 1.0 70.0 5.0 1.0 0.0 0.0]\n",
      " [7.0 0.0 0.0 0.0 0.0 0.0 0.0 80.0 6.0 0.0 1.0 0.0]\n",
      " [-15.0 0.0 0.0 0.0 0.0 17.0 5.0 50.0 1.0 0.0 0.0 1.0]\n",
      " [5.0 2.5 80.0 0.0 0.0 1.0 0.0 80.0 6.0 0.0 0.0 1.0]\n",
      " [-4.0 0.0 0.0 1.5 70.0 4.0 0.0 80.0 2.0 0.0 1.0 0.0]]\n"
     ]
    }
   ],
   "source": [
    "# Testing y\n",
    "# 7 rows -> 20% taken randomly from the dataset\n",
    "print(X_test)\n"
   ]
  },
  {
   "cell_type": "code",
   "execution_count": 164,
   "metadata": {},
   "outputs": [
    {
     "name": "stdout",
     "output_type": "stream",
     "text": [
      "[1 1 1 1 0 0 1 0 1 1 1 1 1 0 1 0 0 1 1 1 1 0 1 1 1]\n"
     ]
    }
   ],
   "source": [
    "# 25 playable days -> 1 = TRUE, 0 = FALSE\n",
    "# These decisions are based on the X_train data set\n",
    "print(y_train)\n"
   ]
  },
  {
   "cell_type": "code",
   "execution_count": 165,
   "metadata": {},
   "outputs": [
    {
     "name": "stdout",
     "output_type": "stream",
     "text": [
      "[0 1 1 1 0 0 0]\n"
     ]
    }
   ],
   "source": [
    "# 7 playable days -> 1 = TRUE, 0 = FALSE\n",
    "# These decisions are based on the X_train data set\n",
    "print(y_test)\n"
   ]
  },
  {
   "cell_type": "markdown",
   "metadata": {},
   "source": [
    "#### Future Scaling \n",
    "prevent a feature to prevent in another "
   ]
  },
  {
   "cell_type": "markdown",
   "metadata": {},
   "source": [
    "![image](future_scaling.png)\n"
   ]
  },
  {
   "cell_type": "code",
   "execution_count": 166,
   "metadata": {},
   "outputs": [],
   "source": [
    "from sklearn.preprocessing import StandardScaler\n",
    "sc = StandardScaler()\n",
    "X_train[:,:9] = sc.fit_transform(X_train[:,:9])\n",
    "X_test[:,:9] = sc.transform(X_test[:,:9])"
   ]
  },
  {
   "cell_type": "code",
   "execution_count": 167,
   "metadata": {},
   "outputs": [
    {
     "name": "stdout",
     "output_type": "stream",
     "text": [
      "[[-0.18134471605279398 -0.28532500632654095 -0.41323881687583786\n",
      "  -0.38769414293519794 -0.40986832972763065 -0.8544778817097172\n",
      "  -1.118033988749895 1.3482929269675192 1.3251783128981587 0.0 1.0 0.0]\n",
      " [-0.3756426261093589 -0.28532500632654095 -0.41323881687583786\n",
      "  -0.38769414293519794 -0.40986832972763065 1.3834403799109705\n",
      "  -0.2795084971874737 -0.21948954625052655 0.22086305214969307 1.0 0.0\n",
      "  0.0]\n",
      " [1.7616343845128553 -0.28532500632654095 -0.41323881687583786\n",
      "  -0.38769414293519794 -0.40986832972763065 -0.8544778817097172\n",
      "  1.3975424859373686 -0.21948954625052655 1.3251783128981587 1.0 0.0 0.0]\n",
      " [0.46631498413575573 -0.28532500632654095 -0.41323881687583786\n",
      "  -0.38769414293519794 -0.40986832972763065 -0.44758365232413755 0.0\n",
      "  -0.7420837039898751 -0.8834522085987726 0.0 0.0 1.0]\n",
      " [-0.6347065061847788 1.4246707507674545 2.3054376099388847\n",
      "  -0.38769414293519794 -0.40986832972763065 -0.44758365232413755\n",
      "  -1.118033988749895 1.3482929269675192 1.3251783128981587 1.0 0.0 0.0]\n",
      " [1.4378045344185804 -0.28532500632654095 -0.41323881687583786\n",
      "  -0.38769414293519794 -0.40986832972763065 -0.44758365232413755\n",
      "  1.956559480312316 1.2437740954196495 1.3251783128981587 1.0 0.0 0.0]\n",
      " [-1.4766641164298935 -0.28532500632654095 -0.41323881687583786\n",
      "  -0.38769414293519794 -0.40986832972763065 2.19722883868213 0.0\n",
      "  -0.7420837039898751 -1.4356098389730054 0.0 0.0 1.0]\n",
      " [0.1424851340414809 -0.28532500632654095 -0.41323881687583786\n",
      "  -0.38769414293519794 -0.40986832972763065 3.2144644121460786\n",
      "  0.2795084971874737 -0.7420837039898751 0.22086305214969307 1.0 0.0 0.0]\n",
      " [0.27201707407919085 -0.28532500632654095 -0.41323881687583786\n",
      "  -0.38769414293519794 -0.40986832972763065 0.3662048064470216\n",
      "  0.2795084971874737 -0.21948954625052655 -0.8834522085987726 1.0 0.0 0.0]\n",
      " [-0.7642384462224887 -0.23646798469528396 1.2179670392129958\n",
      "  -0.38769414293519794 -0.40986832972763065 -0.44758365232413755\n",
      "  -0.5590169943749475 -0.7420837039898751 -0.3312945782245397 1.0 0.0 0.0]\n",
      " [-0.8290044162413437 -0.28532500632654095 -0.41323881687583786\n",
      "  0.9969277961190803 1.1665483230709488 -0.24413653763134777\n",
      "  -1.118033988749895 1.3482929269675192 -1.4356098389730054 0.0 0.0 1.0]\n",
      " [-0.5051745661470688 -0.28532500632654095 -0.41323881687583786\n",
      "  -0.38769414293519794 -0.40986832972763065 1.3834403799109705\n",
      "  -0.5590169943749475 0.303104611488822 0.22086305214969307 1.0 0.0 0.0]\n",
      " [-0.8937703862601987 -0.28532500632654095 -0.41323881687583786\n",
      "  2.3815497351733588 1.9547566494702386 -0.44758365232413755\n",
      "  -0.8385254915624212 -1.525974940598898 -0.8834522085987726 1.0 0.0 0.0]\n",
      " [-1.2176002363544736 -0.28532500632654095 -0.41323881687583786\n",
      "  3.7661716742276363 3.531173302268818 0.7730990358326011\n",
      "  -1.118033988749895 1.3482929269675192 -0.8834522085987726 0.0 1.0 0.0]\n",
      " [-1.4766641164298935 -0.28532500632654095 -0.41323881687583786\n",
      "  -0.38769414293519794 -0.40986832972763065 -0.6510307670169273\n",
      "  0.5590169943749475 -1.578234356372833 -1.4356098389730054 1.0 0.0 0.0]\n",
      " [1.5673364744562903 -0.28532500632654095 -0.41323881687583786\n",
      "  -0.38769414293519794 -0.40986832972763065 -0.44758365232413755\n",
      "  1.6770509831248424 0.303104611488822 1.3251783128981587 1.0 0.0 0.0]\n",
      " [2.08546423460713 -0.28532500632654095 -0.41323881687583786\n",
      "  -0.38769414293519794 -0.40986832972763065 -0.8544778817097172\n",
      "  1.6770509831248424 0.041807532619147734 1.8773359432723915 1.0 0.0 0.0]\n",
      " [1.1139746843243055 -0.28532500632654095 -0.41323881687583786\n",
      "  -0.38769414293519794 -0.40986832972763065 -0.44758365232413755\n",
      "  1.6770509831248424 0.6689205219063661 0.7730206825239259 1.0 0.0 0.0]\n",
      " [-0.9585363562790536 -0.28532500632654095 -0.41323881687583786\n",
      "  0.9969277961190803 1.9547566494702386 -0.44758365232413755\n",
      "  -1.118033988749895 1.3482929269675192 -0.3312945782245397 0.0 0.0 1.0]\n",
      " [0.46631498413575573 0.2032452099860292 1.7617023245759402\n",
      "  -0.38769414293519794 -0.40986832972763065 -0.44758365232413755 0.0\n",
      "  -0.21948954625052655 -0.8834522085987726 1.0 0.0 0.0]\n",
      " [-0.18134471605279398 -0.28532500632654095 -0.41323881687583786\n",
      "  -0.38769414293519794 -0.40986832972763065 -0.44758365232413755\n",
      "  -0.8385254915624212 -1.7872720194685723 0.22086305214969307 1.0 0.0 0.0]\n",
      " [0.7901448342300306 4.600377156799161 3.392908180664774\n",
      "  -0.38769414293519794 -0.40986832972763065 -0.04068942293855799\n",
      "  -1.118033988749895 1.3482929269675192 0.7730206825239259 0.0 1.0 0.0]\n",
      " [-0.5699405361659238 -0.28532500632654095 -0.41323881687583786\n",
      "  -0.38769414293519794 -0.40986832972763065 -0.44758365232413755\n",
      "  0.2795084971874737 -0.9511213670856146 -0.3312945782245397 1.0 0.0 0.0]\n",
      " [-0.5699405361659238 -0.28532500632654095 -0.41323881687583786\n",
      "  -0.38769414293519794 -0.40986832972763065 -0.44758365232413755\n",
      "  -0.5590169943749475 -0.7420837039898751 -0.3312945782245397 1.0 0.0 0.0]\n",
      " [0.5310809541546108 -0.28532500632654095 -0.41323881687583786\n",
      "  -0.38769414293519794 -0.40986832972763065 -0.44758365232413755\n",
      "  0.5590169943749475 -0.21948954625052655 -0.8834522085987726 1.0 0.0 0.0]]\n"
     ]
    }
   ],
   "source": [
    "print(X_train)\n"
   ]
  },
  {
   "cell_type": "code",
   "execution_count": 168,
   "metadata": {},
   "outputs": [
    {
     "name": "stdout",
     "output_type": "stream",
     "text": [
      "[[0.1424851340414809 0.9361005344548844 3.392908180664774\n",
      "  -0.38769414293519794 -0.40986832972763065 1.1799932652181808\n",
      "  -1.118033988749895 0.8256987692281706 0.7730206825239259 1.0 0.0 0.0]\n",
      " [-0.5051745661470688 0.2032452099860292 1.7617023245759402\n",
      "  -0.38769414293519794 -0.40986832972763065 -0.6510307670169273\n",
      "  -1.118033988749895 0.8256987692281706 1.3251783128981587 1.0 0.0 0.0]\n",
      " [0.7253788642111756 -0.23646798469528396 2.6316787811566513\n",
      "  -0.38769414293519794 -0.40986832972763065 -0.04068942293855799\n",
      "  -0.8385254915624212 0.8256987692281706 0.7730206825239259 1.0 0.0 0.0]\n",
      " [-0.3756426261093589 -0.28532500632654095 -0.41323881687583786\n",
      "  -0.38769414293519794 -0.40986832972763065 -0.8544778817097172\n",
      "  -1.118033988749895 1.3482929269675192 1.3251783128981587 0.0 1.0 0.0]\n",
      " [-1.8004939665241684 -0.28532500632654095 -0.41323881687583786\n",
      "  -0.38769414293519794 -0.40986832972763065 2.604123068067709\n",
      "  0.2795084971874737 -0.21948954625052655 -1.4356098389730054 0.0 0.0 1.0]\n",
      " [-0.5051745661470688 0.9361005344548844 3.9366434660277188\n",
      "  -0.38769414293519794 -0.40986832972763065 -0.6510307670169273\n",
      "  -1.118033988749895 1.3482929269675192 1.3251783128981587 0.0 0.0 1.0]\n",
      " [-1.0880682963167636 -0.28532500632654095 -0.41323881687583786\n",
      "  3.7661716742276363 5.1075899550673975 -0.04068942293855799\n",
      "  -1.118033988749895 1.3482929269675192 -0.8834522085987726 0.0 1.0 0.0]]\n"
     ]
    }
   ],
   "source": [
    "print(X_test)\n"
   ]
  },
  {
   "cell_type": "code",
   "execution_count": 169,
   "metadata": {},
   "outputs": [
    {
     "data": {
      "text/html": [
       "<style>#sk-container-id-8 {color: black;background-color: white;}#sk-container-id-8 pre{padding: 0;}#sk-container-id-8 div.sk-toggleable {background-color: white;}#sk-container-id-8 label.sk-toggleable__label {cursor: pointer;display: block;width: 100%;margin-bottom: 0;padding: 0.3em;box-sizing: border-box;text-align: center;}#sk-container-id-8 label.sk-toggleable__label-arrow:before {content: \"▸\";float: left;margin-right: 0.25em;color: #696969;}#sk-container-id-8 label.sk-toggleable__label-arrow:hover:before {color: black;}#sk-container-id-8 div.sk-estimator:hover label.sk-toggleable__label-arrow:before {color: black;}#sk-container-id-8 div.sk-toggleable__content {max-height: 0;max-width: 0;overflow: hidden;text-align: left;background-color: #f0f8ff;}#sk-container-id-8 div.sk-toggleable__content pre {margin: 0.2em;color: black;border-radius: 0.25em;background-color: #f0f8ff;}#sk-container-id-8 input.sk-toggleable__control:checked~div.sk-toggleable__content {max-height: 200px;max-width: 100%;overflow: auto;}#sk-container-id-8 input.sk-toggleable__control:checked~label.sk-toggleable__label-arrow:before {content: \"▾\";}#sk-container-id-8 div.sk-estimator input.sk-toggleable__control:checked~label.sk-toggleable__label {background-color: #d4ebff;}#sk-container-id-8 div.sk-label input.sk-toggleable__control:checked~label.sk-toggleable__label {background-color: #d4ebff;}#sk-container-id-8 input.sk-hidden--visually {border: 0;clip: rect(1px 1px 1px 1px);clip: rect(1px, 1px, 1px, 1px);height: 1px;margin: -1px;overflow: hidden;padding: 0;position: absolute;width: 1px;}#sk-container-id-8 div.sk-estimator {font-family: monospace;background-color: #f0f8ff;border: 1px dotted black;border-radius: 0.25em;box-sizing: border-box;margin-bottom: 0.5em;}#sk-container-id-8 div.sk-estimator:hover {background-color: #d4ebff;}#sk-container-id-8 div.sk-parallel-item::after {content: \"\";width: 100%;border-bottom: 1px solid gray;flex-grow: 1;}#sk-container-id-8 div.sk-label:hover label.sk-toggleable__label {background-color: #d4ebff;}#sk-container-id-8 div.sk-serial::before {content: \"\";position: absolute;border-left: 1px solid gray;box-sizing: border-box;top: 0;bottom: 0;left: 50%;z-index: 0;}#sk-container-id-8 div.sk-serial {display: flex;flex-direction: column;align-items: center;background-color: white;padding-right: 0.2em;padding-left: 0.2em;position: relative;}#sk-container-id-8 div.sk-item {position: relative;z-index: 1;}#sk-container-id-8 div.sk-parallel {display: flex;align-items: stretch;justify-content: center;background-color: white;position: relative;}#sk-container-id-8 div.sk-item::before, #sk-container-id-8 div.sk-parallel-item::before {content: \"\";position: absolute;border-left: 1px solid gray;box-sizing: border-box;top: 0;bottom: 0;left: 50%;z-index: -1;}#sk-container-id-8 div.sk-parallel-item {display: flex;flex-direction: column;z-index: 1;position: relative;background-color: white;}#sk-container-id-8 div.sk-parallel-item:first-child::after {align-self: flex-end;width: 50%;}#sk-container-id-8 div.sk-parallel-item:last-child::after {align-self: flex-start;width: 50%;}#sk-container-id-8 div.sk-parallel-item:only-child::after {width: 0;}#sk-container-id-8 div.sk-dashed-wrapped {border: 1px dashed gray;margin: 0 0.4em 0.5em 0.4em;box-sizing: border-box;padding-bottom: 0.4em;background-color: white;}#sk-container-id-8 div.sk-label label {font-family: monospace;font-weight: bold;display: inline-block;line-height: 1.2em;}#sk-container-id-8 div.sk-label-container {text-align: center;}#sk-container-id-8 div.sk-container {/* jupyter's `normalize.less` sets `[hidden] { display: none; }` but bootstrap.min.css set `[hidden] { display: none !important; }` so we also need the `!important` here to be able to override the default hidden behavior on the sphinx rendered scikit-learn.org. See: https://github.com/scikit-learn/scikit-learn/issues/21755 */display: inline-block !important;position: relative;}#sk-container-id-8 div.sk-text-repr-fallback {display: none;}</style><div id=\"sk-container-id-8\" class=\"sk-top-container\"><div class=\"sk-text-repr-fallback\"><pre>DecisionTreeClassifier()</pre><b>In a Jupyter environment, please rerun this cell to show the HTML representation or trust the notebook. <br />On GitHub, the HTML representation is unable to render, please try loading this page with nbviewer.org.</b></div><div class=\"sk-container\" hidden><div class=\"sk-item\"><div class=\"sk-estimator sk-toggleable\"><input class=\"sk-toggleable__control sk-hidden--visually\" id=\"sk-estimator-id-8\" type=\"checkbox\" checked><label for=\"sk-estimator-id-8\" class=\"sk-toggleable__label sk-toggleable__label-arrow\">DecisionTreeClassifier</label><div class=\"sk-toggleable__content\"><pre>DecisionTreeClassifier()</pre></div></div></div></div></div>"
      ],
      "text/plain": [
       "DecisionTreeClassifier()"
      ]
     },
     "execution_count": 169,
     "metadata": {},
     "output_type": "execute_result"
    }
   ],
   "source": [
    "from sklearn import tree\n",
    "classifier = tree.DecisionTreeClassifier()\n",
    "classifier.fit(X_train,y_train)"
   ]
  },
  {
   "cell_type": "code",
   "execution_count": 170,
   "metadata": {},
   "outputs": [
    {
     "name": "stdout",
     "output_type": "stream",
     "text": [
      "[0 1 1 1 1 0 0]\n",
      "[0 1 1 1 0 0 0]\n"
     ]
    }
   ],
   "source": [
    "predictions = classifier.predict(X_test)\n",
    "print(predictions)\n",
    "print(y_test)"
   ]
  },
  {
   "cell_type": "code",
   "execution_count": 171,
   "metadata": {},
   "outputs": [
    {
     "name": "stdout",
     "output_type": "stream",
     "text": [
      "0.8571428571428571\n"
     ]
    }
   ],
   "source": [
    "from sklearn.metrics import accuracy_score\n",
    "print(accuracy_score(y_test, predictions))"
   ]
  },
  {
   "cell_type": "code",
   "execution_count": 172,
   "metadata": {},
   "outputs": [
    {
     "name": "stdout",
     "output_type": "stream",
     "text": [
      "['temperatures' 'rain' 'rain_duration' 'snow' 'snow_duration' 'wind' 'uv'\n",
      " 'humidity' 'air_quality' 'good' 'quite good' 'not good']\n",
      "['TRUE' 'FALSE']\n"
     ]
    }
   ],
   "source": [
    "columns = np.array(weather.columns.values)\n",
    "features = columns[:-2]\n",
    "extra_columns = [\"good\",\"quite good\",\"not good\"]\n",
    "features = np.concatenate((features, extra_columns))\n",
    "print(features)\n",
    "options = np.array([\"TRUE\",\"FALSE\"])\n",
    "print(options)\n"
   ]
  },
  {
   "cell_type": "code",
   "execution_count": 173,
   "metadata": {},
   "outputs": [
    {
     "data": {
      "text/plain": [
       "True"
      ]
     },
     "execution_count": 173,
     "metadata": {},
     "output_type": "execute_result"
    }
   ],
   "source": [
    "import pydotplus\n",
    "\n",
    "dot_data = tree.export_graphviz(\n",
    " classifier,\n",
    " out_file=None,\n",
    " feature_names=features,\n",
    " class_names=options,\n",
    " filled=True,\n",
    " rounded=True,\n",
    " special_characters=True\n",
    ")\n",
    "graph = pydotplus.graph_from_dot_data(dot_data)\n",
    "graph.write_pdf(\"tennis_predict.pdf\")"
   ]
  }
 ],
 "metadata": {
  "kernelspec": {
   "display_name": "Python 3.9.13 64-bit (microsoft store)",
   "language": "python",
   "name": "python3"
  },
  "language_info": {
   "codemirror_mode": {
    "name": "ipython",
    "version": 3
   },
   "file_extension": ".py",
   "mimetype": "text/x-python",
   "name": "python",
   "nbconvert_exporter": "python",
   "pygments_lexer": "ipython3",
   "version": "3.9.13"
  },
  "orig_nbformat": 4,
  "vscode": {
   "interpreter": {
    "hash": "09e83f04e46517ea1a03852b22098722c60f5ebfc3f611b0edf7286ad5c15192"
   }
  }
 },
 "nbformat": 4,
 "nbformat_minor": 2
}
